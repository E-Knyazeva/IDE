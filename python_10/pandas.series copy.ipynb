import pandas as pd
countries = pd.Series(data = ['England', 'Canada', 'USA', 'Ukraine', 'Russia', 'Belarus', 'Kazakhstan'], index = ['UK', 'CA', 'US','UA','RU', 'BY','KZ'], name = 'countries')
display(countries)