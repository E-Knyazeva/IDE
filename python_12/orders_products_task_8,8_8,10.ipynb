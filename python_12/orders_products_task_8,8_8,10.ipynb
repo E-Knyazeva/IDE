{
 "cells": [
  {
   "cell_type": "code",
   "execution_count": 4,
   "metadata": {},
   "outputs": [],
   "source": [
    "import pandas as pd\n",
    "orders = pd.read_csv('D:\\курс по data science\\IDE\\python_12\\data\\orders_and_products\\orders.csv', sep=';')\n",
    "products = pd.read_csv('D:\\курс по data science\\IDE\\python_12\\data\\orders_and_products\\products.csv', sep=';')\n"
   ]
  },
  {
   "cell_type": "code",
   "execution_count": 8,
   "metadata": {},
   "outputs": [
    {
     "name": "stdout",
     "output_type": "stream",
     "text": [
      "          Дата создания  Order ID  ID Покупателя  \\\n",
      "13  08.11.2019 08:36:21         2              7   \n",
      "14  08.11.2019 08:36:20         1              5   \n",
      "15  08.11.2019 08:36:20         1              5   \n",
      "16  08.11.2019 08:36:20         1              5   \n",
      "17  01.01.2001 00:00:00         0              1   \n",
      "\n",
      "                             Статус Оплачен Отменен Отгружен  ID товара  \\\n",
      "13                         Выполнен      Да     Нет       Да         47   \n",
      "14  Оплачен, формируется к отправке      Да     Нет      Нет         71   \n",
      "15  Оплачен, формируется к отправке      Да     Нет      Нет         86   \n",
      "16  Оплачен, формируется к отправке      Да     Нет      Нет         51   \n",
      "17  Оплачен, формируется к отправке      Да     Нет      Нет        666   \n",
      "\n",
      "    Количество  \n",
      "13           1  \n",
      "14           1  \n",
      "15           1  \n",
      "16           1  \n",
      "17           1  \n"
     ]
    }
   ],
   "source": [
    "print(orders.tail())\n"
   ]
  },
  {
   "cell_type": "code",
   "execution_count": 6,
   "metadata": {},
   "outputs": [
    {
     "name": "stdout",
     "output_type": "stream",
     "text": [
      "    Product_ID                                   Name  Price CURRENCY\n",
      "0           47                   Шатны Полосатый рейс   2999      RUR\n",
      "1           51               Платье Аленький цветочек   4999      RUR\n",
      "2           53                 Штаны Цветочная Поляна   4999      RUR\n",
      "3           71                    Платье Ночная Жизнь   7999      RUR\n",
      "4           74               Платье Ночная Жизнь XXXL   8999      RUR\n",
      "5           86                     Носки Простые, муж     45      RUR\n",
      "6           91                     Носки Честные, муж     50      RUR\n",
      "7          103                  Носки Подарочные, муж    199      RUR\n",
      "8          104                  Носки Подарочные, жен    249      RUR\n",
      "9          124                   Носки беговые Camino    999      RUR\n",
      "10         137              Гольфы детские Снегурочка     99      RUR\n",
      "11         138               Гольфы детские Питер Пен     99      RUR\n",
      "12         139                       Сумка для носков    500      RUR\n",
      "13         140  Товар, которому не придумано название      1      RUR\n"
     ]
    }
   ],
   "source": [
    "print(products)"
   ]
  },
  {
   "attachments": {},
   "cell_type": "markdown",
   "metadata": {},
   "source": [
    "### объединить таблицы"
   ]
  },
  {
   "cell_type": "code",
   "execution_count": 19,
   "metadata": {},
   "outputs": [
    {
     "name": "stdout",
     "output_type": "stream",
     "text": [
      "13    2\n",
      "14    1\n",
      "15    1\n",
      "16    1\n",
      "17    0\n",
      "Name: Order ID, dtype: int64\n"
     ]
    }
   ],
   "source": [
    "orders_products = orders.merge(\n",
    "    products,\n",
    "    how='left',\n",
    "    right_on='Product_ID',\n",
    "    left_on='ID товара'\n",
    ")\n",
    "print(orders_products.tail()['Order ID'])"
   ]
  },
  {
   "attachments": {},
   "cell_type": "markdown",
   "metadata": {},
   "source": [
    "### на какой товар была произведена отмена?"
   ]
  },
  {
   "cell_type": "code",
   "execution_count": 23,
   "metadata": {},
   "outputs": [
    {
     "name": "stdout",
     "output_type": "stream",
     "text": [
      "6    Носки беговые Camino\n",
      "Name: Name, dtype: object\n"
     ]
    }
   ],
   "source": [
    "order_cancelled = orders_products[orders_products['Отменен'] == 'Да']['Name']\n",
    "print(order_cancelled)"
   ]
  },
  {
   "attachments": {},
   "cell_type": "markdown",
   "metadata": {},
   "source": [
    "### Какой покупатель принёс наибольшую суммарную прибыль интернет-магазину за указанный период?\n",
    "#### Прибыль состоит только из оплаченных заказов и рассчитывается как количество купленного товара, умноженное на его цену."
   ]
  },
  {
   "cell_type": "code",
   "execution_count": 30,
   "metadata": {},
   "outputs": [
    {
     "name": "stdout",
     "output_type": "stream",
     "text": [
      "ID Покупателя\n",
      "7    17096.0\n",
      "5    13043.0\n",
      "8     1344.0\n",
      "1        0.0\n",
      "Name: Profit, dtype: float64\n"
     ]
    }
   ],
   "source": [
    "orders_products['Profit'] = orders_products['Price'] * orders_products['Количество']\n",
    "\n",
    "print(orders_products[orders_products['Оплачен'] == 'Да'].groupby('ID Покупателя')['Profit'].sum().sort_values(ascending=False))"
   ]
  }
 ],
 "metadata": {
  "kernelspec": {
   "display_name": "Python 3",
   "language": "python",
   "name": "python3"
  },
  "language_info": {
   "codemirror_mode": {
    "name": "ipython",
    "version": 3
   },
   "file_extension": ".py",
   "mimetype": "text/x-python",
   "name": "python",
   "nbconvert_exporter": "python",
   "pygments_lexer": "ipython3",
   "version": "3.9.10 (tags/v3.9.10:f2f3f53, Jan 17 2022, 15:14:21) [MSC v.1929 64 bit (AMD64)]"
  },
  "orig_nbformat": 4,
  "vscode": {
   "interpreter": {
    "hash": "94900f6f90627b6c6383979c2732c570d13f9b98c5876e388cdb0864460ecd8e"
   }
  }
 },
 "nbformat": 4,
 "nbformat_minor": 2
}
