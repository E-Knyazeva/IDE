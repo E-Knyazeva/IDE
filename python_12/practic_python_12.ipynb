{
 "cells": [
  {
   "cell_type": "code",
   "execution_count": 2,
   "metadata": {},
   "outputs": [
    {
     "name": "stdout",
     "output_type": "stream",
     "text": [
      "       Suburb  Rooms   Type      Price Method SellerG        Date  Distance  \\\n",
      "0  Abbotsford      2  house  1480000.0      S  Biggin  2016-03-12       2.5   \n",
      "1  Abbotsford      2  house  1035000.0      S  Biggin  2016-04-02       2.5   \n",
      "2  Abbotsford      3  house  1465000.0     SP  Biggin  2017-04-03       2.5   \n",
      "3  Abbotsford      3  house   850000.0     PI  Biggin  2017-04-03       2.5   \n",
      "4  Abbotsford      4  house  1600000.0     VB  Nelson  2016-04-06       2.5   \n",
      "\n",
      "   Postcode  Bedroom  ...  Longtitude             Regionname  Propertycount  \\\n",
      "0      3067        2  ...    144.9984  Northern Metropolitan           4019   \n",
      "1      3067        2  ...    144.9934  Northern Metropolitan           4019   \n",
      "2      3067        3  ...    144.9944  Northern Metropolitan           4019   \n",
      "3      3067        3  ...    144.9969  Northern Metropolitan           4019   \n",
      "4      3067        3  ...    144.9941  Northern Metropolitan           4019   \n",
      "\n",
      "   MeanRoomsSquare AreaRatio  MonthSale  AgeBuilding WeekdaySale  StreetType  \\\n",
      "0            25.20 -0.231707          3           46           5          St   \n",
      "1            15.80 -0.327660          4          116           5          St   \n",
      "2            18.75  0.056338          4          117           0          St   \n",
      "3            15.75  0.145455          4           47           0       other   \n",
      "4            17.75  0.083969          4            2           2          St   \n",
      "\n",
      "   Weekend  \n",
      "0        1  \n",
      "1        1  \n",
      "2        0  \n",
      "3        0  \n",
      "4        0  \n",
      "\n",
      "[5 rows x 26 columns]\n"
     ]
    }
   ],
   "source": [
    "import pandas as pd\n",
    "melb_df = pd.read_csv('D:\\курс по data science\\IDE\\python_12\\data\\melb_data_fe.csv', sep=',')\n",
    "print(melb_df.head())"
   ]
  },
  {
   "cell_type": "code",
   "execution_count": 3,
   "metadata": {},
   "outputs": [
    {
     "name": "stdout",
     "output_type": "stream",
     "text": [
      "<class 'pandas.core.frame.DataFrame'>\n",
      "RangeIndex: 13580 entries, 0 to 13579\n",
      "Data columns (total 26 columns):\n",
      " #   Column           Non-Null Count  Dtype  \n",
      "---  ------           --------------  -----  \n",
      " 0   Suburb           13580 non-null  object \n",
      " 1   Rooms            13580 non-null  int64  \n",
      " 2   Type             13580 non-null  object \n",
      " 3   Price            13580 non-null  float64\n",
      " 4   Method           13580 non-null  object \n",
      " 5   SellerG          13580 non-null  object \n",
      " 6   Date             13580 non-null  object \n",
      " 7   Distance         13580 non-null  float64\n",
      " 8   Postcode         13580 non-null  int64  \n",
      " 9   Bedroom          13580 non-null  int64  \n",
      " 10  Bathroom         13580 non-null  int64  \n",
      " 11  Car              13580 non-null  int64  \n",
      " 12  Landsize         13580 non-null  float64\n",
      " 13  BuildingArea     13580 non-null  float64\n",
      " 14  CouncilArea      12211 non-null  object \n",
      " 15  Lattitude        13580 non-null  float64\n",
      " 16  Longtitude       13580 non-null  float64\n",
      " 17  Regionname       13580 non-null  object \n",
      " 18  Propertycount    13580 non-null  int64  \n",
      " 19  MeanRoomsSquare  13580 non-null  float64\n",
      " 20  AreaRatio        13580 non-null  float64\n",
      " 21  MonthSale        13580 non-null  int64  \n",
      " 22  AgeBuilding      13580 non-null  int64  \n",
      " 23  WeekdaySale      13580 non-null  int64  \n",
      " 24  StreetType       13580 non-null  object \n",
      " 25  Weekend          13580 non-null  int64  \n",
      "dtypes: float64(8), int64(10), object(8)\n",
      "memory usage: 2.7+ MB\n",
      "None\n"
     ]
    }
   ],
   "source": [
    "print(melb_df.info())"
   ]
  },
  {
   "cell_type": "code",
   "execution_count": 4,
   "metadata": {},
   "outputs": [
    {
     "name": "stdout",
     "output_type": "stream",
     "text": [
      "0       2016-03-12\n",
      "1       2016-04-02\n",
      "2       2017-04-03\n",
      "3       2017-04-03\n",
      "4       2016-04-06\n",
      "           ...    \n",
      "13575   2017-08-26\n",
      "13576   2017-08-26\n",
      "13577   2017-08-26\n",
      "13578   2017-08-26\n",
      "13579   2017-08-26\n",
      "Name: Date, Length: 13580, dtype: datetime64[ns]\n"
     ]
    }
   ],
   "source": [
    "melb_df['Date'] = pd.to_datetime(melb_df['Date'], dayfirst=True)\n",
    "print(melb_df['Date'])"
   ]
  },
  {
   "cell_type": "code",
   "execution_count": 5,
   "metadata": {},
   "outputs": [
    {
     "name": "stdout",
     "output_type": "stream",
     "text": [
      "4359\n"
     ]
    }
   ],
   "source": [
    "quarters = melb_df['Date'].dt.quarter\n",
    "print(quarters.value_counts().iloc[1])"
   ]
  },
  {
   "attachments": {},
   "cell_type": "markdown",
   "metadata": {},
   "source": [
    "#### Преобразуйте все столбцы, в которых меньше 150 уникальных значений, в тип данных category, исключив из преобразования столбцы Date, Rooms, Bedroom, Bathroom, Car. В качестве ответа запишите результирующее количество столбцов, которые имеют тип данных category."
   ]
  },
  {
   "cell_type": "code",
   "execution_count": 6,
   "metadata": {},
   "outputs": [
    {
     "name": "stdout",
     "output_type": "stream",
     "text": [
      "<class 'pandas.core.frame.DataFrame'>\n",
      "RangeIndex: 13580 entries, 0 to 13579\n",
      "Data columns (total 26 columns):\n",
      " #   Column           Non-Null Count  Dtype         \n",
      "---  ------           --------------  -----         \n",
      " 0   Suburb           13580 non-null  category      \n",
      " 1   Rooms            13580 non-null  int64         \n",
      " 2   Type             13580 non-null  category      \n",
      " 3   Price            13580 non-null  float64       \n",
      " 4   Method           13580 non-null  category      \n",
      " 5   SellerG          13580 non-null  category      \n",
      " 6   Date             13580 non-null  datetime64[ns]\n",
      " 7   Distance         13580 non-null  float64       \n",
      " 8   Postcode         13580 non-null  int64         \n",
      " 9   Bedroom          13580 non-null  int64         \n",
      " 10  Bathroom         13580 non-null  int64         \n",
      " 11  Car              13580 non-null  int64         \n",
      " 12  Landsize         13580 non-null  float64       \n",
      " 13  BuildingArea     13580 non-null  float64       \n",
      " 14  CouncilArea      12211 non-null  category      \n",
      " 15  Lattitude        13580 non-null  float64       \n",
      " 16  Longtitude       13580 non-null  float64       \n",
      " 17  Regionname       13580 non-null  category      \n",
      " 18  Propertycount    13580 non-null  int64         \n",
      " 19  MeanRoomsSquare  13580 non-null  float64       \n",
      " 20  AreaRatio        13580 non-null  float64       \n",
      " 21  MonthSale        13580 non-null  category      \n",
      " 22  AgeBuilding      13580 non-null  int64         \n",
      " 23  WeekdaySale      13580 non-null  category      \n",
      " 24  StreetType       13580 non-null  category      \n",
      " 25  Weekend          13580 non-null  category      \n",
      "dtypes: category(10), datetime64[ns](1), float64(8), int64(7)\n",
      "memory usage: 1.8 MB\n",
      "None\n"
     ]
    }
   ],
   "source": [
    "cols_to_exclude = ['Date', 'Rooms', 'Bedroom','Bathroom','Car']\n",
    "max_unique_count = 150\n",
    "for col in melb_df.columns:\n",
    "    if melb_df[col].nunique() < max_unique_count and col not  in cols_to_exclude:\n",
    "        melb_df[col] = melb_df[col].astype('category')\n",
    "print(melb_df.info())"
   ]
  },
  {
   "attachments": {},
   "cell_type": "markdown",
   "metadata": {},
   "source": [
    "## 2. Сортировка данных в DataFrame"
   ]
  },
  {
   "attachments": {},
   "cell_type": "markdown",
   "metadata": {},
   "source": [
    "### СОРТИРОВКА ПО ЗНАЧЕНИЯМ ОДНОГО СТОЛБЦА"
   ]
  },
  {
   "attachments": {},
   "cell_type": "markdown",
   "metadata": {},
   "source": [
    "##### по возрастанию цены объектов недвижимости (Price)"
   ]
  },
  {
   "cell_type": "code",
   "execution_count": 7,
   "metadata": {},
   "outputs": [
    {
     "name": "stdout",
     "output_type": "stream",
     "text": [
      "               Suburb  Rooms   Type     Price Method        SellerG  \\\n",
      "2652        Footscray      1   unit   85000.0     PI        Burnham   \n",
      "1805            other      4  house  131000.0     PI          other   \n",
      "7303           Albion      1   unit  145000.0     PI         Biggin   \n",
      "1927           Coburg      4  house  145000.0     PI         Jellis   \n",
      "7940         Hawthorn      1   unit  160000.0     VB            HAR   \n",
      "12666       Brunswick      1   unit  170000.0     VB         Nelson   \n",
      "8811        Footscray      1   unit  170000.0     PI        Burnham   \n",
      "8504   West Footscray      1   unit  185000.0     PI            Jas   \n",
      "7293           Albion      1   unit  185000.0      S  hockingstuart   \n",
      "7305           Albion      2   unit  190000.0     SP        Burnham   \n",
      "\n",
      "            Date  Distance  Postcode  Bedroom  ...  Longtitude  \\\n",
      "2652  2016-03-09       6.4      3011        1  ...   144.89000   \n",
      "1805  2017-02-25       8.9      3162        4  ...   145.02420   \n",
      "7303  2016-05-28      13.9      3020        2  ...   144.82660   \n",
      "1927  2016-04-06       7.8      3058        3  ...   144.96580   \n",
      "7940  2017-08-04       4.6      3122        1  ...   145.03730   \n",
      "12666 2017-09-16       5.2      3056        1  ...   144.95188   \n",
      "8811  2017-01-07       5.1      3011        1  ...   144.89587   \n",
      "8504  2017-04-29       8.2      3012        1  ...   144.86720   \n",
      "7293  2016-08-22      13.9      3020        1  ...   144.82720   \n",
      "7305  2016-07-30      13.9      3020        2  ...   144.82390   \n",
      "\n",
      "                  Regionname  Propertycount  MeanRoomsSquare AreaRatio  \\\n",
      "2652    Western Metropolitan           7570        42.000000  1.000000   \n",
      "1805   Southern Metropolitan           2379        17.222222 -0.525994   \n",
      "7303    Western Metropolitan           2185        31.500000  0.555556   \n",
      "1927   Northern Metropolitan          11204        20.500000 -0.531429   \n",
      "7940   Southern Metropolitan          11308        42.000000 -0.437500   \n",
      "12666  Northern Metropolitan          11918        42.000000 -0.816860   \n",
      "8811    Western Metropolitan           7570         8.666667 -0.071429   \n",
      "8504    Western Metropolitan           5058        42.000000  1.000000   \n",
      "7293    Western Metropolitan           2185        14.333333 -0.964017   \n",
      "7305    Western Metropolitan           2185        25.200000  1.000000   \n",
      "\n",
      "       MonthSale  AgeBuilding WeekdaySale  StreetType  Weekend  \n",
      "2652           3            9           2          St        0  \n",
      "1805           2           97           5          St        1  \n",
      "7303           5           46           5          St        1  \n",
      "1927           4          106           2          Rd        0  \n",
      "7940           8            8           4          St        0  \n",
      "12666          9           47           5          St        1  \n",
      "8811           1            4           5          St        1  \n",
      "8504           4           47           5          St        1  \n",
      "7293           8           41           0          Rd        0  \n",
      "7305           7           46           5          St        1  \n",
      "\n",
      "[10 rows x 26 columns]\n"
     ]
    }
   ],
   "source": [
    "print(melb_df.sort_values(by='Price').head(10))"
   ]
  },
  {
   "attachments": {},
   "cell_type": "markdown",
   "metadata": {},
   "source": [
    "##### по убыванию (от самой последней до самой первой) даты продажи объекта (Date)"
   ]
  },
  {
   "cell_type": "code",
   "execution_count": 8,
   "metadata": {},
   "outputs": [
    {
     "name": "stdout",
     "output_type": "stream",
     "text": [
      "             Suburb  Rooms   Type      Price Method    SellerG       Date  \\\n",
      "11144     Northcote      4  house  1955000.0     SP    McGrath 2017-12-08   \n",
      "11217  Surrey Hills      3  house  1775000.0     PI     Jellis 2017-12-08   \n",
      "11206      St Kilda      4  house  1600000.0     VB       Gary 2017-12-08   \n",
      "11207    Strathmore      7  house  2000000.0     SP     Nelson 2017-12-08   \n",
      "11208    Strathmore      4  house  1610000.0      S      other 2017-12-08   \n",
      "...             ...    ...    ...        ...    ...        ...        ...   \n",
      "1555     Camberwell      4  house  2650000.0      S     Jellis 2016-03-09   \n",
      "4510       Oak Park      3  house   892000.0      S     Nelson 2016-03-09   \n",
      "4388      Northcote      3  house  1200000.0      S     Nelson 2016-03-09   \n",
      "6184   Surrey Hills      3  house  1205000.0      S  Fletchers 2016-01-28   \n",
      "6183   Surrey Hills      2   unit   813000.0      S  Fletchers 2016-01-28   \n",
      "\n",
      "       Distance  Postcode  Bedroom  ...  Longtitude             Regionname  \\\n",
      "11144       5.3      3070        4  ...   144.99375  Northern Metropolitan   \n",
      "11217      10.2      3127        3  ...   145.08968  Southern Metropolitan   \n",
      "11206       5.0      3182        4  ...   144.98324  Southern Metropolitan   \n",
      "11207       8.2      3041        7  ...   144.90587   Western Metropolitan   \n",
      "11208       8.2      3041        4  ...   144.92243   Western Metropolitan   \n",
      "...         ...       ...      ...  ...         ...                    ...   \n",
      "1555        7.8      3124        4  ...   145.06860  Southern Metropolitan   \n",
      "4510       11.5      3046        3  ...   144.91740  Northern Metropolitan   \n",
      "4388        5.5      3070        3  ...   144.99090  Northern Metropolitan   \n",
      "6184       11.2      3127        3  ...   145.10060  Southern Metropolitan   \n",
      "6183       11.2      3127        2  ...   145.10230  Southern Metropolitan   \n",
      "\n",
      "       Propertycount  MeanRoomsSquare AreaRatio  MonthSale  AgeBuilding  \\\n",
      "11144          11364        12.600000  0.923664         12           47   \n",
      "11217           5457        15.750000 -0.721854         12           47   \n",
      "11206          13240        16.000000 -0.586028         12          107   \n",
      "11207           3284        20.882353 -0.262721         12           18   \n",
      "11208           3284        24.909091 -0.517181         12           62   \n",
      "...              ...              ...       ...        ...          ...   \n",
      "1555            8920        18.900000 -0.550535          3          126   \n",
      "4510            2651        18.000000 -0.714609          3           46   \n",
      "4388           11364        17.857143 -0.264706          3           96   \n",
      "6184            5457        18.000000 -0.590909          1           46   \n",
      "6183            5457        25.200000  0.076923          1           46   \n",
      "\n",
      "      WeekdaySale  StreetType  Weekend  \n",
      "11144           4          St        0  \n",
      "11217           4          Rd        0  \n",
      "11206           4          St        0  \n",
      "11207           4          Rd        0  \n",
      "11208           4          St        0  \n",
      "...           ...         ...      ...  \n",
      "1555            2          Rd        0  \n",
      "4510            2          St        0  \n",
      "4388            2          St        0  \n",
      "6184            3          Rd        0  \n",
      "6183            3          Rd        0  \n",
      "\n",
      "[13580 rows x 26 columns]\n"
     ]
    }
   ],
   "source": [
    "print(melb_df.sort_values(by='Date', ascending=False))"
   ]
  },
  {
   "attachments": {},
   "cell_type": "markdown",
   "metadata": {},
   "source": [
    "### СОРТИРОВКА ПО ЗНАЧЕНИЯМ НЕСКОЛЬКИХ СТОЛБЦОВ\n",
    "##### отсортируем таблицу сначала по возрастанию расстояния от центра города (Distance), а затем — по возрастанию цены объекта (Price). "
   ]
  },
  {
   "cell_type": "code",
   "execution_count": 9,
   "metadata": {},
   "outputs": [
    {
     "name": "stdout",
     "output_type": "stream",
     "text": [
      "       Distance      Price\n",
      "11428       0.0   387000.0\n",
      "10512       0.7   600000.0\n",
      "5727        1.2   485000.0\n",
      "8671        1.2   595000.0\n",
      "5736        1.2   740000.0\n",
      "...         ...        ...\n",
      "12011      38.0   680000.0\n",
      "10673      38.0   810000.0\n",
      "13429      38.0  1155000.0\n",
      "11102      41.0   650000.0\n",
      "12728      45.9   650000.0\n",
      "\n",
      "[1358 rows x 2 columns]\n"
     ]
    }
   ],
   "source": [
    "print(melb_df.sort_values(by=['Distance', 'Price']).loc[::10, ['Distance', 'Price']])"
   ]
  },
  {
   "attachments": {},
   "cell_type": "markdown",
   "metadata": {},
   "source": [
    "##### поменяли порядок следования столбцов в параметре by\n"
   ]
  },
  {
   "cell_type": "code",
   "execution_count": 10,
   "metadata": {},
   "outputs": [
    {
     "name": "stdout",
     "output_type": "stream",
     "text": [
      "           Price  Distance\n",
      "2652     85000.0       6.4\n",
      "7116    200000.0       7.8\n",
      "5206    220000.0      11.2\n",
      "7240    241000.0       8.2\n",
      "2898    250000.0      13.0\n",
      "...          ...       ...\n",
      "13341  4060000.0       6.3\n",
      "8591   4275000.0       1.5\n",
      "1094   4700000.0      11.2\n",
      "5801   5046000.0       6.1\n",
      "251    5525000.0       6.3\n",
      "\n",
      "[1358 rows x 2 columns]\n"
     ]
    }
   ],
   "source": [
    "print(melb_df.sort_values(by=['Price', 'Distance']).loc[::10,['Price','Distance']])"
   ]
  },
  {
   "attachments": {},
   "cell_type": "markdown",
   "metadata": {},
   "source": [
    "### КОМБИНИРОВАНИЕ СОРТИРОВКИ С ФИЛЬТРАЦИЕЙ\n",
    "##### Найдём информацию о таунхаусах (Type), проданных компанией (SellerG) McGrath, у которых коэффициент соотношения площадей здания и участка (AreaRatio) меньше -0.8. Результат отсортируем по дате продажи (Date) в порядке возрастания, а после проведём сортировку по убыванию коэффициента соотношения площадей. Также обновим старые индексы на новые, установив параметр ignore_index на True. Для наглядности результата выберем из таблицы только столбцы Data и AreaRatio"
   ]
  },
  {
   "cell_type": "code",
   "execution_count": 11,
   "metadata": {},
   "outputs": [
    {
     "name": "stdout",
     "output_type": "stream",
     "text": [
      "        Date  AreaRatio\n",
      "0 2016-07-26  -0.974922\n",
      "1 2016-09-24  -0.971831\n",
      "2 2016-11-27  -0.953608\n",
      "3 2016-12-11  -0.945946\n",
      "4 2017-08-04  -0.947368\n",
      "5 2017-08-04  -0.970874\n"
     ]
    }
   ],
   "source": [
    "mask1 = melb_df['AreaRatio']<-0.8\n",
    "mask2 = melb_df['Type'] == 'townhouse'\n",
    "mask3 = melb_df['SellerG'] == 'McGrath'\n",
    "print(melb_df[mask1 & mask2 & mask3].sort_values(\n",
    "    by=['Date', 'AreaRatio'],\n",
    "    ascending=[True, False],\n",
    "    ignore_index=True\n",
    ").loc[:, ['Date', 'AreaRatio']])"
   ]
  },
  {
   "attachments": {},
   "cell_type": "markdown",
   "metadata": {},
   "source": [
    "#### задание 2.2\n",
    "##### Произведите сортировку столбца AreaRatio по убыванию. При этом индексы полученной таблицы замените на новые. Какое значение площади здания находится в строке 1558? Ответ округлите до целого числа."
   ]
  },
  {
   "cell_type": "code",
   "execution_count": 12,
   "metadata": {},
   "outputs": [
    {
     "name": "stdout",
     "output_type": "stream",
     "text": [
      "126\n"
     ]
    }
   ],
   "source": [
    "print(int(melb_df.sort_values(by='AreaRatio', ascending=False, ignore_index=True).loc[1558,'BuildingArea']))"
   ]
  },
  {
   "attachments": {},
   "cell_type": "markdown",
   "metadata": {},
   "source": [
    "#### Задание 2.3\n",
    "##### Найдите таунхаусы (Type) с количеством жилых комнат (Rooms) больше 2. Отсортируйте полученную таблицу сначала по возрастанию числа комнат, а затем по убыванию средней площади комнат (MeanRoomsSquare). Индексы таблицы замените на новые. Какая цена будет у объекта в строке 18? Ответ запишите в виде целого числа."
   ]
  },
  {
   "cell_type": "code",
   "execution_count": 13,
   "metadata": {},
   "outputs": [
    {
     "name": "stdout",
     "output_type": "stream",
     "text": [
      "1300000\n"
     ]
    }
   ],
   "source": [
    "mask1 = melb_df['Type'] == 'townhouse'\n",
    "mask2 = melb_df['Rooms'] > 2\n",
    "print(int(melb_df[mask1 & mask2].sort_values(\n",
    "    by = ['Rooms', 'MeanRoomsSquare'],\n",
    "    ascending = [True, False],\n",
    "    ignore_index = True).loc[18, 'Price']))"
   ]
  },
  {
   "attachments": {},
   "cell_type": "markdown",
   "metadata": {},
   "source": [
    "## 3. Группировка данных в DataFrame\n",
    "### ГРУППИРОВКА ДАННЫХ ПО ОДНОМУ КРИТЕРИЮ С ОДНОЙ АГРЕГАЦИЕЙ\n",
    "##### В качестве столбца для группировки возьмём столбец типа объекта недвижимости (Type)"
   ]
  },
  {
   "cell_type": "code",
   "execution_count": 14,
   "metadata": {},
   "outputs": [
    {
     "name": "stdout",
     "output_type": "stream",
     "text": [
      "              Rooms         Price   Distance     Postcode   Bedroom  Bathroom  \\\n",
      "Type                                                                            \n",
      "house      3.260874  1.242665e+06  10.979479  3104.080643  3.229336  1.613822   \n",
      "townhouse  2.837522  9.337351e+05   9.851346  3100.777379  2.814183  1.809695   \n",
      "unit       1.963871  6.051275e+05   7.607391  3110.797481  1.966523  1.183295   \n",
      "\n",
      "                Car    Landsize  BuildingArea  Lattitude  Longtitude  \\\n",
      "Type                                                                   \n",
      "house      1.772674  617.181924    152.162553 -37.803795  144.994700   \n",
      "townhouse  1.555655  279.606822    134.649710 -37.815782  144.996489   \n",
      "unit       1.128936  477.314219    102.235863 -37.823710  144.996363   \n",
      "\n",
      "           Propertycount  MeanRoomsSquare  AreaRatio  AgeBuilding  \n",
      "Type                                                               \n",
      "house        7259.025505        18.996731  -0.490031    55.669700  \n",
      "townhouse    7094.459605        18.569847  -0.094916    26.690305  \n",
      "unit         8199.280080        21.068242   0.319883    39.703016  \n"
     ]
    },
    {
     "name": "stderr",
     "output_type": "stream",
     "text": [
      "C:\\Users\\Елена\\AppData\\Local\\Temp\\ipykernel_26292\\3313400465.py:1: FutureWarning: The default value of numeric_only in DataFrameGroupBy.mean is deprecated. In a future version, numeric_only will default to False. Either specify numeric_only or select only columns which should be valid for the function.\n",
      "  print(melb_df.groupby(by='Type').mean())\n"
     ]
    }
   ],
   "source": [
    "print(melb_df.groupby(by='Type').mean())"
   ]
  },
  {
   "attachments": {},
   "cell_type": "markdown",
   "metadata": {},
   "source": [
    "###### добавили индекс к типу объекта"
   ]
  },
  {
   "cell_type": "code",
   "execution_count": 15,
   "metadata": {},
   "outputs": [
    {
     "name": "stdout",
     "output_type": "stream",
     "text": [
      "        Type     Rooms         Price   Distance     Postcode   Bedroom  \\\n",
      "0      house  3.260874  1.242665e+06  10.979479  3104.080643  3.229336   \n",
      "1  townhouse  2.837522  9.337351e+05   9.851346  3100.777379  2.814183   \n",
      "2       unit  1.963871  6.051275e+05   7.607391  3110.797481  1.966523   \n",
      "\n",
      "   Bathroom       Car    Landsize  BuildingArea  Lattitude  Longtitude  \\\n",
      "0  1.613822  1.772674  617.181924    152.162553 -37.803795  144.994700   \n",
      "1  1.809695  1.555655  279.606822    134.649710 -37.815782  144.996489   \n",
      "2  1.183295  1.128936  477.314219    102.235863 -37.823710  144.996363   \n",
      "\n",
      "   Propertycount  MeanRoomsSquare  AreaRatio  AgeBuilding  \n",
      "0    7259.025505        18.996731  -0.490031    55.669700  \n",
      "1    7094.459605        18.569847  -0.094916    26.690305  \n",
      "2    8199.280080        21.068242   0.319883    39.703016  \n"
     ]
    },
    {
     "name": "stderr",
     "output_type": "stream",
     "text": [
      "C:\\Users\\Елена\\AppData\\Local\\Temp\\ipykernel_26292\\1200398823.py:1: FutureWarning: The default value of numeric_only in DataFrameGroupBy.mean is deprecated. In a future version, numeric_only will default to False. Either specify numeric_only or select only columns which should be valid for the function.\n",
      "  print(melb_df.groupby(by='Type', as_index=False).mean())\n"
     ]
    }
   ],
   "source": [
    "print(melb_df.groupby(by='Type', as_index=False).mean())"
   ]
  },
  {
   "attachments": {},
   "cell_type": "markdown",
   "metadata": {},
   "source": [
    "##### агрегирующие методы можно применять только к интересующему нас столбцу. Сравним средние цены на объекты в зависимости от их типа:"
   ]
  },
  {
   "cell_type": "code",
   "execution_count": 16,
   "metadata": {},
   "outputs": [
    {
     "name": "stdout",
     "output_type": "stream",
     "text": [
      "Type\n",
      "house        1.242665e+06\n",
      "townhouse    9.337351e+05\n",
      "unit         6.051275e+05\n",
      "Name: Price, dtype: float64\n"
     ]
    }
   ],
   "source": [
    "print(melb_df.groupby('Type')['Price'].mean())"
   ]
  },
  {
   "attachments": {},
   "cell_type": "markdown",
   "metadata": {},
   "source": [
    "##### какие регионы (Regionname) наиболее удалены от центра Мельбурна\n"
   ]
  },
  {
   "cell_type": "code",
   "execution_count": 17,
   "metadata": {},
   "outputs": [
    {
     "name": "stdout",
     "output_type": "stream",
     "text": [
      "Regionname\n",
      "Western Victoria              29.8\n",
      "Eastern Victoria              25.2\n",
      "Northern Victoria             21.8\n",
      "South-Eastern Metropolitan    14.7\n",
      "Eastern Metropolitan           7.8\n",
      "Western Metropolitan           4.3\n",
      "Southern Metropolitan          0.7\n",
      "Northern Metropolitan          0.0\n",
      "Name: Distance, dtype: float64\n"
     ]
    }
   ],
   "source": [
    "print(melb_df.groupby('Regionname')['Distance'].min().sort_values(ascending=False))\n"
   ]
  },
  {
   "attachments": {},
   "cell_type": "markdown",
   "metadata": {},
   "source": [
    "### ГРУППИРОВКА ДАННЫХ ПО ОДНОМУ КРИТЕРИЮ С НЕСКОЛЬКИМИ АГРЕГАЦИЯМИ\n",
    "#### построим таблицу для анализа продаж по месяцам\n",
    "###### найдём количество продаж, а также среднее и максимальное значения цен объектов недвижимости (Price), сгруппированных по номеру месяца продажи (MonthSale). Результат отсортируем по количеству продаж в порядке убывания"
   ]
  },
  {
   "cell_type": "code",
   "execution_count": 18,
   "metadata": {},
   "outputs": [
    {
     "name": "stdout",
     "output_type": "stream",
     "text": [
      "           count          mean        max\n",
      "MonthSale                                \n",
      "8           1850  1.056371e+06  6500000.0\n",
      "7           1835  9.314698e+05  9000000.0\n",
      "5           1644  1.097807e+06  8000000.0\n",
      "6           1469  1.068981e+06  7650000.0\n",
      "3           1408  1.146762e+06  5600000.0\n",
      "4           1246  1.050479e+06  5500000.0\n",
      "9           1188  1.126349e+06  6400000.0\n",
      "10           854  1.135970e+06  6250000.0\n",
      "11           750  1.142503e+06  5050000.0\n",
      "12           725  1.144737e+06  5700000.0\n",
      "2            333  1.169051e+06  4735000.0\n",
      "1            278  9.397921e+05  5200000.0\n"
     ]
    }
   ],
   "source": [
    "print(melb_df.groupby('MonthSale')['Price'].agg(\n",
    "    ['count', 'mean', 'max']\n",
    ").sort_values(by='count', ascending=False))"
   ]
  },
  {
   "attachments": {},
   "cell_type": "markdown",
   "metadata": {},
   "source": [
    "##### полная информация обо всех основных статистических характеристиках внутри каждой группы"
   ]
  },
  {
   "cell_type": "code",
   "execution_count": 19,
   "metadata": {},
   "outputs": [
    {
     "name": "stdout",
     "output_type": "stream",
     "text": [
      "            count          mean            std       min       25%        50%  \\\n",
      "MonthSale                                                                       \n",
      "1           278.0  9.397921e+05  577668.924214  170000.0  570500.0   795000.0   \n",
      "2           333.0  1.169051e+06  671564.357417  131000.0  710000.0  1020000.0   \n",
      "3          1408.0  1.146762e+06  709573.596867   85000.0  680000.0   945000.0   \n",
      "4          1246.0  1.050479e+06  591892.902979  145000.0  655000.0   905500.0   \n",
      "5          1644.0  1.097807e+06  668492.867996  145000.0  650000.0   905000.0   \n",
      "6          1469.0  1.068981e+06  606010.069052  222000.0  660000.0   900000.0   \n",
      "7          1835.0  9.314698e+05  537390.803161  190000.0  586750.0   800000.0   \n",
      "8          1850.0  1.056371e+06  619617.476541  160000.0  635000.0   892000.0   \n",
      "9          1188.0  1.126349e+06  608734.690742  170000.0  725000.0   980000.0   \n",
      "10          854.0  1.135970e+06  692950.251627  250000.0  652625.0   950000.0   \n",
      "11          750.0  1.142503e+06  703666.227892  240000.0  671750.0   950000.0   \n",
      "12          725.0  1.144737e+06  706549.007161  250000.0  667500.0   938000.0   \n",
      "\n",
      "                 75%        max  \n",
      "MonthSale                        \n",
      "1          1111250.0  5200000.0  \n",
      "2          1478000.0  4735000.0  \n",
      "3          1400000.0  5600000.0  \n",
      "4          1298750.0  5500000.0  \n",
      "5          1371250.0  8000000.0  \n",
      "6          1325000.0  7650000.0  \n",
      "7          1150000.0  9000000.0  \n",
      "8          1310000.0  6500000.0  \n",
      "9          1360000.0  6400000.0  \n",
      "10         1416500.0  6250000.0  \n",
      "11         1399125.0  5050000.0  \n",
      "12         1412000.0  5700000.0  \n"
     ]
    }
   ],
   "source": [
    "print(melb_df.groupby('MonthSale')['Price'].agg('describe'))"
   ]
  },
  {
   "attachments": {},
   "cell_type": "markdown",
   "metadata": {},
   "source": [
    "#### подсчёт числа уникальных значений\n",
    "##### вычислить число уникальных риелторских компаний в зависимости от региона, чтобы понять, в каких регионах конкуренция на рынке недвижимости меньше"
   ]
  },
  {
   "cell_type": "code",
   "execution_count": 20,
   "metadata": {},
   "outputs": [
    {
     "name": "stdout",
     "output_type": "stream",
     "text": [
      "                            nunique  \\\n",
      "Regionname                            \n",
      "Eastern Metropolitan             26   \n",
      "Eastern Victoria                 11   \n",
      "Northern Metropolitan            40   \n",
      "Northern Victoria                11   \n",
      "South-Eastern Metropolitan       25   \n",
      "Southern Metropolitan            38   \n",
      "Western Metropolitan             34   \n",
      "Western Victoria                  6   \n",
      "\n",
      "                                                                          set  \n",
      "Regionname                                                                     \n",
      "Eastern Metropolitan        {Noel, hockingstuart, Ray, other, C21, Barry, ...  \n",
      "Eastern Victoria            {HAR, hockingstuart, McGrath, Barry, Harcourts...  \n",
      "Northern Metropolitan       {Rendina, Cayzer, Hodges, Raine, hockingstuart...  \n",
      "Northern Victoria           {HAR, Raine, hockingstuart, McGrath, YPA, LITT...  \n",
      "South-Eastern Metropolitan  {Noel, Hodges, hockingstuart, Ray, other, C21,...  \n",
      "Southern Metropolitan       {Williams, Noel, Cayzer, Rendina, Hodges, Rain...  \n",
      "Western Metropolitan        {Williams, Rendina, Hodges, Raine, hockingstua...  \n",
      "Western Victoria                 {HAR, Raine, hockingstuart, YPA, Ray, other}  \n"
     ]
    }
   ],
   "source": [
    "print(melb_df.groupby('Regionname')['SellerG'].agg(\n",
    "    ['nunique', set]\n",
    "))"
   ]
  },
  {
   "attachments": {},
   "cell_type": "markdown",
   "metadata": {},
   "source": [
    "#### Задание 3.1\n",
    "##### Сгруппируйте данные по признаку количества комнат и найдите среднюю цену объектов недвижимости в каждой группе. В качестве ответа запишите количество комнат, для которых средняя цена наибольшая."
   ]
  },
  {
   "cell_type": "code",
   "execution_count": 21,
   "metadata": {},
   "outputs": [
    {
     "name": "stdout",
     "output_type": "stream",
     "text": [
      "Rooms\n",
      "7     1.920700e+06\n",
      "5     1.870260e+06\n",
      "6     1.849366e+06\n",
      "8     1.602750e+06\n",
      "4     1.445282e+06\n",
      "3     1.076081e+06\n",
      "10    9.000000e+05\n",
      "2     7.750812e+05\n",
      "1     4.338245e+05\n",
      "Name: Price, dtype: float64\n"
     ]
    }
   ],
   "source": [
    "print(melb_df.groupby('Rooms')['Price'].mean().sort_values(ascending=False))"
   ]
  },
  {
   "attachments": {},
   "cell_type": "markdown",
   "metadata": {},
   "source": [
    "#### Задание 3.2\n",
    "##### Какой регион имеет наименьшее стандартное отклонение по географической широте (Lattitude)? В качестве ответа запишите название этого региона."
   ]
  },
  {
   "cell_type": "code",
   "execution_count": 22,
   "metadata": {},
   "outputs": [
    {
     "name": "stdout",
     "output_type": "stream",
     "text": [
      "Regionname\n",
      "Western Victoria              0.011579\n",
      "Southern Metropolitan         0.043080\n",
      "Eastern Metropolitan          0.047890\n",
      "Northern Metropolitan         0.049639\n",
      "Western Metropolitan          0.051251\n",
      "South-Eastern Metropolitan    0.073411\n",
      "Northern Victoria             0.084455\n",
      "Eastern Victoria              0.147067\n",
      "Name: Lattitude, dtype: float64\n"
     ]
    }
   ],
   "source": [
    "print(melb_df.groupby('Regionname')['Lattitude'].std().sort_values())"
   ]
  },
  {
   "attachments": {},
   "cell_type": "markdown",
   "metadata": {},
   "source": [
    "#### Задание 3.3\n",
    "##### Какая риелторская компания (SellerG) имеет наименьшую общую выручку за период с 1 мая по 1 сентября (включительно) 2017 года? Для ответа на этот вопрос рассчитайте сумму продаж (Price) каждой компании в заданный период. Не забудьте перевести даты в формат datetime."
   ]
  },
  {
   "cell_type": "code",
   "execution_count": 23,
   "metadata": {},
   "outputs": [
    {
     "name": "stdout",
     "output_type": "stream",
     "text": [
      "SellerG\n",
      "LITTLE             2742000.0\n",
      "Cayzer             4439000.0\n",
      "Burnham            4550500.0\n",
      "Moonee             7328000.0\n",
      "Thomson            8332000.0\n",
      "Bells              8656000.0\n",
      "Alexkarbon        10985000.0\n",
      "McDonald          14637500.0\n",
      "Rendina           15422276.0\n",
      "Nick              16890000.0\n",
      "Douglas           18341000.0\n",
      "Buckingham        19033000.0\n",
      "C21               19515000.0\n",
      "Eview             19791500.0\n",
      "Collins           20217000.0\n",
      "Philip            22051800.0\n",
      "Chisholm          23225000.0\n",
      "Williams          23297000.0\n",
      "Love              23365500.0\n",
      "Purplebricks      23401000.0\n",
      "O'Brien           23855508.0\n",
      "HAR               25568000.0\n",
      "Village           26473000.0\n",
      "RW                29261000.0\n",
      "Raine             30687700.0\n",
      "Stockdale         35409800.0\n",
      "Sweeney           36882750.0\n",
      "Gary              39138400.0\n",
      "Hodges            43231000.0\n",
      "YPA               46354350.0\n",
      "Miles             47582000.0\n",
      "Kay               48569500.0\n",
      "RT                50498000.0\n",
      "Brad              55955000.0\n",
      "Jas               59281600.0\n",
      "Harcourts         68720250.0\n",
      "McGrath           78386500.0\n",
      "Greg              85621000.0\n",
      "Woodards          85977500.0\n",
      "Noel              88129800.0\n",
      "Fletchers        108847700.0\n",
      "Biggin           110429500.0\n",
      "Buxton           219104000.0\n",
      "Ray              249572986.0\n",
      "Marshall         253957888.0\n",
      "hockingstuart    282834310.0\n",
      "Barry            296723050.0\n",
      "other            365038432.0\n",
      "Nelson           379767500.0\n",
      "Jellis           414121833.0\n",
      "Name: Price, dtype: float64\n"
     ]
    }
   ],
   "source": [
    "date1 = pd.to_datetime('2017-05-01')\n",
    "date2 = pd.to_datetime('2017-09-01')\n",
    "mask = (date1 <= melb_df['Date']) & (melb_df['Date'] <= date2)\n",
    "print(melb_df[mask].groupby('SellerG')['Price'].sum().sort_values(ascending=True))"
   ]
  },
  {
   "attachments": {},
   "cell_type": "markdown",
   "metadata": {},
   "source": [
    "## 4. Сводные таблицы\n",
    "### МЕТОД GROUPBY КАК СПОСОБ ПОСТРОЕНИЯ СВОДНЫХ ТАБЛИЦ\n",
    "##### таблица, которая показывает зависимость медианной цены и площади здания от числа комнат"
   ]
  },
  {
   "cell_type": "code",
   "execution_count": 24,
   "metadata": {},
   "outputs": [
    {
     "name": "stdout",
     "output_type": "stream",
     "text": [
      "           Price  BuildingArea\n",
      "Rooms                         \n",
      "1       385000.0         107.0\n",
      "2       690000.0         126.0\n",
      "3       950000.0         126.0\n",
      "4      1285000.0         142.0\n",
      "5      1660000.0         176.0\n",
      "6      1800000.0         126.0\n",
      "7      1496000.0         216.5\n",
      "8      1515000.0         126.0\n",
      "10      900000.0         126.0\n"
     ]
    }
   ],
   "source": [
    "print(melb_df.groupby('Rooms')[['Price','BuildingArea']].median())"
   ]
  },
  {
   "attachments": {},
   "cell_type": "markdown",
   "metadata": {},
   "source": [
    "##### таблица учитывающая зависимость средней цены и площади здания от числа комнат и типа здания, результатом которой объект Series"
   ]
  },
  {
   "cell_type": "code",
   "execution_count": 25,
   "metadata": {},
   "outputs": [
    {
     "name": "stdout",
     "output_type": "stream",
     "text": [
      "Rooms  Type     \n",
      "1      house        8.668655e+05\n",
      "       townhouse    5.927045e+05\n",
      "       unit         3.899289e+05\n",
      "2      house        1.017238e+06\n",
      "       townhouse    7.101585e+05\n",
      "       unit         6.104905e+05\n",
      "3      house        1.109233e+06\n",
      "       townhouse    9.847087e+05\n",
      "       unit         8.505963e+05\n",
      "4      house        1.462283e+06\n",
      "       townhouse    1.217092e+06\n",
      "       unit         1.037476e+06\n",
      "5      house        1.877327e+06\n",
      "       townhouse    1.035000e+06\n",
      "       unit                  NaN\n",
      "6      house        1.869508e+06\n",
      "       townhouse             NaN\n",
      "       unit         5.200000e+05\n",
      "7      house        1.920700e+06\n",
      "       townhouse             NaN\n",
      "       unit                  NaN\n",
      "8      house        1.510286e+06\n",
      "       townhouse             NaN\n",
      "       unit         2.250000e+06\n",
      "10     house        9.000000e+05\n",
      "       townhouse             NaN\n",
      "       unit                  NaN\n",
      "Name: Price, dtype: float64\n"
     ]
    }
   ],
   "source": [
    "print(melb_df.groupby(['Rooms', 'Type'])['Price'].mean())"
   ]
  },
  {
   "attachments": {},
   "cell_type": "markdown",
   "metadata": {},
   "source": [
    "##### таблица учитывающая зависимость средней цены и площади здания от числа комнат и типа здания, результатом которой сводная таблица"
   ]
  },
  {
   "cell_type": "code",
   "execution_count": 26,
   "metadata": {},
   "outputs": [
    {
     "name": "stdout",
     "output_type": "stream",
     "text": [
      "Type          house     townhouse          unit\n",
      "Rooms                                          \n",
      "1      8.668655e+05  5.927045e+05  3.899289e+05\n",
      "2      1.017238e+06  7.101585e+05  6.104905e+05\n",
      "3      1.109233e+06  9.847087e+05  8.505963e+05\n",
      "4      1.462283e+06  1.217092e+06  1.037476e+06\n",
      "5      1.877327e+06  1.035000e+06           NaN\n",
      "6      1.869508e+06           NaN  5.200000e+05\n",
      "7      1.920700e+06           NaN           NaN\n",
      "8      1.510286e+06           NaN  2.250000e+06\n",
      "10     9.000000e+05           NaN           NaN\n"
     ]
    }
   ],
   "source": [
    "print(melb_df.groupby(['Rooms', 'Type'])['Price'].mean().unstack())"
   ]
  },
  {
   "attachments": {},
   "cell_type": "markdown",
   "metadata": {},
   "source": [
    "### Метод pivot_table() для построения сводных таблиц\n",
    "##### анализ зависимости средней цены и площади от числа комнат и типа здания\n",
    "###### В качестве параметра values укажем столбец Price, в качестве индексов сводной таблицы возьмём Rooms, а в качестве столбцов — Type. Агрегирующую функцию оставим по умолчанию (среднее). Дополнительно заменим пропуски в таблице на значение 0. Финальный результат для наглядности вывода округлим с помощью метода round() до целых."
   ]
  },
  {
   "cell_type": "code",
   "execution_count": 27,
   "metadata": {},
   "outputs": [
    {
     "name": "stdout",
     "output_type": "stream",
     "text": [
      "Type       house  townhouse       unit\n",
      "Rooms                                 \n",
      "1       866866.0   592705.0   389929.0\n",
      "2      1017238.0   710158.0   610491.0\n",
      "3      1109233.0   984709.0   850596.0\n",
      "4      1462283.0  1217092.0  1037476.0\n",
      "5      1877327.0  1035000.0        0.0\n",
      "6      1869508.0        0.0   520000.0\n",
      "7      1920700.0        0.0        0.0\n",
      "8      1510286.0        0.0  2250000.0\n",
      "10      900000.0        0.0        0.0\n"
     ]
    }
   ],
   "source": [
    "print(melb_df.pivot_table(\n",
    "    values='Price',\n",
    "    index='Rooms',\n",
    "    columns='Type',\n",
    "    fill_value=0\n",
    ").round())"
   ]
  },
  {
   "attachments": {},
   "cell_type": "markdown",
   "metadata": {},
   "source": [
    "##### анализ продаж в каждом из регионов в зависимости от того, будний был день или выходной\n",
    "###### Сводная таблица, в которой строками будут являться названия регионов (Regionname), а в столбцах будет располагаться наш «признак-мигалка» выходного дня (Weekend), который равен 1, если день был выходным, и 0 — в противном случае. В качестве значений сводной таблицы возьмём количество продаж."
   ]
  },
  {
   "cell_type": "code",
   "execution_count": 28,
   "metadata": {},
   "outputs": [
    {
     "name": "stdout",
     "output_type": "stream",
     "text": [
      "Weekend                        0     1\n",
      "Regionname                            \n",
      "Eastern Metropolitan         447  1024\n",
      "Eastern Victoria              13    40\n",
      "Northern Metropolitan       1258  2632\n",
      "Northern Victoria             11    30\n",
      "South-Eastern Metropolitan   123   327\n",
      "Southern Metropolitan       1534  3161\n",
      "Western Metropolitan         960  1988\n",
      "Western Victoria               8    24\n"
     ]
    }
   ],
   "source": [
    "print(melb_df.pivot_table(\n",
    "    values='Price',\n",
    "    index='Regionname',\n",
    "    columns='Weekend',\n",
    "    aggfunc='count'\n",
    "))"
   ]
  },
  {
   "attachments": {},
   "cell_type": "markdown",
   "metadata": {},
   "source": [
    "##### Анализ зависимости средней и ммедианной площади участка от типа объекта и его региона\n"
   ]
  },
  {
   "cell_type": "code",
   "execution_count": 30,
   "metadata": {},
   "outputs": [
    {
     "name": "stdout",
     "output_type": "stream",
     "text": [
      "                           median                        mean              \\\n",
      "Type                        house townhouse unit        house   townhouse   \n",
      "Regionname                                                                  \n",
      "Eastern Metropolitan        674.0     233.5  203   717.422847  269.440678   \n",
      "Eastern Victoria            843.0       0.0  230  3108.960000    0.000000   \n",
      "Northern Metropolitan       459.5     134.0    0   619.249092  317.325733   \n",
      "Northern Victoria           724.0       0.0    0  3355.463415    0.000000   \n",
      "South-Eastern Metropolitan  630.5     240.0  199   664.306701  212.160000   \n",
      "Southern Metropolitan       586.0     246.0    0   569.643881  278.858824   \n",
      "Western Metropolitan        531.0     198.0   62   507.883406  244.560669   \n",
      "Western Victoria            599.5       0.0    0   655.500000    0.000000   \n",
      "\n",
      "                                        \n",
      "Type                              unit  \n",
      "Regionname                              \n",
      "Eastern Metropolitan        330.444444  \n",
      "Eastern Victoria            295.333333  \n",
      "Northern Metropolitan       495.026538  \n",
      "Northern Victoria             0.000000  \n",
      "South-Eastern Metropolitan  357.864865  \n",
      "Southern Metropolitan       466.380245  \n",
      "Western Metropolitan        557.637232  \n",
      "Western Victoria              0.000000  \n"
     ]
    }
   ],
   "source": [
    "print(melb_df.pivot_table(\n",
    "    values='Landsize',\n",
    "    index='Regionname',\n",
    "    columns='Type',\n",
    "    aggfunc=['median','mean'],\n",
    "    fill_value=0\n",
    "))\n"
   ]
  },
  {
   "attachments": {},
   "cell_type": "markdown",
   "metadata": {},
   "source": [
    "### Многомерные сводные таблицы\n",
    "##### Таблица, в которой по индексам будут располагаться признаки метода продажи (Method) и типа объекта (Type), по столбцам — наименование региона (Regionname), а на пересечении строк и столбцов будет стоять медианная цена объекта (Price)"
   ]
  },
  {
   "cell_type": "code",
   "execution_count": 31,
   "metadata": {},
   "outputs": [
    {
     "name": "stdout",
     "output_type": "stream",
     "text": [
      "Regionname        Eastern Metropolitan  Eastern Victoria  \\\n",
      "Method Type                                                \n",
      "PI     house                   1244000            780000   \n",
      "       townhouse                760000                 0   \n",
      "       unit                     650000                 0   \n",
      "S      house                   1127000            675000   \n",
      "       townhouse                828000                 0   \n",
      "       unit                     645750            492000   \n",
      "SA     house                    932500            950000   \n",
      "       townhouse                807500                 0   \n",
      "       unit                          0                 0   \n",
      "SP     house                   1050000            672500   \n",
      "       townhouse                910000                 0   \n",
      "       unit                     515000            400000   \n",
      "VB     house                   1100000            712500   \n",
      "       townhouse                892500                 0   \n",
      "       unit                     500000                 0   \n",
      "\n",
      "Regionname        Northern Metropolitan  Northern Victoria  \\\n",
      "Method Type                                                  \n",
      "PI     house                     900000             500000   \n",
      "       townhouse                 632500                  0   \n",
      "       unit                      410000                  0   \n",
      "S      house                     920000             555000   \n",
      "       townhouse                 750000                  0   \n",
      "       unit                      525500                  0   \n",
      "SA     house                     817500             540000   \n",
      "       townhouse                 425000                  0   \n",
      "       unit                      616000                  0   \n",
      "SP     house                     900000             521000   \n",
      "       townhouse                 690000                  0   \n",
      "       unit                      470000                  0   \n",
      "VB     house                    1050000             690000   \n",
      "       townhouse                 640000                  0   \n",
      "       unit                      450000                  0   \n",
      "\n",
      "Regionname        South-Eastern Metropolitan  Southern Metropolitan  \\\n",
      "Method Type                                                           \n",
      "PI     house                          865000                1725000   \n",
      "       townhouse                     1190000                1055000   \n",
      "       unit                           525000                 571250   \n",
      "S      house                          883300                1611000   \n",
      "       townhouse                      875000                1135000   \n",
      "       unit                           606000                 655000   \n",
      "SA     house                          880000                1390000   \n",
      "       townhouse                           0                1141000   \n",
      "       unit                                0                 580000   \n",
      "SP     house                          770000                1521750   \n",
      "       townhouse                      800000                1162500   \n",
      "       unit                           601000                 550000   \n",
      "VB     house                          850000                1800000   \n",
      "       townhouse                           0                1250000   \n",
      "       unit                           700000                 500000   \n",
      "\n",
      "Regionname        Western Metropolitan  Western Victoria  \n",
      "Method Type                                               \n",
      "PI     house                    870000            630000  \n",
      "       townhouse                670000                 0  \n",
      "       unit                     360000                 0  \n",
      "S      house                    870000            397500  \n",
      "       townhouse                729000                 0  \n",
      "       unit                     489000                 0  \n",
      "SA     house                    772500                 0  \n",
      "       townhouse                467500                 0  \n",
      "       unit                     571000                 0  \n",
      "SP     house                    865000            360000  \n",
      "       townhouse                702500                 0  \n",
      "       unit                     460000                 0  \n",
      "VB     house                    880000                 0  \n",
      "       townhouse                689500                 0  \n",
      "       unit                     420000                 0  \n"
     ]
    }
   ],
   "source": [
    "print(melb_df.pivot_table(\n",
    "    values='Price',\n",
    "    index=['Method','Type'],\n",
    "    columns='Regionname',\n",
    "    aggfunc='median',\n",
    "    fill_value=0    \n",
    "))"
   ]
  },
  {
   "attachments": {},
   "cell_type": "markdown",
   "metadata": {},
   "source": [
    "### Доступ к данным в сводной таблице\n"
   ]
  },
  {
   "attachments": {},
   "cell_type": "markdown",
   "metadata": {},
   "source": [
    "##### что представляют собой столбцы сложной сводной таблицы?\n"
   ]
  },
  {
   "cell_type": "code",
   "execution_count": 33,
   "metadata": {},
   "outputs": [
    {
     "name": "stdout",
     "output_type": "stream",
     "text": [
      "MultiIndex([('median',     'house'),\n",
      "            ('median', 'townhouse'),\n",
      "            ('median',      'unit'),\n",
      "            (  'mean',     'house'),\n",
      "            (  'mean', 'townhouse'),\n",
      "            (  'mean',      'unit')],\n",
      "           names=[None, 'Type'])\n"
     ]
    }
   ],
   "source": [
    "pivot = melb_df.pivot_table(\n",
    "    values='Landsize',\n",
    "    index='Regionname',\n",
    "    columns='Type',\n",
    "    aggfunc=['median', 'mean'],\n",
    "    fill_value=0\n",
    ")\n",
    "print(pivot.columns)"
   ]
  },
  {
   "cell_type": "code",
   "execution_count": 34,
   "metadata": {},
   "outputs": [
    {
     "name": "stdout",
     "output_type": "stream",
     "text": [
      "Regionname\n",
      "Eastern Metropolitan          330.444444\n",
      "Eastern Victoria              295.333333\n",
      "Northern Metropolitan         495.026538\n",
      "Northern Victoria               0.000000\n",
      "South-Eastern Metropolitan    357.864865\n",
      "Southern Metropolitan         466.380245\n",
      "Western Metropolitan          557.637232\n",
      "Western Victoria                0.000000\n",
      "Name: unit, dtype: float64\n"
     ]
    }
   ],
   "source": [
    "# из таблицы pivot мы можем получить средние значения площадей участков для типа здания unit, просто последовательно обратившись по имени столбцов:\n",
    "print(pivot['mean']['unit'])"
   ]
  },
  {
   "attachments": {},
   "cell_type": "markdown",
   "metadata": {},
   "source": [
    "##### Фильтрация данных. нужны регионы, в которых средняя площадь здания для домов типа house меньше их медианной площади"
   ]
  },
  {
   "cell_type": "code",
   "execution_count": 36,
   "metadata": {},
   "outputs": [
    {
     "name": "stdout",
     "output_type": "stream",
     "text": [
      "                      median                       mean              \\\n",
      "Type                   house townhouse unit       house   townhouse   \n",
      "Regionname                                                            \n",
      "Southern Metropolitan  586.0     246.0    0  569.643881  278.858824   \n",
      "Western Metropolitan   531.0     198.0   62  507.883406  244.560669   \n",
      "\n",
      "                                   \n",
      "Type                         unit  \n",
      "Regionname                         \n",
      "Southern Metropolitan  466.380245  \n",
      "Western Metropolitan   557.637232  \n"
     ]
    }
   ],
   "source": [
    "mask = pivot['mean']['house'] < pivot['median']['house']\n",
    "filtered_pivot=pivot[mask]\n",
    "print(filtered_pivot)"
   ]
  },
  {
   "cell_type": "code",
   "execution_count": 37,
   "metadata": {},
   "outputs": [
    {
     "name": "stdout",
     "output_type": "stream",
     "text": [
      "['Southern Metropolitan', 'Western Metropolitan']\n"
     ]
    }
   ],
   "source": [
    "print(list(filtered_pivot.index))\n",
    "# Чтобы получить индексы отфильтрованной таблицы, можно воспользоваться атрибутом index и обернуть результат в список"
   ]
  },
  {
   "attachments": {},
   "cell_type": "markdown",
   "metadata": {},
   "source": [
    "#### Создание мультиииндексных таблиц вручную\n"
   ]
  },
  {
   "cell_type": "code",
   "execution_count": 39,
   "metadata": {},
   "outputs": [
    {
     "name": "stdout",
     "output_type": "stream",
     "text": [
      "white  up       0.676152\n",
      "       down     0.823561\n",
      "       right    0.652355\n",
      "blue   up       0.036827\n",
      "       down     0.653106\n",
      "red    up       0.001119\n",
      "       down     0.765874\n",
      "       left     0.821787\n",
      "dtype: float64\n",
      "MultiIndex([('white',    'up'),\n",
      "            ('white',  'down'),\n",
      "            ('white', 'right'),\n",
      "            ( 'blue',    'up'),\n",
      "            ( 'blue',  'down'),\n",
      "            (  'red',    'up'),\n",
      "            (  'red',  'down'),\n",
      "            (  'red',  'left')],\n",
      "           )\n"
     ]
    }
   ],
   "source": [
    "import numpy as np\n",
    "mser = pd.Series(\n",
    "    np.random.rand(8),\n",
    "    index=[['white','white','white','blue','blue','red','red','red'],\n",
    "           ['up','down','right','up','down','up','down','left']])\n",
    "print(mser)\n",
    "print(mser.index)"
   ]
  },
  {
   "cell_type": "code",
   "execution_count": 41,
   "metadata": {},
   "outputs": [
    {
     "name": "stdout",
     "output_type": "stream",
     "text": [
      "                 pen               paper          \n",
      "                   1         2         1         2\n",
      "white up    0.289057  0.149718  0.683746  0.625456\n",
      "      down  0.367011  0.456594  0.464266  0.939403\n",
      "red   up    0.012476  0.182525  0.235024  0.014314\n",
      "      down  0.182497  0.239618  0.449439  0.865748\n"
     ]
    }
   ],
   "source": [
    "mframe = pd.DataFrame(\n",
    "    np.random.rand(16).reshape(4,4),\n",
    "    index = [['white','white','red','red'],['up','down','up','down']],\n",
    "    columns=[['pen','pen','paper','paper'],[1,2,1,2]]\n",
    ")\n",
    "print(mframe)"
   ]
  },
  {
   "attachments": {},
   "cell_type": "markdown",
   "metadata": {},
   "source": [
    "#### Задание 4.2\n",
    "##### Составьте сводную таблицу, которая показывает зависимость медианной площади (BuildingArea) здания от типа объекта недвижимости (Type) и количества жилых комнат в доме (Rooms). Для какой комбинации признаков площадь здания наибольшая? В качестве ответа запишите эту комбинацию (тип здания, число комнат) через запятую, без пробелов."
   ]
  },
  {
   "cell_type": "code",
   "execution_count": 44,
   "metadata": {},
   "outputs": [
    {
     "name": "stdout",
     "output_type": "stream",
     "text": [
      "Rooms         1    2    3      4    5    6      7    8    10\n",
      "Type                                                        \n",
      "house      126.0  126  126  141.0  177  126  216.5  126  126\n",
      "townhouse   88.0  114  126  159.5  152    0    0.0    0    0\n",
      "unit        69.5  110  126  126.0    0  171    0.0  126    0\n"
     ]
    }
   ],
   "source": [
    "print(melb_df.pivot_table(\n",
    "    values='BuildingArea',\n",
    "    index='Type',\n",
    "    columns='Rooms',\n",
    "    aggfunc='median',\n",
    "    fill_value=0\n",
    "))"
   ]
  },
  {
   "attachments": {},
   "cell_type": "markdown",
   "metadata": {},
   "source": [
    "#### Задание 4.3\n",
    "##### Составьте сводную таблицу, которая показывает зависимость медианной цены объекта недвижимости (Price) от риелторского агентства (SellerG) и типа здания (Type). Во вновь созданной таблице найдите агентство, у которого медианная цена для зданий типа unit максимальна. В качестве ответа запишите название этого агентства."
   ]
  },
  {
   "cell_type": "code",
   "execution_count": 48,
   "metadata": {},
   "outputs": [
    {
     "name": "stdout",
     "output_type": "stream",
     "text": [
      "Type             house  townhouse    unit\n",
      "SellerG                                  \n",
      "Alexkarbon     1036250     935000  560000\n",
      "Barry           830000     727500  502000\n",
      "Bells           692500     430500  457500\n",
      "Biggin         1151750     675000  548000\n",
      "Brad            875000     700000  465000\n",
      "Buckingham      830000     820000  553000\n",
      "Burnham         922500          0  305000\n",
      "Buxton         1323750    1030000  670000\n",
      "C21             836500     768750  625500\n",
      "Cayzer         1505000    1450000  707500\n",
      "Chisholm       1520000     950000  640000\n",
      "Collins        1566500     930000  592000\n",
      "Douglas         684000     500000  494500\n",
      "Eview           760000     597500  602000\n",
      "Fletchers      1390000    1238000  653000\n",
      "Gary           1370000     993500  550000\n",
      "Greg           1330000     900000  547500\n",
      "HAR             695000          0  518000\n",
      "Harcourts       740000     653750  500000\n",
      "Hodges         1500000    1105000  605500\n",
      "Jas             935000     699000  455000\n",
      "Jellis         1505000    1052000  591750\n",
      "Kay            2220000    1365000  695000\n",
      "LITTLE          970000     800000  447000\n",
      "Love            780000     846000  440000\n",
      "Marshall       1975000    1408500  715000\n",
      "McDonald       1242500          0  502500\n",
      "McGrath        1250000     810000  542500\n",
      "Miles          1090000     721500  555000\n",
      "Moonee          806000     715000  622000\n",
      "Nelson         1055000     730000  530000\n",
      "Nick           2025000     780000  900000\n",
      "Noel           1400500     990000  693250\n",
      "O'Brien         737504     430000  618500\n",
      "Philip         1035000     701000  636000\n",
      "Purplebricks    810000     927500  582500\n",
      "RT             1640000    1400000  630000\n",
      "RW              870000     630500  625500\n",
      "Raine           745000     608000  447500\n",
      "Ray             900000     650000  497500\n",
      "Rendina        1190000     750000  459000\n",
      "Stockdale       715500     550000  410000\n",
      "Sweeney         850000     728000  381000\n",
      "Thomson        1177000     500000  495000\n",
      "Village         973500     727500  420000\n",
      "Williams       1161000     735000  577000\n",
      "Woodards       1261000     865500  600000\n",
      "YPA             596250     498500  443500\n",
      "hockingstuart  1055000     935000  566000\n",
      "other           901000     840500  535000\n",
      "Nick\n"
     ]
    }
   ],
   "source": [
    "pivot_1 = melb_df.pivot_table(\n",
    "    values='Price',\n",
    "    index='SellerG',\n",
    "    columns='Type',\n",
    "    aggfunc='median',\n",
    "    fill_value=0)\n",
    "print(pivot_1)\n",
    "max_unit_price = pivot_1['unit'].max()\n",
    "print(pivot_1[pivot_1['unit'] == max_unit_price].index[0])"
   ]
  }
 ],
 "metadata": {
  "kernelspec": {
   "display_name": "Python 3",
   "language": "python",
   "name": "python3"
  },
  "language_info": {
   "codemirror_mode": {
    "name": "ipython",
    "version": 3
   },
   "file_extension": ".py",
   "mimetype": "text/x-python",
   "name": "python",
   "nbconvert_exporter": "python",
   "pygments_lexer": "ipython3",
   "version": "3.9.10 (tags/v3.9.10:f2f3f53, Jan 17 2022, 15:14:21) [MSC v.1929 64 bit (AMD64)]"
  },
  "orig_nbformat": 4,
  "vscode": {
   "interpreter": {
    "hash": "94900f6f90627b6c6383979c2732c570d13f9b98c5876e388cdb0864460ecd8e"
   }
  }
 },
 "nbformat": 4,
 "nbformat_minor": 2
}
