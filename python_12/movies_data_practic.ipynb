{
 "cells": [
  {
   "attachments": {},
   "cell_type": "markdown",
   "metadata": {},
   "source": [
    "# 5. Объединение DataFrame. Знакомимся с новыми данными"
   ]
  },
  {
   "cell_type": "code",
   "execution_count": 1,
   "metadata": {},
   "outputs": [
    {
     "name": "stdout",
     "output_type": "stream",
     "text": [
      "                  date\n",
      "0  2000-07-30 18:45:03\n",
      "1  2000-07-30 18:20:47\n",
      "2  2000-07-30 18:37:04\n",
      "3  2000-07-30 19:03:35\n",
      "4  2000-07-30 18:48:51\n",
      "<class 'pandas.core.frame.DataFrame'>\n",
      "RangeIndex: 100836 entries, 0 to 100835\n",
      "Data columns (total 1 columns):\n",
      " #   Column  Non-Null Count   Dtype \n",
      "---  ------  --------------   ----- \n",
      " 0   date    100836 non-null  object\n",
      "dtypes: object(1)\n",
      "memory usage: 787.9+ KB\n",
      "None\n"
     ]
    }
   ],
   "source": [
    "import pandas as pd\n",
    "dates = pd.read_csv('D:\\курс по data science\\IDE\\python_12\\data\\movies_data\\dates.csv')\n",
    "print(dates.head())\n",
    "print(dates.info())\n"
   ]
  },
  {
   "cell_type": "markdown",
   "metadata": {},
   "source": []
  },
  {
   "attachments": {},
   "cell_type": "markdown",
   "metadata": {},
   "source": [
    "### Задание 5.4\n",
    "#### В каком году было выставлено больше всего оценок? Для ответа на этот вопрос используйте таблицу dates."
   ]
  },
  {
   "cell_type": "code",
   "execution_count": 2,
   "metadata": {},
   "outputs": [
    {
     "name": "stdout",
     "output_type": "stream",
     "text": [
      "0        2000-07-30 18:45:03\n",
      "1        2000-07-30 18:20:47\n",
      "2        2000-07-30 18:37:04\n",
      "3        2000-07-30 19:03:35\n",
      "4        2000-07-30 18:48:51\n",
      "                 ...        \n",
      "100831   2017-05-03 21:53:22\n",
      "100832   2017-05-03 22:21:31\n",
      "100833   2017-05-08 19:50:47\n",
      "100834   2017-05-03 21:19:12\n",
      "100835   2017-05-03 21:20:15\n",
      "Name: date, Length: 100836, dtype: datetime64[ns]\n"
     ]
    }
   ],
   "source": [
    "dates['date'] = pd.to_datetime(dates['date'])\n",
    "\n",
    "print(dates['date'])"
   ]
  },
  {
   "cell_type": "code",
   "execution_count": 3,
   "metadata": {},
   "outputs": [
    {
     "name": "stdout",
     "output_type": "stream",
     "text": [
      "2000    10061\n",
      "2017     8198\n",
      "2007     7114\n",
      "2016     6703\n",
      "2015     6616\n",
      "2018     6418\n",
      "1996     6040\n",
      "2005     5813\n",
      "2012     4656\n",
      "2008     4351\n",
      "2009     4158\n",
      "2006     4059\n",
      "2003     4014\n",
      "2001     3922\n",
      "2002     3478\n",
      "2004     3279\n",
      "1999     2439\n",
      "2010     2301\n",
      "1997     1916\n",
      "2011     1690\n",
      "2013     1664\n",
      "2014     1439\n",
      "1998      507\n",
      "Name: date, dtype: int64\n"
     ]
    }
   ],
   "source": [
    "print(dates['date'].dt.year.value_counts())"
   ]
  },
  {
   "attachments": {},
   "cell_type": "markdown",
   "metadata": {},
   "source": [
    "# 6. Объединение DataFrame.Concat()"
   ]
  },
  {
   "cell_type": "code",
   "execution_count": 4,
   "metadata": {},
   "outputs": [
    {
     "name": "stdout",
     "output_type": "stream",
     "text": [
      "   movieId                               title  \\\n",
      "0        1                    Toy Story (1995)   \n",
      "1        2                      Jumanji (1995)   \n",
      "2        3             Grumpier Old Men (1995)   \n",
      "3        4            Waiting to Exhale (1995)   \n",
      "4        5  Father of the Bride Part II (1995)   \n",
      "\n",
      "                                        genres  \n",
      "0  Adventure|Animation|Children|Comedy|Fantasy  \n",
      "1                   Adventure|Children|Fantasy  \n",
      "2                               Comedy|Romance  \n",
      "3                         Comedy|Drama|Romance  \n",
      "4                                       Comedy  \n"
     ]
    }
   ],
   "source": [
    "\n",
    "movies = pd.read_csv('D:\\курс по data science\\IDE\\python_12\\data\\movies_data\\movies.csv', sep=',')\n",
    "print(movies.head())\n"
   ]
  },
  {
   "cell_type": "code",
   "execution_count": 5,
   "metadata": {},
   "outputs": [
    {
     "name": "stdout",
     "output_type": "stream",
     "text": [
      "   userId  movieId  rating\n",
      "0       1        1     4.0\n",
      "1       1        3     4.0\n",
      "2       1        6     4.0\n",
      "3       1       47     5.0\n",
      "4       1       50     5.0\n",
      "   userId  movieId  rating\n",
      "0     274     5621     2.0\n",
      "1     274     5630     3.0\n",
      "2     274     5667     3.5\n",
      "3     274     5679     3.5\n",
      "4     274     5690     3.0\n",
      "<class 'pandas.core.frame.DataFrame'>\n",
      "RangeIndex: 40001 entries, 0 to 40000\n",
      "Data columns (total 3 columns):\n",
      " #   Column   Non-Null Count  Dtype  \n",
      "---  ------   --------------  -----  \n",
      " 0   userId   40001 non-null  int64  \n",
      " 1   movieId  40001 non-null  int64  \n",
      " 2   rating   40001 non-null  float64\n",
      "dtypes: float64(1), int64(2)\n",
      "memory usage: 937.6 KB\n",
      "<class 'pandas.core.frame.DataFrame'>\n",
      "RangeIndex: 60836 entries, 0 to 60835\n",
      "Data columns (total 3 columns):\n",
      " #   Column   Non-Null Count  Dtype  \n",
      "---  ------   --------------  -----  \n",
      " 0   userId   60836 non-null  int64  \n",
      " 1   movieId  60836 non-null  int64  \n",
      " 2   rating   60836 non-null  float64\n",
      "dtypes: float64(1), int64(2)\n",
      "memory usage: 1.4 MB\n",
      "None None\n"
     ]
    }
   ],
   "source": [
    "ratings1 = pd.read_csv('D:\\\\курс по data science\\\\IDE\\\\python_12\\\\data\\\\movies_data\\\\ratings1.csv', sep=',')\n",
    "print(ratings1.head())\n",
    "ratings2 = pd.read_csv('D:\\\\курс по data science\\\\IDE\\\\python_12\\\\data\\\\movies_data\\\\ratings2.csv', sep=',')\n",
    "print(ratings2.head())\n",
    "print(ratings1.info(), ratings2.info())"
   ]
  },
  {
   "attachments": {},
   "cell_type": "markdown",
   "metadata": {},
   "source": [
    "##### Объединим две таблицы ( ratings1 и ratings2) по строкам\n"
   ]
  },
  {
   "cell_type": "code",
   "execution_count": 6,
   "metadata": {},
   "outputs": [
    {
     "name": "stdout",
     "output_type": "stream",
     "text": [
      "        userId  movieId  rating\n",
      "0            1        1     4.0\n",
      "1            1        3     4.0\n",
      "2            1        6     4.0\n",
      "3            1       47     5.0\n",
      "4            1       50     5.0\n",
      "...        ...      ...     ...\n",
      "100832     610   166534     4.0\n",
      "100833     610   168248     5.0\n",
      "100834     610   168250     5.0\n",
      "100835     610   168252     5.0\n",
      "100836     610   170875     3.0\n",
      "\n",
      "[100837 rows x 3 columns]\n"
     ]
    }
   ],
   "source": [
    "ratings = pd.concat([ratings1, ratings2], ignore_index=True)\n",
    "print(ratings)"
   ]
  },
  {
   "attachments": {},
   "cell_type": "markdown",
   "metadata": {},
   "source": [
    "#####  Узнаем количество строк в таблицах ratings и dates"
   ]
  },
  {
   "cell_type": "code",
   "execution_count": 7,
   "metadata": {},
   "outputs": [
    {
     "name": "stdout",
     "output_type": "stream",
     "text": [
      "Число строк в таблице ratings:  100837\n",
      "Число строк в таблице dates:  100836\n",
      "False\n"
     ]
    }
   ],
   "source": [
    "print('Число строк в таблице ratings: ', ratings.shape[0])\n",
    "print('Число строк в таблице dates: ', dates.shape[0])\n",
    "print(ratings.shape[0] == dates.shape[0])"
   ]
  },
  {
   "attachments": {},
   "cell_type": "markdown",
   "metadata": {},
   "source": [
    "##### Удалить дубликаты из таблицы\n"
   ]
  },
  {
   "cell_type": "code",
   "execution_count": 8,
   "metadata": {},
   "outputs": [
    {
     "name": "stdout",
     "output_type": "stream",
     "text": [
      "Число строк в таблице ratings:  100836\n"
     ]
    }
   ],
   "source": [
    "ratings = ratings.drop_duplicates(ignore_index=True)\n",
    "print('Число строк в таблице ratings: ', ratings.shape[0])"
   ]
  },
  {
   "attachments": {},
   "cell_type": "markdown",
   "metadata": {},
   "source": [
    "#####  добавить к таблице с оценками даты их выставления"
   ]
  },
  {
   "cell_type": "code",
   "execution_count": 9,
   "metadata": {},
   "outputs": [
    {
     "name": "stdout",
     "output_type": "stream",
     "text": [
      "        userId  movieId  rating                date\n",
      "100829     610   164179     5.0 2017-05-03 21:07:11\n",
      "100830     610   166528     4.0 2017-05-04 06:29:25\n",
      "100831     610   166534     4.0 2017-05-03 21:53:22\n",
      "100832     610   168248     5.0 2017-05-03 22:21:31\n",
      "100833     610   168250     5.0 2017-05-08 19:50:47\n",
      "100834     610   168252     5.0 2017-05-03 21:19:12\n",
      "100835     610   170875     3.0 2017-05-03 21:20:15\n"
     ]
    }
   ],
   "source": [
    "ratings_dates = pd.concat([ratings, dates], axis=1)\n",
    "print(ratings_dates.tail(7))"
   ]
  },
  {
   "attachments": {},
   "cell_type": "markdown",
   "metadata": {},
   "source": [
    "# 7. Объединение DataFrame: join, merge\n",
    "## Метод объединения join()\n",
    "### Объединение таблиц типом left"
   ]
  },
  {
   "cell_type": "code",
   "execution_count": 10,
   "metadata": {},
   "outputs": [
    {
     "name": "stdout",
     "output_type": "stream",
     "text": [
      "        userId  movieId  rating                date  movieIdright  \\\n",
      "0            1        1     4.0 2000-07-30 18:45:03           1.0   \n",
      "1            1        3     4.0 2000-07-30 18:20:47           2.0   \n",
      "2            1        6     4.0 2000-07-30 18:37:04           3.0   \n",
      "3            1       47     5.0 2000-07-30 19:03:35           4.0   \n",
      "4            1       50     5.0 2000-07-30 18:48:51           5.0   \n",
      "...        ...      ...     ...                 ...           ...   \n",
      "100831     610   166534     4.0 2017-05-03 21:53:22           NaN   \n",
      "100832     610   168248     5.0 2017-05-03 22:21:31           NaN   \n",
      "100833     610   168250     5.0 2017-05-08 19:50:47           NaN   \n",
      "100834     610   168252     5.0 2017-05-03 21:19:12           NaN   \n",
      "100835     610   170875     3.0 2017-05-03 21:20:15           NaN   \n",
      "\n",
      "                                     title  \\\n",
      "0                         Toy Story (1995)   \n",
      "1                           Jumanji (1995)   \n",
      "2                  Grumpier Old Men (1995)   \n",
      "3                 Waiting to Exhale (1995)   \n",
      "4       Father of the Bride Part II (1995)   \n",
      "...                                    ...   \n",
      "100831                                 NaN   \n",
      "100832                                 NaN   \n",
      "100833                                 NaN   \n",
      "100834                                 NaN   \n",
      "100835                                 NaN   \n",
      "\n",
      "                                             genres  \n",
      "0       Adventure|Animation|Children|Comedy|Fantasy  \n",
      "1                        Adventure|Children|Fantasy  \n",
      "2                                    Comedy|Romance  \n",
      "3                              Comedy|Drama|Romance  \n",
      "4                                            Comedy  \n",
      "...                                             ...  \n",
      "100831                                          NaN  \n",
      "100832                                          NaN  \n",
      "100833                                          NaN  \n",
      "100834                                          NaN  \n",
      "100835                                          NaN  \n",
      "\n",
      "[100836 rows x 7 columns]\n"
     ]
    }
   ],
   "source": [
    "joined_false = ratings_dates.join(\n",
    "    movies,\n",
    "    rsuffix='right',\n",
    "    how='left'\n",
    ")\n",
    "print(joined_false)"
   ]
  },
  {
   "attachments": {},
   "cell_type": "markdown",
   "metadata": {},
   "source": [
    "### Объединение таблиц типом right"
   ]
  },
  {
   "cell_type": "code",
   "execution_count": 11,
   "metadata": {},
   "outputs": [
    {
     "name": "stdout",
     "output_type": "stream",
     "text": [
      "      userId  movieIdleft  rating                date  movieId  \\\n",
      "0          1            1     4.0 2000-07-30 18:45:03        1   \n",
      "1          1            3     4.0 2000-07-30 18:20:47        2   \n",
      "2          1            6     4.0 2000-07-30 18:37:04        3   \n",
      "3          1           47     5.0 2000-07-30 19:03:35        4   \n",
      "4          1           50     5.0 2000-07-30 18:48:51        5   \n",
      "...      ...          ...     ...                 ...      ...   \n",
      "9737      64         3481     4.0 2006-10-22 12:37:45   193581   \n",
      "9738      64         3489     3.0 2006-10-22 23:28:09   193583   \n",
      "9739      64         3499     4.5 2006-10-22 23:26:41   193585   \n",
      "9740      64         3510     3.0 2006-10-22 23:27:26   193587   \n",
      "9741      64         3526     4.0 2006-10-23 01:23:47   193609   \n",
      "\n",
      "                                          title  \\\n",
      "0                              Toy Story (1995)   \n",
      "1                                Jumanji (1995)   \n",
      "2                       Grumpier Old Men (1995)   \n",
      "3                      Waiting to Exhale (1995)   \n",
      "4            Father of the Bride Part II (1995)   \n",
      "...                                         ...   \n",
      "9737  Black Butler: Book of the Atlantic (2017)   \n",
      "9738               No Game No Life: Zero (2017)   \n",
      "9739                               Flint (2017)   \n",
      "9740        Bungo Stray Dogs: Dead Apple (2018)   \n",
      "9741        Andrew Dice Clay: Dice Rules (1991)   \n",
      "\n",
      "                                           genres  \n",
      "0     Adventure|Animation|Children|Comedy|Fantasy  \n",
      "1                      Adventure|Children|Fantasy  \n",
      "2                                  Comedy|Romance  \n",
      "3                            Comedy|Drama|Romance  \n",
      "4                                          Comedy  \n",
      "...                                           ...  \n",
      "9737              Action|Animation|Comedy|Fantasy  \n",
      "9738                     Animation|Comedy|Fantasy  \n",
      "9739                                        Drama  \n",
      "9740                             Action|Animation  \n",
      "9741                                       Comedy  \n",
      "\n",
      "[9742 rows x 7 columns]\n"
     ]
    }
   ],
   "source": [
    "joined_right = ratings_dates.join(\n",
    "    movies,\n",
    "    lsuffix = 'left',\n",
    "    how = 'right'\n",
    ")\n",
    "print(joined_right)\n"
   ]
  },
  {
   "attachments": {},
   "cell_type": "markdown",
   "metadata": {},
   "source": [
    "### Получить соответствие фильмов и их рейтингов\n",
    "##### Чтобы совместить таблицы по ключевому столбцу с помощью метода join(), необходимо использовать ключевой столбец в «правой» таблице в качестве индекса. Это можно сделать с помощью метода set_index(). Также необходимо указать название ключа в параметре on."
   ]
  },
  {
   "cell_type": "code",
   "execution_count": 13,
   "metadata": {},
   "outputs": [
    {
     "name": "stdout",
     "output_type": "stream",
     "text": [
      "   userId  movieId  rating                date                        title  \\\n",
      "0       1        1     4.0 2000-07-30 18:45:03             Toy Story (1995)   \n",
      "1       1        3     4.0 2000-07-30 18:20:47      Grumpier Old Men (1995)   \n",
      "2       1        6     4.0 2000-07-30 18:37:04                  Heat (1995)   \n",
      "3       1       47     5.0 2000-07-30 19:03:35  Seven (a.k.a. Se7en) (1995)   \n",
      "4       1       50     5.0 2000-07-30 18:48:51   Usual Suspects, The (1995)   \n",
      "\n",
      "                                        genres  \n",
      "0  Adventure|Animation|Children|Comedy|Fantasy  \n",
      "1                               Comedy|Romance  \n",
      "2                        Action|Crime|Thriller  \n",
      "3                             Mystery|Thriller  \n",
      "4                       Crime|Mystery|Thriller  \n"
     ]
    }
   ],
   "source": [
    "joined = ratings_dates.join(\n",
    "    movies.set_index('movieId'),\n",
    "    on='movieId',\n",
    "    how='left'\n",
    ")\n",
    "print(joined.head())"
   ]
  },
  {
   "attachments": {},
   "cell_type": "markdown",
   "metadata": {},
   "source": [
    "## Метод объединения merge()"
   ]
  },
  {
   "attachments": {},
   "cell_type": "markdown",
   "metadata": {},
   "source": [
    "#### Слияние таблиц"
   ]
  },
  {
   "cell_type": "code",
   "execution_count": 14,
   "metadata": {},
   "outputs": [
    {
     "name": "stdout",
     "output_type": "stream",
     "text": [
      "   userId  movieId  rating                date                        title  \\\n",
      "0       1        1     4.0 2000-07-30 18:45:03             Toy Story (1995)   \n",
      "1       1        3     4.0 2000-07-30 18:20:47      Grumpier Old Men (1995)   \n",
      "2       1        6     4.0 2000-07-30 18:37:04                  Heat (1995)   \n",
      "3       1       47     5.0 2000-07-30 19:03:35  Seven (a.k.a. Se7en) (1995)   \n",
      "4       1       50     5.0 2000-07-30 18:48:51   Usual Suspects, The (1995)   \n",
      "\n",
      "                                        genres  \n",
      "0  Adventure|Animation|Children|Comedy|Fantasy  \n",
      "1                               Comedy|Romance  \n",
      "2                        Action|Crime|Thriller  \n",
      "3                             Mystery|Thriller  \n",
      "4                       Crime|Mystery|Thriller  \n"
     ]
    }
   ],
   "source": [
    "merged = ratings_dates.merge(\n",
    "    movies,\n",
    "    on='movieId',\n",
    "    how='left'\n",
    ")\n",
    "print(merged.head())"
   ]
  },
  {
   "attachments": {},
   "cell_type": "markdown",
   "metadata": {},
   "source": [
    "#### Проверим, что число строк в таблице ratings_dates совпадает с числом строк в результирующей таблице merged:"
   ]
  },
  {
   "cell_type": "code",
   "execution_count": 15,
   "metadata": {},
   "outputs": [
    {
     "name": "stdout",
     "output_type": "stream",
     "text": [
      "Число строк в таблице ratings_dates:  100836\n",
      "Число строк в таблице merged:  100836\n",
      "True\n"
     ]
    }
   ],
   "source": [
    "print('Число строк в таблице ratings_dates: ', ratings_dates.shape[0])\n",
    "print('Число строк в таблице merged: ', merged.shape[0])\n",
    "print(ratings_dates.shape[0] == merged.shape[0])"
   ]
  },
  {
   "attachments": {},
   "cell_type": "markdown",
   "metadata": {},
   "source": [
    "#### почему мы выбрали тип объединения left, а не full?"
   ]
  },
  {
   "cell_type": "code",
   "execution_count": 16,
   "metadata": {},
   "outputs": [
    {
     "name": "stdout",
     "output_type": "stream",
     "text": [
      "Чмсло строк в таблице mmerged2:  100854\n",
      "        userId  movieId  rating date                               title  \\\n",
      "100849     NaN    30892     NaN  NaT  In the Realms of the Unreal (2004)   \n",
      "100850     NaN    32160     NaN  NaT            Twentieth Century (1934)   \n",
      "100851     NaN    32371     NaN  NaT           Call Northside 777 (1948)   \n",
      "100852     NaN    34482     NaN  NaT        Browning Version, The (1951)   \n",
      "100853     NaN    85565     NaN  NaT                  Chalet Girl (2011)   \n",
      "\n",
      "                       genres  \n",
      "100849  Animation|Documentary  \n",
      "100850                 Comedy  \n",
      "100851  Crime|Drama|Film-Noir  \n",
      "100852                  Drama  \n",
      "100853         Comedy|Romance  \n"
     ]
    }
   ],
   "source": [
    "merged2 = ratings_dates.merge(\n",
    "    movies,\n",
    "    on='movieId',\n",
    "    how='outer'\n",
    ")\n",
    "print('Число строк в таблице mmerged2: ', merged2.shape[0])\n",
    "print(merged2.tail())"
   ]
  },
  {
   "attachments": {},
   "cell_type": "markdown",
   "metadata": {},
   "source": [
    "### Метод merge() с внешним (outer) типом объединения может использоваться как аналог метода concat() при объединении таблиц с одинаковой структурой (одинаковые количество и названия столбцов) по строкам."
   ]
  },
  {
   "cell_type": "code",
   "execution_count": 17,
   "metadata": {},
   "outputs": [
    {
     "name": "stdout",
     "output_type": "stream",
     "text": [
      "Число строк в таблице merge_ratings:  100836\n",
      "        userId  movieId  rating\n",
      "0            1        1     4.0\n",
      "1            1        3     4.0\n",
      "2            1        6     4.0\n",
      "3            1       47     5.0\n",
      "4            1       50     5.0\n",
      "...        ...      ...     ...\n",
      "100831     610   166534     4.0\n",
      "100832     610   168248     5.0\n",
      "100833     610   168250     5.0\n",
      "100834     610   168252     5.0\n",
      "100835     610   170875     3.0\n",
      "\n",
      "[100836 rows x 3 columns]\n"
     ]
    }
   ],
   "source": [
    "merge_ratings = ratings1.merge(ratings2, how='outer')\n",
    "print('Число строк в таблице merge_ratings: ', merge_ratings.shape[0])\n",
    "print(merge_ratings)"
   ]
  },
  {
   "attachments": {},
   "cell_type": "markdown",
   "metadata": {},
   "source": [
    "#### Задание 7.5\n",
    "##### Даны две таблицы: items_df, в которой содержится информация о наличии товаров на складе, и purchase_df — с данными о покупках товаров.\n",
    "\n",
    "items_df = pd.DataFrame({\n",
    "    'item_id': [417283, 849734, 132223, 573943, 19475, 3294095, 382043, 302948, 100132, 312394], \n",
    "    'vendor': ['Samsung', 'LG', 'Apple', 'Apple', 'LG', 'Apple', 'Samsung', 'Samsung', 'LG', 'ZTE'],\n",
    "    'stock_count': [54, 33, 122, 18, 102, 43, 77, 143, 60, 19]\n",
    "})\n",
    "purchase_df = pd.DataFrame({\n",
    "    'purchase_id': [101, 101, 101, 112, 121, 145, 145, 145, 145, 221],\n",
    "    'item_id': [417283, 849734, 132223, 573943, 19475, 3294095, 382043, 302948, 103845, 100132], \n",
    "    'price': [13900, 5330, 38200, 49990, 9890, 33000, 67500, 34500, 89900, 11400]\n",
    "})\n",
    "Информация в таблицах представлена в виде следующих столбцов:\n",
    "\n",
    "item_id — идентификатор модели;\n",
    "vendor — производитель модели;\n",
    "stock_count — имеющееся на складе количество данных моделей (в штуках);\n",
    "purchase_id — идентификатор покупки;\n",
    "price — стоимость модели в покупке.\n",
    "Сформируйте DataFrame merged, в котором в результате объединения purchase_df и items_df останутся модели, которые учтены на складе и имели продажи.\n",
    "Из таблицы merged найдите суммарную выручку, которую можно было бы получить от продажи всех товаров, которые учтены на складе и имели продажи. Результат занесите в переменную income."
   ]
  },
  {
   "cell_type": "code",
   "execution_count": 24,
   "metadata": {},
   "outputs": [
    {
     "name": "stdout",
     "output_type": "stream",
     "text": [
      "   item_id   vendor  stock_count\n",
      "0   417283  Samsung           54\n",
      "1   849734       LG           33\n",
      "2   132223    Apple          122\n",
      "   purchase_id  item_id  price\n",
      "0          101   417283  13900\n",
      "1          101   849734   5330\n",
      "2          101   132223  38200\n",
      "   item_id   vendor  stock_count  purchase_id  price\n",
      "0   417283  Samsung           54          101  13900\n",
      "1   849734       LG           33          101   5330\n",
      "2   132223    Apple          122          101  38200\n",
      "3   573943    Apple           18          112  49990\n",
      "4    19475       LG          102          121   9890\n",
      "5  3294095    Apple           43          145  33000\n",
      "6   382043  Samsung           77          145  67500\n",
      "7   302948  Samsung          143          145  34500\n",
      "8   100132       LG           60          221  11400\n",
      "19729490\n"
     ]
    }
   ],
   "source": [
    "# наличие товаров на складе\n",
    "items_df = pd.DataFrame({\n",
    "    'item_id': [417283, 849734, 132223, 573943, 19475, 3294095, 382043, 302948, 100132, 312394],\n",
    "    'vendor': ['Samsung', 'LG', 'Apple', 'Apple', 'LG', 'Apple', 'Samsung', 'Samsung', 'LG', 'ZTE'],\n",
    "    'stock_count': [54, 33, 122, 18, 102, 43, 77, 143, 60, 19]\n",
    "})\n",
    "# данные о покупках товаров\n",
    "purchase_df = pd.DataFrame({\n",
    "    'purchase_id': [101, 101, 101, 112, 121, 145, 145, 145, 145, 221],\n",
    "    'item_id': [417283, 849734, 132223, 573943, 19475, 3294095, 382043, 302948, 103845, 100132],\n",
    "    'price': [13900, 5330, 38200, 49990, 9890, 33000, 67500, 34500, 89900, 11400]\n",
    "})\n",
    "\n",
    "print(items_df.head(3))\n",
    "print(purchase_df.head(3))\n",
    "\n",
    "merged_df = items_df.merge(\n",
    "    purchase_df,\n",
    "    how='inner',\n",
    "    on='item_id'\n",
    ")\n",
    "print(merged_df)\n",
    "\n",
    "income = (merged_df['stock_count']*merged_df['price']).sum()\n",
    "print(income)"
   ]
  }
 ],
 "metadata": {
  "kernelspec": {
   "display_name": "Python 3",
   "language": "python",
   "name": "python3"
  },
  "language_info": {
   "codemirror_mode": {
    "name": "ipython",
    "version": 3
   },
   "file_extension": ".py",
   "mimetype": "text/x-python",
   "name": "python",
   "nbconvert_exporter": "python",
   "pygments_lexer": "ipython3",
   "version": "3.9.10 (tags/v3.9.10:f2f3f53, Jan 17 2022, 15:14:21) [MSC v.1929 64 bit (AMD64)]"
  },
  "orig_nbformat": 4,
  "vscode": {
   "interpreter": {
    "hash": "94900f6f90627b6c6383979c2732c570d13f9b98c5876e388cdb0864460ecd8e"
   }
  }
 },
 "nbformat": 4,
 "nbformat_minor": 2
}
