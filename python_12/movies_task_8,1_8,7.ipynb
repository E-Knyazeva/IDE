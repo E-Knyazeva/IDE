{
 "cells": [
  {
   "cell_type": "code",
   "execution_count": 1,
   "metadata": {},
   "outputs": [
    {
     "name": "stdout",
     "output_type": "stream",
     "text": [
      "        Unnamed: 0  userId  movieId  rating                 date  \\\n",
      "0                0       1        1     4.0  2000-07-30 18:45:03   \n",
      "1                1       1        3     4.0  2000-07-30 18:20:47   \n",
      "2                2       1        6     4.0  2000-07-30 18:37:04   \n",
      "3                3       1       47     5.0  2000-07-30 19:03:35   \n",
      "4                4       1       50     5.0  2000-07-30 18:48:51   \n",
      "...            ...     ...      ...     ...                  ...   \n",
      "100831      100831     610   166534     4.0  2017-05-03 21:53:22   \n",
      "100832      100832     610   168248     5.0  2017-05-03 22:21:31   \n",
      "100833      100833     610   168250     5.0  2017-05-08 19:50:47   \n",
      "100834      100834     610   168252     5.0  2017-05-03 21:19:12   \n",
      "100835      100835     610   170875     3.0  2017-05-03 21:20:15   \n",
      "\n",
      "                                 title  \\\n",
      "0                     Toy Story (1995)   \n",
      "1              Grumpier Old Men (1995)   \n",
      "2                          Heat (1995)   \n",
      "3          Seven (a.k.a. Se7en) (1995)   \n",
      "4           Usual Suspects, The (1995)   \n",
      "...                                ...   \n",
      "100831                    Split (2017)   \n",
      "100832   John Wick: Chapter Two (2017)   \n",
      "100833                  Get Out (2017)   \n",
      "100834                    Logan (2017)   \n",
      "100835  The Fate of the Furious (2017)   \n",
      "\n",
      "                                             genres  \n",
      "0       Adventure|Animation|Children|Comedy|Fantasy  \n",
      "1                                    Comedy|Romance  \n",
      "2                             Action|Crime|Thriller  \n",
      "3                                  Mystery|Thriller  \n",
      "4                            Crime|Mystery|Thriller  \n",
      "...                                             ...  \n",
      "100831                        Drama|Horror|Thriller  \n",
      "100832                        Action|Crime|Thriller  \n",
      "100833                                       Horror  \n",
      "100834                                Action|Sci-Fi  \n",
      "100835                  Action|Crime|Drama|Thriller  \n",
      "\n",
      "[100836 rows x 7 columns]\n"
     ]
    }
   ],
   "source": [
    "import pandas as pd\n",
    "ratings_movies = pd.read_csv('D:\\\\курс по data science\\\\IDE\\\\python_12\\\\data\\\\movies_data\\\\ratings_movies.csv')\n",
    "print(ratings_movies)"
   ]
  },
  {
   "attachments": {},
   "cell_type": "markdown",
   "metadata": {},
   "source": [
    "#### Для решения задач нам понадобится выделить из признака title год выпуска фильма."
   ]
  },
  {
   "cell_type": "code",
   "execution_count": 6,
   "metadata": {},
   "outputs": [],
   "source": [
    "import re\n",
    "def get_year_release(arg):\n",
    "    candidates = re.findall(r'\\(\\d{4}\\)', arg)\n",
    "    if len(candidates) > 0:\n",
    "        year = candidates[0].replace('(', '')\n",
    "        year = year.replace(')','')\n",
    "        return int(year)\n",
    "    else:\n",
    "        return None\n",
    "    \n"
   ]
  },
  {
   "attachments": {},
   "cell_type": "markdown",
   "metadata": {},
   "source": [
    "### Задание 8.1\n",
    "#### Создайте в таблице новый признак year_release, который соответствует году выпуска фильма. У скольких фильмов не указан год их выпуска?"
   ]
  },
  {
   "cell_type": "code",
   "execution_count": 7,
   "metadata": {},
   "outputs": [
    {
     "name": "stdout",
     "output_type": "stream",
     "text": [
      "<class 'pandas.core.frame.DataFrame'>\n",
      "RangeIndex: 100836 entries, 0 to 100835\n",
      "Data columns (total 8 columns):\n",
      " #   Column        Non-Null Count   Dtype  \n",
      "---  ------        --------------   -----  \n",
      " 0   Unnamed: 0    100836 non-null  int64  \n",
      " 1   userId        100836 non-null  int64  \n",
      " 2   movieId       100836 non-null  int64  \n",
      " 3   rating        100836 non-null  float64\n",
      " 4   date          100836 non-null  object \n",
      " 5   title         100836 non-null  object \n",
      " 6   genres        100836 non-null  object \n",
      " 7   year_release  100818 non-null  float64\n",
      "dtypes: float64(2), int64(3), object(3)\n",
      "memory usage: 6.2+ MB\n",
      "None\n"
     ]
    }
   ],
   "source": [
    "ratings_movies['year_release'] = ratings_movies['title'].apply(get_year_release)\n",
    "print(ratings_movies.info())\n",
    "# всего фильмов 100836, есть год у 100818, соответственно не указан год выпуска у 18 фильмов"
   ]
  },
  {
   "attachments": {},
   "cell_type": "markdown",
   "metadata": {},
   "source": [
    "### Задание 8.2\n",
    "#### Какой фильм, выпущенный в 1999 году, получил наименьшую среднюю оценку зрителей? В качестве ответа запишите название этого фильма без указания года его выпуска.\n"
   ]
  },
  {
   "cell_type": "code",
   "execution_count": 10,
   "metadata": {},
   "outputs": [
    {
     "name": "stdout",
     "output_type": "stream",
     "text": [
      "title\n",
      "Bloodsport: The Dark Kumite (1999)            0.5\n",
      "Simon Sez (1999)                              1.0\n",
      "Chill Factor (1999)                           1.0\n",
      "Source, The (1999)                            1.0\n",
      "Trippin' (1999)                               1.0\n",
      "                                             ... \n",
      "Trailer Park Boys (1999)                      5.0\n",
      "Larry David: Curb Your Enthusiasm (1999)      5.0\n",
      "Sun Alley (Sonnenallee) (1999)                5.0\n",
      "George Carlin: You Are All Diseased (1999)    5.0\n",
      "Five Senses, The (1999)                       5.0\n",
      "Name: rating, Length: 261, dtype: float64\n"
     ]
    }
   ],
   "source": [
    "mask = ratings_movies['year_release'] == 1999\n",
    "print(ratings_movies[mask].groupby('title')['rating'].mean().sort_values())"
   ]
  },
  {
   "attachments": {},
   "cell_type": "markdown",
   "metadata": {},
   "source": [
    "### Задание 8.3\n",
    "#### Какое сочетание жанров фильмов (genres), выпущенных в 2010 году, получило наименьшую среднюю оценку (rating)? Запишите сочетание так же, как оно указано в таблице (через разделитель |, без пробелов)."
   ]
  },
  {
   "cell_type": "code",
   "execution_count": 11,
   "metadata": {},
   "outputs": [
    {
     "name": "stdout",
     "output_type": "stream",
     "text": [
      "genres\n",
      "Action|Sci-Fi                        1.000000\n",
      "Action|Adventure|Horror              1.500000\n",
      "Action|Drama|Fantasy                 1.500000\n",
      "Crime|Romance                        1.500000\n",
      "Adventure|Comedy|Fantasy             1.833333\n",
      "                                       ...   \n",
      "Crime                                4.750000\n",
      "Comedy|Musical                       5.000000\n",
      "Animation|Drama|Fantasy|Mystery      5.000000\n",
      "Adventure|Children|Comedy|Mystery    5.000000\n",
      "Animation|Children|Mystery           5.000000\n",
      "Name: rating, Length: 119, dtype: float64\n"
     ]
    }
   ],
   "source": [
    "genres = ratings_movies['year_release'] == 2010\n",
    "print(ratings_movies[genres].groupby('genres')['rating'].mean().sort_values())"
   ]
  },
  {
   "attachments": {},
   "cell_type": "markdown",
   "metadata": {},
   "source": [
    "### Задание 8.4\n",
    "#### Какой пользователь (userId) посмотрел наибольшее количество различных (уникальных) комбинаций жанров (genres) фильмов? В качестве ответа запишите идентификатор этого пользователя."
   ]
  },
  {
   "cell_type": "code",
   "execution_count": 17,
   "metadata": {},
   "outputs": [
    {
     "name": "stdout",
     "output_type": "stream",
     "text": [
      "userId\n",
      "599    524\n",
      "414    482\n",
      "448    403\n",
      "380    399\n",
      "474    395\n",
      "      ... \n",
      "578     15\n",
      "12      15\n",
      "85      13\n",
      "214     13\n",
      "245     13\n",
      "Name: genres, Length: 610, dtype: int64\n"
     ]
    }
   ],
   "source": [
    "print(ratings_movies.groupby\n",
    "      ('userId')['genres'].nunique().sort_values(ascending=False))\n"
   ]
  },
  {
   "attachments": {},
   "cell_type": "markdown",
   "metadata": {},
   "source": [
    "### Задание 8.5\n",
    "#### Найдите пользователя, который выставил наименьшее количество оценок, но его средняя оценка фильмам наибольшая. В качестве ответа укажите идентификатор этого пользователя."
   ]
  },
  {
   "cell_type": "code",
   "execution_count": 18,
   "metadata": {},
   "outputs": [
    {
     "name": "stdout",
     "output_type": "stream",
     "text": [
      "        count      mean\n",
      "userId                 \n",
      "53         20  5.000000\n",
      "595        20  4.200000\n",
      "189        20  4.100000\n",
      "569        20  4.000000\n",
      "278        20  3.875000\n",
      "...       ...       ...\n",
      "274      1346  3.235884\n",
      "448      1864  2.847371\n",
      "474      2108  3.398956\n",
      "599      2478  2.642050\n",
      "414      2698  3.391957\n",
      "\n",
      "[610 rows x 2 columns]\n"
     ]
    }
   ],
   "source": [
    "print(ratings_movies.groupby(\n",
    "    'userId')['rating'].agg(\n",
    "        ['count','mean']\n",
    "    ).sort_values(['count','mean'], ascending=[True, False])\n",
    "      )"
   ]
  },
  {
   "attachments": {},
   "cell_type": "markdown",
   "metadata": {},
   "source": [
    "### Задание 8.6\n",
    "#### Найдите сочетание жанров (genres) за 2018 году, которое имеет наибольший средний рейтинг (среднее по столбцу rating), и при этом число выставленных ему оценок (количество значений в столбце rating) больше 10.Напишите сочетание так же, как оно указано в таблице (через разделитель |, без пробелов)."
   ]
  },
  {
   "cell_type": "code",
   "execution_count": 19,
   "metadata": {},
   "outputs": [
    {
     "name": "stdout",
     "output_type": "stream",
     "text": [
      "                             mean  count\n",
      "genres                                  \n",
      "Action|Adventure|Sci-Fi  3.928571     14\n",
      "Action|Comedy|Sci-Fi     3.875000     12\n"
     ]
    }
   ],
   "source": [
    "mask_genres = ratings_movies['year_release'] == 2018\n",
    "grouped_genres = ratings_movies[mask_genres].groupby(\n",
    "    'genres')['rating'].agg(['mean','count'])\n",
    "print(grouped_genres[\n",
    "    grouped_genres['count']>10].sort_values(\n",
    "        by='mean',\n",
    "        ascending=False\n",
    "    ))"
   ]
  },
  {
   "attachments": {},
   "cell_type": "markdown",
   "metadata": {},
   "source": [
    "### Задание 8.7\n",
    "#### Добавьте в таблицу новый признак year_rating — год выставления оценки. Создайте сводную таблицу, которая иллюстрирует зависимость среднего рейтинга фильма от года выставления оценки и жанра. Выберите верные варианты ответа, исходя из построенной таблицы:"
   ]
  },
  {
   "cell_type": "code",
   "execution_count": 21,
   "metadata": {},
   "outputs": [
    {
     "name": "stdout",
     "output_type": "stream",
     "text": [
      "<class 'pandas.core.frame.DataFrame'>\n",
      "RangeIndex: 100836 entries, 0 to 100835\n",
      "Data columns (total 9 columns):\n",
      " #   Column        Non-Null Count   Dtype         \n",
      "---  ------        --------------   -----         \n",
      " 0   Unnamed: 0    100836 non-null  int64         \n",
      " 1   userId        100836 non-null  int64         \n",
      " 2   movieId       100836 non-null  int64         \n",
      " 3   rating        100836 non-null  float64       \n",
      " 4   date          100836 non-null  datetime64[ns]\n",
      " 5   title         100836 non-null  object        \n",
      " 6   genres        100836 non-null  object        \n",
      " 7   year_release  100818 non-null  float64       \n",
      " 8   year_rating   100836 non-null  int64         \n",
      "dtypes: datetime64[ns](1), float64(2), int64(4), object(2)\n",
      "memory usage: 6.9+ MB\n",
      "None\n"
     ]
    }
   ],
   "source": [
    "ratings_movies['date'] = pd.to_datetime(ratings_movies['date'])\n",
    "ratings_movies['year_rating'] = ratings_movies['date'].dt.year\n",
    "print(ratings_movies.info())"
   ]
  },
  {
   "cell_type": "code",
   "execution_count": 30,
   "metadata": {},
   "outputs": [
    {
     "name": "stdout",
     "output_type": "stream",
     "text": [
      "<class 'pandas.core.frame.DataFrame'>\n",
      "Int64Index: 23 entries, 1996 to 2018\n",
      "Columns: 951 entries, (no genres listed) to Western\n",
      "dtypes: float64(951)\n",
      "memory usage: 171.1 KB\n",
      "None\n",
      "genres       (no genres listed)    Action  Action|Adventure  \\\n",
      "year_rating                                                   \n",
      "1996                        NaN  2.730769          3.454545   \n",
      "1997                        NaN  3.538462          4.150000   \n",
      "1998                        NaN       NaN          4.200000   \n",
      "1999                        NaN       NaN          4.000000   \n",
      "2000                        NaN  2.588235          3.738462   \n",
      "\n",
      "genres       Action|Adventure|Animation  Action|Adventure|Animation|Children  \\\n",
      "year_rating                                                                    \n",
      "1996                                NaN                                  NaN   \n",
      "1997                                NaN                                  NaN   \n",
      "1998                                NaN                                  NaN   \n",
      "1999                                NaN                                  NaN   \n",
      "2000                                NaN                                  NaN   \n",
      "\n",
      "genres       Action|Adventure|Animation|Children|Comedy  \\\n",
      "year_rating                                               \n",
      "1996                                                NaN   \n",
      "1997                                                NaN   \n",
      "1998                                                NaN   \n",
      "1999                                                NaN   \n",
      "2000                                                NaN   \n",
      "\n",
      "genres       Action|Adventure|Animation|Children|Comedy|Fantasy  \\\n",
      "year_rating                                                       \n",
      "1996                                                       NaN    \n",
      "1997                                                       NaN    \n",
      "1998                                                       NaN    \n",
      "1999                                                       NaN    \n",
      "2000                                                       NaN    \n",
      "\n",
      "genres       Action|Adventure|Animation|Children|Comedy|IMAX  \\\n",
      "year_rating                                                    \n",
      "1996                                                     NaN   \n",
      "1997                                                     NaN   \n",
      "1998                                                     NaN   \n",
      "1999                                                     NaN   \n",
      "2000                                                     NaN   \n",
      "\n",
      "genres       Action|Adventure|Animation|Children|Comedy|Romance  \\\n",
      "year_rating                                                       \n",
      "1996                                                       NaN    \n",
      "1997                                                       NaN    \n",
      "1998                                                       NaN    \n",
      "1999                                                       NaN    \n",
      "2000                                                       NaN    \n",
      "\n",
      "genres       Action|Adventure|Animation|Children|Comedy|Sci-Fi  ...  \\\n",
      "year_rating                                                     ...   \n",
      "1996                                                       NaN  ...   \n",
      "1997                                                       NaN  ...   \n",
      "1998                                                       NaN  ...   \n",
      "1999                                                       NaN  ...   \n",
      "2000                                                       NaN  ...   \n",
      "\n",
      "genres       Romance|Thriller  Romance|War  Romance|Western    Sci-Fi  \\\n",
      "year_rating                                                             \n",
      "1996                      NaN          NaN              NaN       NaN   \n",
      "1997                      NaN          NaN              NaN       NaN   \n",
      "1998                      NaN          NaN              NaN       NaN   \n",
      "1999                      2.0          NaN              NaN       NaN   \n",
      "2000                      4.0          NaN              3.0  3.416667   \n",
      "\n",
      "genres       Sci-Fi|IMAX  Sci-Fi|Thriller  Sci-Fi|Thriller|IMAX  Thriller  \\\n",
      "year_rating                                                                 \n",
      "1996                 NaN         2.666667                   NaN  3.838095   \n",
      "1997                 NaN         3.400000                   NaN  3.923077   \n",
      "1998                 NaN              NaN                   NaN  3.800000   \n",
      "1999                 NaN         4.000000                   NaN  3.700000   \n",
      "2000                 NaN         2.142857                   NaN  3.087912   \n",
      "\n",
      "genres       War   Western  \n",
      "year_rating                 \n",
      "1996         NaN  3.117647  \n",
      "1997         NaN  3.000000  \n",
      "1998         NaN       NaN  \n",
      "1999         4.5  4.000000  \n",
      "2000         3.0  4.058824  \n",
      "\n",
      "[5 rows x 951 columns]\n"
     ]
    }
   ],
   "source": [
    "pivot = ratings_movies.pivot_table(\n",
    "    index='year_rating',\n",
    "    columns='genres',\n",
    "    values='rating',\n",
    "    aggfunc='mean'\n",
    ")\n",
    "print(pivot.info())\n",
    "print(pivot.head())\n"
   ]
  },
  {
   "cell_type": "code",
   "execution_count": 27,
   "metadata": {},
   "outputs": [
    {
     "ename": "ValueError",
     "evalue": "The truth value of a Series is ambiguous. Use a.empty, a.bool(), a.item(), a.any() or a.all().",
     "output_type": "error",
     "traceback": [
      "\u001b[1;31m---------------------------------------------------------------------------\u001b[0m",
      "\u001b[1;31mValueError\u001b[0m                                Traceback (most recent call last)",
      "Cell \u001b[1;32mIn [27], line 1\u001b[0m\n\u001b[1;32m----> 1\u001b[0m mask \u001b[39m=\u001b[39m ratings_movies[\u001b[39m'\u001b[39m\u001b[39myear_rating\u001b[39m\u001b[39m'\u001b[39m] \u001b[39m<\u001b[39m \u001b[39m2018\u001b[39m \u001b[39mand\u001b[39;00m ratings_movies[\u001b[39m'\u001b[39m\u001b[39myear_rating\u001b[39m\u001b[39m'\u001b[39m] \u001b[39m>\u001b[39m \u001b[39m1996\u001b[39m\n\u001b[0;32m      2\u001b[0m Action_adventure \u001b[39m=\u001b[39m ratings_movies[mask]\u001b[39m.\u001b[39mgroupby(\u001b[39m'\u001b[39m\u001b[39mgenres\u001b[39m\u001b[39m'\u001b[39m)[\u001b[39m'\u001b[39m\u001b[39mrating\u001b[39m\u001b[39m'\u001b[39m]\u001b[39m.\u001b[39mmean()\n\u001b[0;32m      3\u001b[0m \u001b[39mprint\u001b[39m(Action_adventure\u001b[39m.\u001b[39msort_values())\n",
      "File \u001b[1;32mc:\\Users\\Елена\\AppData\\Local\\Programs\\Python\\Python39\\lib\\site-packages\\pandas\\core\\generic.py:1527\u001b[0m, in \u001b[0;36mNDFrame.__nonzero__\u001b[1;34m(self)\u001b[0m\n\u001b[0;32m   1525\u001b[0m \u001b[39m@final\u001b[39m\n\u001b[0;32m   1526\u001b[0m \u001b[39mdef\u001b[39;00m \u001b[39m__nonzero__\u001b[39m(\u001b[39mself\u001b[39m) \u001b[39m-\u001b[39m\u001b[39m>\u001b[39m NoReturn:\n\u001b[1;32m-> 1527\u001b[0m     \u001b[39mraise\u001b[39;00m \u001b[39mValueError\u001b[39;00m(\n\u001b[0;32m   1528\u001b[0m         \u001b[39mf\u001b[39m\u001b[39m\"\u001b[39m\u001b[39mThe truth value of a \u001b[39m\u001b[39m{\u001b[39;00m\u001b[39mtype\u001b[39m(\u001b[39mself\u001b[39m)\u001b[39m.\u001b[39m\u001b[39m__name__\u001b[39m\u001b[39m}\u001b[39;00m\u001b[39m is ambiguous. \u001b[39m\u001b[39m\"\u001b[39m\n\u001b[0;32m   1529\u001b[0m         \u001b[39m\"\u001b[39m\u001b[39mUse a.empty, a.bool(), a.item(), a.any() or a.all().\u001b[39m\u001b[39m\"\u001b[39m\n\u001b[0;32m   1530\u001b[0m     )\n",
      "\u001b[1;31mValueError\u001b[0m: The truth value of a Series is ambiguous. Use a.empty, a.bool(), a.item(), a.any() or a.all()."
     ]
    }
   ],
   "source": [
    "mask = ratings_movies['year_rating'] < 2018 and ratings_movies['year_rating'] > 1996\n",
    "Action_adventure = ratings_movies[mask].groupby('genres')['rating'].mean()\n",
    "print(Action_adventure.sort_values())"
   ]
  }
 ],
 "metadata": {
  "kernelspec": {
   "display_name": "Python 3",
   "language": "python",
   "name": "python3"
  },
  "language_info": {
   "codemirror_mode": {
    "name": "ipython",
    "version": 3
   },
   "file_extension": ".py",
   "mimetype": "text/x-python",
   "name": "python",
   "nbconvert_exporter": "python",
   "pygments_lexer": "ipython3",
   "version": "3.9.10 (tags/v3.9.10:f2f3f53, Jan 17 2022, 15:14:21) [MSC v.1929 64 bit (AMD64)]"
  },
  "orig_nbformat": 4,
  "vscode": {
   "interpreter": {
    "hash": "94900f6f90627b6c6383979c2732c570d13f9b98c5876e388cdb0864460ecd8e"
   }
  }
 },
 "nbformat": 4,
 "nbformat_minor": 2
}
