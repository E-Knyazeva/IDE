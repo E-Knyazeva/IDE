{
 "cells": [
  {
   "attachments": {},
   "cell_type": "markdown",
   "metadata": {},
   "source": [
    "# <center> Проект: Анализ вакансий из HeadHunter"
   ]
  },
  {
   "attachments": {},
   "cell_type": "markdown",
   "metadata": {},
   "source": [
    "# Юнит 1. Работа с базой данных из Python"
   ]
  },
  {
   "attachments": {},
   "cell_type": "markdown",
   "metadata": {},
   "source": [
    "#### Импорт библиотек"
   ]
  },
  {
   "cell_type": "code",
   "execution_count": 99,
   "metadata": {},
   "outputs": [],
   "source": [
    "import psycopg2\n",
    "import pandas as pd"
   ]
  },
  {
   "attachments": {},
   "cell_type": "markdown",
   "metadata": {},
   "source": [
    "# Юнит 2. Введение. Знакомство с данными"
   ]
  },
  {
   "cell_type": "code",
   "execution_count": 100,
   "metadata": {},
   "outputs": [],
   "source": [
    "connection = psycopg2.connect(\n",
    "    dbname = ,\n",
    "    user = ,\n",
    "    host = ,\n",
    "    password = ,\n",
    "    port = \n",
    ")"
   ]
  },
  {
   "attachments": {},
   "cell_type": "markdown",
   "metadata": {},
   "source": [
    "# Юнит 3. Предварительный анализ данных"
   ]
  },
  {
   "attachments": {},
   "cell_type": "markdown",
   "metadata": {},
   "source": [
    "1. Напишите запрос, который посчитает количество вакансий в нашей базе (вакансии находятся в таблице vacancies). "
   ]
  },
  {
   "cell_type": "code",
   "execution_count": 101,
   "metadata": {},
   "outputs": [],
   "source": [
    "# текст запроса\n",
    "query_3_1 = f'''\n",
    "    select \n",
    "        count(id) \"Количество вакансий\"\n",
    "    from \n",
    "        public.vacancies\n",
    "    '''"
   ]
  },
  {
   "cell_type": "code",
   "execution_count": 102,
   "metadata": {},
   "outputs": [
    {
     "name": "stderr",
     "output_type": "stream",
     "text": [
      "C:\\Users\\Елена\\AppData\\Local\\Temp\\ipykernel_9096\\4045908245.py:2: UserWarning: pandas only supports SQLAlchemy connectable (engine/connection) or database string URI or sqlite3 DBAPI2 connection. Other DBAPI2 objects are not tested. Please consider using SQLAlchemy.\n",
      "  df_3_1 = pd.read_sql_query(query_3_1, connection)\n"
     ]
    },
    {
     "data": {
      "text/html": [
       "<div>\n",
       "<style scoped>\n",
       "    .dataframe tbody tr th:only-of-type {\n",
       "        vertical-align: middle;\n",
       "    }\n",
       "\n",
       "    .dataframe tbody tr th {\n",
       "        vertical-align: top;\n",
       "    }\n",
       "\n",
       "    .dataframe thead th {\n",
       "        text-align: right;\n",
       "    }\n",
       "</style>\n",
       "<table border=\"1\" class=\"dataframe\">\n",
       "  <thead>\n",
       "    <tr style=\"text-align: right;\">\n",
       "      <th></th>\n",
       "      <th>Количество вакансий</th>\n",
       "    </tr>\n",
       "  </thead>\n",
       "  <tbody>\n",
       "    <tr>\n",
       "      <th>0</th>\n",
       "      <td>49197</td>\n",
       "    </tr>\n",
       "  </tbody>\n",
       "</table>\n",
       "</div>"
      ],
      "text/plain": [
       "   Количество вакансий\n",
       "0                49197"
      ]
     },
     "execution_count": 102,
     "metadata": {},
     "output_type": "execute_result"
    }
   ],
   "source": [
    "# результат запроса\n",
    "df_3_1 = pd.read_sql_query(query_3_1, connection)\n",
    "df_3_1"
   ]
  },
  {
   "attachments": {},
   "cell_type": "markdown",
   "metadata": {},
   "source": [
    "2. Напишите запрос, который посчитает количество работодателей (таблица employers). "
   ]
  },
  {
   "cell_type": "code",
   "execution_count": 103,
   "metadata": {},
   "outputs": [],
   "source": [
    "# текст запроса\n",
    "query_3_2 = f'''\n",
    "    select\n",
    "        count(id) \"Количество работодателей\"\n",
    "    from\n",
    "        public.employers\n",
    "    '''"
   ]
  },
  {
   "cell_type": "code",
   "execution_count": 104,
   "metadata": {},
   "outputs": [
    {
     "name": "stderr",
     "output_type": "stream",
     "text": [
      "C:\\Users\\Елена\\AppData\\Local\\Temp\\ipykernel_9096\\533540996.py:2: UserWarning: pandas only supports SQLAlchemy connectable (engine/connection) or database string URI or sqlite3 DBAPI2 connection. Other DBAPI2 objects are not tested. Please consider using SQLAlchemy.\n",
      "  df_3_2 = pd.read_sql_query(query_3_2, connection)\n"
     ]
    },
    {
     "data": {
      "text/html": [
       "<div>\n",
       "<style scoped>\n",
       "    .dataframe tbody tr th:only-of-type {\n",
       "        vertical-align: middle;\n",
       "    }\n",
       "\n",
       "    .dataframe tbody tr th {\n",
       "        vertical-align: top;\n",
       "    }\n",
       "\n",
       "    .dataframe thead th {\n",
       "        text-align: right;\n",
       "    }\n",
       "</style>\n",
       "<table border=\"1\" class=\"dataframe\">\n",
       "  <thead>\n",
       "    <tr style=\"text-align: right;\">\n",
       "      <th></th>\n",
       "      <th>Количество работодателей</th>\n",
       "    </tr>\n",
       "  </thead>\n",
       "  <tbody>\n",
       "    <tr>\n",
       "      <th>0</th>\n",
       "      <td>23501</td>\n",
       "    </tr>\n",
       "  </tbody>\n",
       "</table>\n",
       "</div>"
      ],
      "text/plain": [
       "   Количество работодателей\n",
       "0                     23501"
      ]
     },
     "execution_count": 104,
     "metadata": {},
     "output_type": "execute_result"
    }
   ],
   "source": [
    "# результат запроса\n",
    "df_3_2 = pd.read_sql_query(query_3_2, connection)\n",
    "df_3_2"
   ]
  },
  {
   "attachments": {},
   "cell_type": "markdown",
   "metadata": {},
   "source": [
    "3. Посчитайте с помощью запроса количество регионов (таблица areas)."
   ]
  },
  {
   "cell_type": "code",
   "execution_count": 105,
   "metadata": {},
   "outputs": [],
   "source": [
    "# текст запроса\n",
    "query_3_3 = f'''\n",
    "    select\n",
    "        count(id) \"Количество регионов\"\n",
    "    from\n",
    "        public.areas\n",
    "    '''"
   ]
  },
  {
   "cell_type": "code",
   "execution_count": 106,
   "metadata": {},
   "outputs": [
    {
     "name": "stderr",
     "output_type": "stream",
     "text": [
      "C:\\Users\\Елена\\AppData\\Local\\Temp\\ipykernel_9096\\1395976625.py:2: UserWarning: pandas only supports SQLAlchemy connectable (engine/connection) or database string URI or sqlite3 DBAPI2 connection. Other DBAPI2 objects are not tested. Please consider using SQLAlchemy.\n",
      "  df_3_3 = pd.read_sql_query(query_3_3, connection)\n"
     ]
    },
    {
     "data": {
      "text/html": [
       "<div>\n",
       "<style scoped>\n",
       "    .dataframe tbody tr th:only-of-type {\n",
       "        vertical-align: middle;\n",
       "    }\n",
       "\n",
       "    .dataframe tbody tr th {\n",
       "        vertical-align: top;\n",
       "    }\n",
       "\n",
       "    .dataframe thead th {\n",
       "        text-align: right;\n",
       "    }\n",
       "</style>\n",
       "<table border=\"1\" class=\"dataframe\">\n",
       "  <thead>\n",
       "    <tr style=\"text-align: right;\">\n",
       "      <th></th>\n",
       "      <th>Количество регионов</th>\n",
       "    </tr>\n",
       "  </thead>\n",
       "  <tbody>\n",
       "    <tr>\n",
       "      <th>0</th>\n",
       "      <td>1362</td>\n",
       "    </tr>\n",
       "  </tbody>\n",
       "</table>\n",
       "</div>"
      ],
      "text/plain": [
       "   Количество регионов\n",
       "0                 1362"
      ]
     },
     "execution_count": 106,
     "metadata": {},
     "output_type": "execute_result"
    }
   ],
   "source": [
    "# результат запроса\n",
    "df_3_3 = pd.read_sql_query(query_3_3, connection)\n",
    "df_3_3"
   ]
  },
  {
   "attachments": {},
   "cell_type": "markdown",
   "metadata": {},
   "source": [
    "4. Посчитайте с помощью запроса количество сфер деятельности в базе (таблица industries)."
   ]
  },
  {
   "cell_type": "code",
   "execution_count": 107,
   "metadata": {},
   "outputs": [],
   "source": [
    "# текст запроса\n",
    "query_3_4 = f'''\n",
    "    select\n",
    "        count(id) \"Количество сфер деятельности\"\n",
    "    from\n",
    "        public.industries\n",
    "    '''"
   ]
  },
  {
   "cell_type": "code",
   "execution_count": 108,
   "metadata": {},
   "outputs": [
    {
     "name": "stderr",
     "output_type": "stream",
     "text": [
      "C:\\Users\\Елена\\AppData\\Local\\Temp\\ipykernel_9096\\854197215.py:2: UserWarning: pandas only supports SQLAlchemy connectable (engine/connection) or database string URI or sqlite3 DBAPI2 connection. Other DBAPI2 objects are not tested. Please consider using SQLAlchemy.\n",
      "  df_3_4 = pd.read_sql_query(query_3_4, connection)\n"
     ]
    },
    {
     "data": {
      "text/html": [
       "<div>\n",
       "<style scoped>\n",
       "    .dataframe tbody tr th:only-of-type {\n",
       "        vertical-align: middle;\n",
       "    }\n",
       "\n",
       "    .dataframe tbody tr th {\n",
       "        vertical-align: top;\n",
       "    }\n",
       "\n",
       "    .dataframe thead th {\n",
       "        text-align: right;\n",
       "    }\n",
       "</style>\n",
       "<table border=\"1\" class=\"dataframe\">\n",
       "  <thead>\n",
       "    <tr style=\"text-align: right;\">\n",
       "      <th></th>\n",
       "      <th>Количество сфер деятельности</th>\n",
       "    </tr>\n",
       "  </thead>\n",
       "  <tbody>\n",
       "    <tr>\n",
       "      <th>0</th>\n",
       "      <td>294</td>\n",
       "    </tr>\n",
       "  </tbody>\n",
       "</table>\n",
       "</div>"
      ],
      "text/plain": [
       "   Количество сфер деятельности\n",
       "0                           294"
      ]
     },
     "execution_count": 108,
     "metadata": {},
     "output_type": "execute_result"
    }
   ],
   "source": [
    "# результат запроса\n",
    "df_3_4 = pd.read_sql_query(query_3_4, connection)\n",
    "df_3_4"
   ]
  },
  {
   "cell_type": "markdown",
   "metadata": {},
   "source": [
    "***"
   ]
  },
  {
   "attachments": {},
   "cell_type": "markdown",
   "metadata": {},
   "source": [
    "#### Выводы:\n",
    "Предварительный анализ вакансий показал, что 23501 работодателей разместили 49197 вакансий разнообразных сфер деятельности (294 сферы деятельности) в 1362 регионах.\n"
   ]
  },
  {
   "attachments": {},
   "cell_type": "markdown",
   "metadata": {},
   "source": [
    "# Юнит 4. Детальный анализ вакансий"
   ]
  },
  {
   "attachments": {},
   "cell_type": "markdown",
   "metadata": {},
   "source": [
    "1. Напишите запрос, который позволит узнать, сколько (cnt) вакансий в каждом регионе (area).\n",
    "Отсортируйте по количеству вакансий в порядке убывания."
   ]
  },
  {
   "cell_type": "code",
   "execution_count": 109,
   "metadata": {},
   "outputs": [],
   "source": [
    "# текст запроса\n",
    "query_4_1 = f'''\n",
    "    select \n",
    "        count(v.id) as cnt,\n",
    "        a.name as area\n",
    "    from \n",
    "        public.vacancies v\n",
    "        join public.areas a on a.id = v.area_id\n",
    "    group by a.name\n",
    "    order by 1 desc\n",
    "    limit 10\n",
    "    '''"
   ]
  },
  {
   "cell_type": "code",
   "execution_count": 110,
   "metadata": {},
   "outputs": [
    {
     "name": "stderr",
     "output_type": "stream",
     "text": [
      "C:\\Users\\Елена\\AppData\\Local\\Temp\\ipykernel_9096\\620650199.py:2: UserWarning: pandas only supports SQLAlchemy connectable (engine/connection) or database string URI or sqlite3 DBAPI2 connection. Other DBAPI2 objects are not tested. Please consider using SQLAlchemy.\n",
      "  df_4_1 = pd.read_sql_query(query_4_1, connection)\n"
     ]
    },
    {
     "data": {
      "text/html": [
       "<div>\n",
       "<style scoped>\n",
       "    .dataframe tbody tr th:only-of-type {\n",
       "        vertical-align: middle;\n",
       "    }\n",
       "\n",
       "    .dataframe tbody tr th {\n",
       "        vertical-align: top;\n",
       "    }\n",
       "\n",
       "    .dataframe thead th {\n",
       "        text-align: right;\n",
       "    }\n",
       "</style>\n",
       "<table border=\"1\" class=\"dataframe\">\n",
       "  <thead>\n",
       "    <tr style=\"text-align: right;\">\n",
       "      <th></th>\n",
       "      <th>cnt</th>\n",
       "      <th>area</th>\n",
       "    </tr>\n",
       "  </thead>\n",
       "  <tbody>\n",
       "    <tr>\n",
       "      <th>0</th>\n",
       "      <td>5333</td>\n",
       "      <td>Москва</td>\n",
       "    </tr>\n",
       "    <tr>\n",
       "      <th>1</th>\n",
       "      <td>2851</td>\n",
       "      <td>Санкт-Петербург</td>\n",
       "    </tr>\n",
       "    <tr>\n",
       "      <th>2</th>\n",
       "      <td>2112</td>\n",
       "      <td>Минск</td>\n",
       "    </tr>\n",
       "    <tr>\n",
       "      <th>3</th>\n",
       "      <td>2006</td>\n",
       "      <td>Новосибирск</td>\n",
       "    </tr>\n",
       "    <tr>\n",
       "      <th>4</th>\n",
       "      <td>1892</td>\n",
       "      <td>Алматы</td>\n",
       "    </tr>\n",
       "    <tr>\n",
       "      <th>5</th>\n",
       "      <td>1698</td>\n",
       "      <td>Екатеринбург</td>\n",
       "    </tr>\n",
       "    <tr>\n",
       "      <th>6</th>\n",
       "      <td>1670</td>\n",
       "      <td>Нижний Новгород</td>\n",
       "    </tr>\n",
       "    <tr>\n",
       "      <th>7</th>\n",
       "      <td>1415</td>\n",
       "      <td>Казань</td>\n",
       "    </tr>\n",
       "    <tr>\n",
       "      <th>8</th>\n",
       "      <td>1301</td>\n",
       "      <td>Краснодар</td>\n",
       "    </tr>\n",
       "    <tr>\n",
       "      <th>9</th>\n",
       "      <td>1144</td>\n",
       "      <td>Самара</td>\n",
       "    </tr>\n",
       "  </tbody>\n",
       "</table>\n",
       "</div>"
      ],
      "text/plain": [
       "    cnt             area\n",
       "0  5333           Москва\n",
       "1  2851  Санкт-Петербург\n",
       "2  2112            Минск\n",
       "3  2006      Новосибирск\n",
       "4  1892           Алматы\n",
       "5  1698     Екатеринбург\n",
       "6  1670  Нижний Новгород\n",
       "7  1415           Казань\n",
       "8  1301        Краснодар\n",
       "9  1144           Самара"
      ]
     },
     "execution_count": 110,
     "metadata": {},
     "output_type": "execute_result"
    }
   ],
   "source": [
    "# результат запроса\n",
    "df_4_1 = pd.read_sql_query(query_4_1, connection)\n",
    "df_4_1"
   ]
  },
  {
   "attachments": {},
   "cell_type": "markdown",
   "metadata": {},
   "source": [
    "2. Напишите запрос, чтобы определить у какого количества вакансий заполнено хотя бы одно из двух полей с зарплатой."
   ]
  },
  {
   "cell_type": "code",
   "execution_count": 111,
   "metadata": {},
   "outputs": [],
   "source": [
    "# текст запроса\n",
    "query_4_2 = f'''\n",
    "    select\n",
    "        count(v.id) \"Количество вакансий\"\n",
    "    from\n",
    "        public.vacancies v\n",
    "    where salary_to is not null or salary_from is not null\n",
    "    '''"
   ]
  },
  {
   "cell_type": "code",
   "execution_count": 112,
   "metadata": {},
   "outputs": [
    {
     "name": "stderr",
     "output_type": "stream",
     "text": [
      "C:\\Users\\Елена\\AppData\\Local\\Temp\\ipykernel_9096\\3746829199.py:2: UserWarning: pandas only supports SQLAlchemy connectable (engine/connection) or database string URI or sqlite3 DBAPI2 connection. Other DBAPI2 objects are not tested. Please consider using SQLAlchemy.\n",
      "  df_4_2 = pd.read_sql_query(query_4_2, connection)\n"
     ]
    },
    {
     "data": {
      "text/html": [
       "<div>\n",
       "<style scoped>\n",
       "    .dataframe tbody tr th:only-of-type {\n",
       "        vertical-align: middle;\n",
       "    }\n",
       "\n",
       "    .dataframe tbody tr th {\n",
       "        vertical-align: top;\n",
       "    }\n",
       "\n",
       "    .dataframe thead th {\n",
       "        text-align: right;\n",
       "    }\n",
       "</style>\n",
       "<table border=\"1\" class=\"dataframe\">\n",
       "  <thead>\n",
       "    <tr style=\"text-align: right;\">\n",
       "      <th></th>\n",
       "      <th>Количество вакансий</th>\n",
       "    </tr>\n",
       "  </thead>\n",
       "  <tbody>\n",
       "    <tr>\n",
       "      <th>0</th>\n",
       "      <td>24073</td>\n",
       "    </tr>\n",
       "  </tbody>\n",
       "</table>\n",
       "</div>"
      ],
      "text/plain": [
       "   Количество вакансий\n",
       "0                24073"
      ]
     },
     "execution_count": 112,
     "metadata": {},
     "output_type": "execute_result"
    }
   ],
   "source": [
    "# результат запроса\n",
    "df_4_2 = pd.read_sql_query(query_4_2, connection)\n",
    "df_4_2"
   ]
  },
  {
   "attachments": {},
   "cell_type": "markdown",
   "metadata": {},
   "source": [
    "3. Найдите средние значения для нижней и верхней границы зарплатной вилки. Округлите значения до целого."
   ]
  },
  {
   "cell_type": "code",
   "execution_count": 113,
   "metadata": {},
   "outputs": [],
   "source": [
    "# текст запроса\n",
    "query_4_3 = f'''\n",
    "    select\n",
    "        round(avg(salary_from)) as \"lower_bound\",\n",
    "        round(avg(salary_to)) as \"upper_bound\"\n",
    "    from\n",
    "        public.vacancies'''"
   ]
  },
  {
   "cell_type": "code",
   "execution_count": 114,
   "metadata": {},
   "outputs": [
    {
     "name": "stderr",
     "output_type": "stream",
     "text": [
      "C:\\Users\\Елена\\AppData\\Local\\Temp\\ipykernel_9096\\3595259731.py:2: UserWarning: pandas only supports SQLAlchemy connectable (engine/connection) or database string URI or sqlite3 DBAPI2 connection. Other DBAPI2 objects are not tested. Please consider using SQLAlchemy.\n",
      "  df_4_3 = pd.read_sql_query(query_4_3, connection)\n"
     ]
    },
    {
     "data": {
      "text/html": [
       "<div>\n",
       "<style scoped>\n",
       "    .dataframe tbody tr th:only-of-type {\n",
       "        vertical-align: middle;\n",
       "    }\n",
       "\n",
       "    .dataframe tbody tr th {\n",
       "        vertical-align: top;\n",
       "    }\n",
       "\n",
       "    .dataframe thead th {\n",
       "        text-align: right;\n",
       "    }\n",
       "</style>\n",
       "<table border=\"1\" class=\"dataframe\">\n",
       "  <thead>\n",
       "    <tr style=\"text-align: right;\">\n",
       "      <th></th>\n",
       "      <th>lower_bound</th>\n",
       "      <th>upper_bound</th>\n",
       "    </tr>\n",
       "  </thead>\n",
       "  <tbody>\n",
       "    <tr>\n",
       "      <th>0</th>\n",
       "      <td>71065.0</td>\n",
       "      <td>110537.0</td>\n",
       "    </tr>\n",
       "  </tbody>\n",
       "</table>\n",
       "</div>"
      ],
      "text/plain": [
       "   lower_bound  upper_bound\n",
       "0      71065.0     110537.0"
      ]
     },
     "execution_count": 114,
     "metadata": {},
     "output_type": "execute_result"
    }
   ],
   "source": [
    "# результат запроса\n",
    "df_4_3 = pd.read_sql_query(query_4_3, connection)\n",
    "df_4_3"
   ]
  },
  {
   "attachments": {},
   "cell_type": "markdown",
   "metadata": {},
   "source": [
    "4. Напишите запрос, который выведет количество вакансий для каждого сочетания типа рабочего графика (schedule) и типа трудоустройства (employment), используемого в вакансиях. Результат отсортируйте по убыванию количества."
   ]
  },
  {
   "cell_type": "code",
   "execution_count": 115,
   "metadata": {},
   "outputs": [],
   "source": [
    "# текст запроса\n",
    "query_4_4 = f'''\n",
    "    select\n",
    "        count(id) \"Количество вакансий\",\n",
    "        schedule \"Тип рабочего графика\",\n",
    "        employment \"Тип трудоустройства\"\n",
    "    from\n",
    "        public.vacancies\n",
    "    group by schedule, employment\n",
    "    order by 1 desc\n",
    "    limit 5\n",
    "    '''"
   ]
  },
  {
   "cell_type": "code",
   "execution_count": 116,
   "metadata": {},
   "outputs": [
    {
     "name": "stderr",
     "output_type": "stream",
     "text": [
      "C:\\Users\\Елена\\AppData\\Local\\Temp\\ipykernel_9096\\2028972612.py:2: UserWarning: pandas only supports SQLAlchemy connectable (engine/connection) or database string URI or sqlite3 DBAPI2 connection. Other DBAPI2 objects are not tested. Please consider using SQLAlchemy.\n",
      "  df_4_4 = pd.read_sql_query(query_4_4, connection)\n"
     ]
    },
    {
     "data": {
      "text/html": [
       "<div>\n",
       "<style scoped>\n",
       "    .dataframe tbody tr th:only-of-type {\n",
       "        vertical-align: middle;\n",
       "    }\n",
       "\n",
       "    .dataframe tbody tr th {\n",
       "        vertical-align: top;\n",
       "    }\n",
       "\n",
       "    .dataframe thead th {\n",
       "        text-align: right;\n",
       "    }\n",
       "</style>\n",
       "<table border=\"1\" class=\"dataframe\">\n",
       "  <thead>\n",
       "    <tr style=\"text-align: right;\">\n",
       "      <th></th>\n",
       "      <th>Количество вакансий</th>\n",
       "      <th>Тип рабочего графика</th>\n",
       "      <th>Тип трудоустройства</th>\n",
       "    </tr>\n",
       "  </thead>\n",
       "  <tbody>\n",
       "    <tr>\n",
       "      <th>0</th>\n",
       "      <td>35367</td>\n",
       "      <td>Полный день</td>\n",
       "      <td>Полная занятость</td>\n",
       "    </tr>\n",
       "    <tr>\n",
       "      <th>1</th>\n",
       "      <td>7802</td>\n",
       "      <td>Удаленная работа</td>\n",
       "      <td>Полная занятость</td>\n",
       "    </tr>\n",
       "    <tr>\n",
       "      <th>2</th>\n",
       "      <td>1593</td>\n",
       "      <td>Гибкий график</td>\n",
       "      <td>Полная занятость</td>\n",
       "    </tr>\n",
       "    <tr>\n",
       "      <th>3</th>\n",
       "      <td>1312</td>\n",
       "      <td>Удаленная работа</td>\n",
       "      <td>Частичная занятость</td>\n",
       "    </tr>\n",
       "    <tr>\n",
       "      <th>4</th>\n",
       "      <td>940</td>\n",
       "      <td>Сменный график</td>\n",
       "      <td>Полная занятость</td>\n",
       "    </tr>\n",
       "  </tbody>\n",
       "</table>\n",
       "</div>"
      ],
      "text/plain": [
       "   Количество вакансий Тип рабочего графика  Тип трудоустройства\n",
       "0                35367          Полный день     Полная занятость\n",
       "1                 7802     Удаленная работа     Полная занятость\n",
       "2                 1593        Гибкий график     Полная занятость\n",
       "3                 1312     Удаленная работа  Частичная занятость\n",
       "4                  940       Сменный график     Полная занятость"
      ]
     },
     "execution_count": 116,
     "metadata": {},
     "output_type": "execute_result"
    }
   ],
   "source": [
    "# результат запроса\n",
    "df_4_4 = pd.read_sql_query(query_4_4, connection)\n",
    "df_4_4"
   ]
  },
  {
   "attachments": {},
   "cell_type": "markdown",
   "metadata": {},
   "source": [
    "5. Напишите запрос, выводящий значения поля Требуемый опыт работы (experience) в порядке возрастания количества вакансий, в которых указан данный вариант опыта. "
   ]
  },
  {
   "cell_type": "code",
   "execution_count": 117,
   "metadata": {},
   "outputs": [],
   "source": [
    "# текст запроса\n",
    "query_4_5 = f'''\n",
    "    select\n",
    "        distinct experience \"Опыт работы\",\n",
    "        count(id) \"Количество вакансий\"\n",
    "    from\n",
    "        public.vacancies\n",
    "    group by experience\n",
    "    order by 2'''"
   ]
  },
  {
   "cell_type": "code",
   "execution_count": 118,
   "metadata": {},
   "outputs": [
    {
     "name": "stderr",
     "output_type": "stream",
     "text": [
      "C:\\Users\\Елена\\AppData\\Local\\Temp\\ipykernel_9096\\210463167.py:2: UserWarning: pandas only supports SQLAlchemy connectable (engine/connection) or database string URI or sqlite3 DBAPI2 connection. Other DBAPI2 objects are not tested. Please consider using SQLAlchemy.\n",
      "  df_4_5 = pd.read_sql_query(query_4_5, connection)\n"
     ]
    },
    {
     "data": {
      "text/html": [
       "<div>\n",
       "<style scoped>\n",
       "    .dataframe tbody tr th:only-of-type {\n",
       "        vertical-align: middle;\n",
       "    }\n",
       "\n",
       "    .dataframe tbody tr th {\n",
       "        vertical-align: top;\n",
       "    }\n",
       "\n",
       "    .dataframe thead th {\n",
       "        text-align: right;\n",
       "    }\n",
       "</style>\n",
       "<table border=\"1\" class=\"dataframe\">\n",
       "  <thead>\n",
       "    <tr style=\"text-align: right;\">\n",
       "      <th></th>\n",
       "      <th>Опыт работы</th>\n",
       "      <th>Количество вакансий</th>\n",
       "    </tr>\n",
       "  </thead>\n",
       "  <tbody>\n",
       "    <tr>\n",
       "      <th>0</th>\n",
       "      <td>Более 6 лет</td>\n",
       "      <td>1337</td>\n",
       "    </tr>\n",
       "    <tr>\n",
       "      <th>1</th>\n",
       "      <td>Нет опыта</td>\n",
       "      <td>7197</td>\n",
       "    </tr>\n",
       "    <tr>\n",
       "      <th>2</th>\n",
       "      <td>От 3 до 6 лет</td>\n",
       "      <td>14511</td>\n",
       "    </tr>\n",
       "    <tr>\n",
       "      <th>3</th>\n",
       "      <td>От 1 года до 3 лет</td>\n",
       "      <td>26152</td>\n",
       "    </tr>\n",
       "  </tbody>\n",
       "</table>\n",
       "</div>"
      ],
      "text/plain": [
       "          Опыт работы  Количество вакансий\n",
       "0         Более 6 лет                 1337\n",
       "1           Нет опыта                 7197\n",
       "2       От 3 до 6 лет                14511\n",
       "3  От 1 года до 3 лет                26152"
      ]
     },
     "execution_count": 118,
     "metadata": {},
     "output_type": "execute_result"
    }
   ],
   "source": [
    "# результат запроса\n",
    "df_4_5 = pd.read_sql_query(query_4_5, connection)\n",
    "df_4_5"
   ]
  },
  {
   "cell_type": "markdown",
   "metadata": {},
   "source": [
    "***"
   ]
  },
  {
   "attachments": {},
   "cell_type": "markdown",
   "metadata": {},
   "source": [
    "#### Выводы:\n",
    "Детальный анализ вакансий показал следующее:\n",
    "- Наибольшее количество вакансий было размещено в таких городах, как Москва, Санкт-Петербург, Минск, Новосибирск, Алматы, Екатеринбург. Перечисленные города являются городами - мегаполисами, у которых население свыше 1 миллиона жителей, с большими масштабами урбанизации. Для мегаполисов характерно высокий темп производственно-технологических процессов, хорошо развитая социальная инфраструктура, широкое развитие разнообразных сфер услуг. Чтобы все процессы мегаполиса функционировали необходимо огромное количество персонала.\n",
    "- Размер заработной платы был указан только 24073 вакансиях, примерно половина от общего количества соискателей не указали желаемую зароботную плату.\n",
    "- Из представленных вакансий было выявленно что средняя заработная плата по нижней и верхней границам зарплатной вилки составило 71065 у.е и 110537 у.е. соответственно.\n",
    "- Самый популярный график работы это полный день с полной занятостью, затем идет удаленная работа с полной  занятостью.\n",
    "- Наибольшее количество соискателей с опытом работы от 1 года до 3 лет, наименьшее количество соискателей с опытом работы более 6 лет. Можно предположить что чем старше человек, тем он менее склонен к смене места работы.\n"
   ]
  },
  {
   "attachments": {},
   "cell_type": "markdown",
   "metadata": {},
   "source": [
    "# Юнит 5. Анализ работодателей"
   ]
  },
  {
   "attachments": {},
   "cell_type": "markdown",
   "metadata": {},
   "source": [
    "1. Напишите запрос, который позволит узнать, какие работодатели находятся на первом и пятом месте по количеству вакансий."
   ]
  },
  {
   "cell_type": "code",
   "execution_count": 119,
   "metadata": {},
   "outputs": [],
   "source": [
    "# текст запроса\n",
    "query_5_1 = f'''\n",
    "    (select\n",
    "        e.name \"Работодатель\",\n",
    "        count(v.id) \"Количество вакансий\"\n",
    "    from\n",
    "        public.employers e\n",
    "        join public.vacancies v on e.id = v.employer_id\n",
    "    group by e.name\n",
    "    order by 2 desc\n",
    "    limit 1)\n",
    "    \n",
    "    union all\n",
    "    \n",
    "    (select\n",
    "        e.name \"Работодатель\",\n",
    "        count(v.id) \"Количество вакансий\"\n",
    "    from\n",
    "        public.employers e\n",
    "        join public.vacancies v on e.id = v.employer_id\n",
    "    group by e.name\n",
    "    order by 2 desc\n",
    "    offset 4\n",
    "    limit 1)\n",
    "    \n",
    "    '''"
   ]
  },
  {
   "cell_type": "code",
   "execution_count": 120,
   "metadata": {},
   "outputs": [
    {
     "name": "stderr",
     "output_type": "stream",
     "text": [
      "C:\\Users\\Елена\\AppData\\Local\\Temp\\ipykernel_9096\\1147638897.py:2: UserWarning: pandas only supports SQLAlchemy connectable (engine/connection) or database string URI or sqlite3 DBAPI2 connection. Other DBAPI2 objects are not tested. Please consider using SQLAlchemy.\n",
      "  df_5_1 = pd.read_sql_query(query_5_1, connection)\n"
     ]
    },
    {
     "data": {
      "text/html": [
       "<div>\n",
       "<style scoped>\n",
       "    .dataframe tbody tr th:only-of-type {\n",
       "        vertical-align: middle;\n",
       "    }\n",
       "\n",
       "    .dataframe tbody tr th {\n",
       "        vertical-align: top;\n",
       "    }\n",
       "\n",
       "    .dataframe thead th {\n",
       "        text-align: right;\n",
       "    }\n",
       "</style>\n",
       "<table border=\"1\" class=\"dataframe\">\n",
       "  <thead>\n",
       "    <tr style=\"text-align: right;\">\n",
       "      <th></th>\n",
       "      <th>Работодатель</th>\n",
       "      <th>Количество вакансий</th>\n",
       "    </tr>\n",
       "  </thead>\n",
       "  <tbody>\n",
       "    <tr>\n",
       "      <th>0</th>\n",
       "      <td>Яндекс</td>\n",
       "      <td>1933</td>\n",
       "    </tr>\n",
       "    <tr>\n",
       "      <th>1</th>\n",
       "      <td>Газпром нефть</td>\n",
       "      <td>331</td>\n",
       "    </tr>\n",
       "  </tbody>\n",
       "</table>\n",
       "</div>"
      ],
      "text/plain": [
       "    Работодатель  Количество вакансий\n",
       "0         Яндекс                 1933\n",
       "1  Газпром нефть                  331"
      ]
     },
     "execution_count": 120,
     "metadata": {},
     "output_type": "execute_result"
    }
   ],
   "source": [
    "# результат запроса\n",
    "df_5_1 = pd.read_sql_query(query_5_1, connection)\n",
    "df_5_1"
   ]
  },
  {
   "attachments": {},
   "cell_type": "markdown",
   "metadata": {},
   "source": [
    "2. Напишите запрос, который для каждого региона выведет количество работодателей и вакансий в нём.\n",
    "Среди регионов, в которых нет вакансий, найдите тот, в котором наибольшее количество работодателей."
   ]
  },
  {
   "cell_type": "code",
   "execution_count": 121,
   "metadata": {},
   "outputs": [],
   "source": [
    "# текст запроса\n",
    "query_5_2 = f'''\n",
    "    select\n",
    "        a.name \"Регион\",\n",
    "        count(e.id) \"Количество работодателей\",\n",
    "        count(v.id) \"Количество вакансий\"\n",
    "    from \n",
    "        public.areas a\n",
    "        full join public.employers e on e.area = a.id\n",
    "        full join public.vacancies v on v.area_id = a.id\n",
    "    group by a.name\n",
    "    having count(v.id) = 0\n",
    "    order by 2 desc\n",
    "'''\n"
   ]
  },
  {
   "cell_type": "code",
   "execution_count": 122,
   "metadata": {},
   "outputs": [
    {
     "name": "stderr",
     "output_type": "stream",
     "text": [
      "C:\\Users\\Елена\\AppData\\Local\\Temp\\ipykernel_9096\\2306256317.py:2: UserWarning: pandas only supports SQLAlchemy connectable (engine/connection) or database string URI or sqlite3 DBAPI2 connection. Other DBAPI2 objects are not tested. Please consider using SQLAlchemy.\n",
      "  df_5_2 = pd.read_sql_query(query_5_2, connection)\n"
     ]
    },
    {
     "data": {
      "text/html": [
       "<div>\n",
       "<style scoped>\n",
       "    .dataframe tbody tr th:only-of-type {\n",
       "        vertical-align: middle;\n",
       "    }\n",
       "\n",
       "    .dataframe tbody tr th {\n",
       "        vertical-align: top;\n",
       "    }\n",
       "\n",
       "    .dataframe thead th {\n",
       "        text-align: right;\n",
       "    }\n",
       "</style>\n",
       "<table border=\"1\" class=\"dataframe\">\n",
       "  <thead>\n",
       "    <tr style=\"text-align: right;\">\n",
       "      <th></th>\n",
       "      <th>Регион</th>\n",
       "      <th>Количество работодателей</th>\n",
       "      <th>Количество вакансий</th>\n",
       "    </tr>\n",
       "  </thead>\n",
       "  <tbody>\n",
       "    <tr>\n",
       "      <th>0</th>\n",
       "      <td>Россия</td>\n",
       "      <td>410</td>\n",
       "      <td>0</td>\n",
       "    </tr>\n",
       "    <tr>\n",
       "      <th>1</th>\n",
       "      <td>Казахстан</td>\n",
       "      <td>207</td>\n",
       "      <td>0</td>\n",
       "    </tr>\n",
       "    <tr>\n",
       "      <th>2</th>\n",
       "      <td>Московская область</td>\n",
       "      <td>75</td>\n",
       "      <td>0</td>\n",
       "    </tr>\n",
       "    <tr>\n",
       "      <th>3</th>\n",
       "      <td>Краснодарский край</td>\n",
       "      <td>19</td>\n",
       "      <td>0</td>\n",
       "    </tr>\n",
       "    <tr>\n",
       "      <th>4</th>\n",
       "      <td>Ростовская область</td>\n",
       "      <td>18</td>\n",
       "      <td>0</td>\n",
       "    </tr>\n",
       "    <tr>\n",
       "      <th>...</th>\n",
       "      <td>...</td>\n",
       "      <td>...</td>\n",
       "      <td>...</td>\n",
       "    </tr>\n",
       "    <tr>\n",
       "      <th>588</th>\n",
       "      <td>Струнино</td>\n",
       "      <td>0</td>\n",
       "      <td>0</td>\n",
       "    </tr>\n",
       "    <tr>\n",
       "      <th>589</th>\n",
       "      <td>Славгород (Алтайский край)</td>\n",
       "      <td>0</td>\n",
       "      <td>0</td>\n",
       "    </tr>\n",
       "    <tr>\n",
       "      <th>590</th>\n",
       "      <td>Сорочинск</td>\n",
       "      <td>0</td>\n",
       "      <td>0</td>\n",
       "    </tr>\n",
       "    <tr>\n",
       "      <th>591</th>\n",
       "      <td>Ленинский (Тульская область)</td>\n",
       "      <td>0</td>\n",
       "      <td>0</td>\n",
       "    </tr>\n",
       "    <tr>\n",
       "      <th>592</th>\n",
       "      <td>Тавда</td>\n",
       "      <td>0</td>\n",
       "      <td>0</td>\n",
       "    </tr>\n",
       "  </tbody>\n",
       "</table>\n",
       "<p>593 rows × 3 columns</p>\n",
       "</div>"
      ],
      "text/plain": [
       "                           Регион  Количество работодателей  \\\n",
       "0                          Россия                       410   \n",
       "1                       Казахстан                       207   \n",
       "2              Московская область                        75   \n",
       "3              Краснодарский край                        19   \n",
       "4              Ростовская область                        18   \n",
       "..                            ...                       ...   \n",
       "588                      Струнино                         0   \n",
       "589    Славгород (Алтайский край)                         0   \n",
       "590                     Сорочинск                         0   \n",
       "591  Ленинский (Тульская область)                         0   \n",
       "592                         Тавда                         0   \n",
       "\n",
       "     Количество вакансий  \n",
       "0                      0  \n",
       "1                      0  \n",
       "2                      0  \n",
       "3                      0  \n",
       "4                      0  \n",
       "..                   ...  \n",
       "588                    0  \n",
       "589                    0  \n",
       "590                    0  \n",
       "591                    0  \n",
       "592                    0  \n",
       "\n",
       "[593 rows x 3 columns]"
      ]
     },
     "execution_count": 122,
     "metadata": {},
     "output_type": "execute_result"
    }
   ],
   "source": [
    "# результат запроса\n",
    "df_5_2 = pd.read_sql_query(query_5_2, connection)\n",
    "df_5_2"
   ]
  },
  {
   "attachments": {},
   "cell_type": "markdown",
   "metadata": {},
   "source": [
    "3. Для каждого работодателя посчитайте количество регионов, в которых он публикует свои вакансии. Отсортируйте результат по убыванию количества."
   ]
  },
  {
   "cell_type": "code",
   "execution_count": 123,
   "metadata": {},
   "outputs": [],
   "source": [
    "# текст запроса\n",
    "query_5_3 = f'''\n",
    "    select \n",
    "        e.name \"Работодатель\",\n",
    "        count(distinct v.area_id) \"Количество регионов\" \n",
    "    from \n",
    "        public.employers e\n",
    "        join public.vacancies v on e.id = v.employer_id\n",
    "    group by 1\n",
    "    order by 2 desc\n",
    "        '''"
   ]
  },
  {
   "cell_type": "code",
   "execution_count": 124,
   "metadata": {},
   "outputs": [
    {
     "name": "stderr",
     "output_type": "stream",
     "text": [
      "C:\\Users\\Елена\\AppData\\Local\\Temp\\ipykernel_9096\\133400711.py:2: UserWarning: pandas only supports SQLAlchemy connectable (engine/connection) or database string URI or sqlite3 DBAPI2 connection. Other DBAPI2 objects are not tested. Please consider using SQLAlchemy.\n",
      "  df_5_3 = pd.read_sql_query(query_5_3, connection)\n"
     ]
    },
    {
     "data": {
      "text/html": [
       "<div>\n",
       "<style scoped>\n",
       "    .dataframe tbody tr th:only-of-type {\n",
       "        vertical-align: middle;\n",
       "    }\n",
       "\n",
       "    .dataframe tbody tr th {\n",
       "        vertical-align: top;\n",
       "    }\n",
       "\n",
       "    .dataframe thead th {\n",
       "        text-align: right;\n",
       "    }\n",
       "</style>\n",
       "<table border=\"1\" class=\"dataframe\">\n",
       "  <thead>\n",
       "    <tr style=\"text-align: right;\">\n",
       "      <th></th>\n",
       "      <th>Работодатель</th>\n",
       "      <th>Количество регионов</th>\n",
       "    </tr>\n",
       "  </thead>\n",
       "  <tbody>\n",
       "    <tr>\n",
       "      <th>0</th>\n",
       "      <td>Яндекс</td>\n",
       "      <td>181</td>\n",
       "    </tr>\n",
       "    <tr>\n",
       "      <th>1</th>\n",
       "      <td>Ростелеком</td>\n",
       "      <td>152</td>\n",
       "    </tr>\n",
       "    <tr>\n",
       "      <th>2</th>\n",
       "      <td>Спецремонт</td>\n",
       "      <td>116</td>\n",
       "    </tr>\n",
       "    <tr>\n",
       "      <th>3</th>\n",
       "      <td>Поляков Денис Иванович</td>\n",
       "      <td>88</td>\n",
       "    </tr>\n",
       "    <tr>\n",
       "      <th>4</th>\n",
       "      <td>ООО ЕФИН</td>\n",
       "      <td>71</td>\n",
       "    </tr>\n",
       "    <tr>\n",
       "      <th>...</th>\n",
       "      <td>...</td>\n",
       "      <td>...</td>\n",
       "    </tr>\n",
       "    <tr>\n",
       "      <th>14761</th>\n",
       "      <td>UniSol</td>\n",
       "      <td>1</td>\n",
       "    </tr>\n",
       "    <tr>\n",
       "      <th>14762</th>\n",
       "      <td>UNISTORY LLC</td>\n",
       "      <td>1</td>\n",
       "    </tr>\n",
       "    <tr>\n",
       "      <th>14763</th>\n",
       "      <td>UNIT6</td>\n",
       "      <td>1</td>\n",
       "    </tr>\n",
       "    <tr>\n",
       "      <th>14764</th>\n",
       "      <td>United Distribution</td>\n",
       "      <td>1</td>\n",
       "    </tr>\n",
       "    <tr>\n",
       "      <th>14765</th>\n",
       "      <td>UNITEL LLC</td>\n",
       "      <td>1</td>\n",
       "    </tr>\n",
       "  </tbody>\n",
       "</table>\n",
       "<p>14766 rows × 2 columns</p>\n",
       "</div>"
      ],
      "text/plain": [
       "                 Работодатель  Количество регионов\n",
       "0                      Яндекс                  181\n",
       "1                  Ростелеком                  152\n",
       "2                  Спецремонт                  116\n",
       "3      Поляков Денис Иванович                   88\n",
       "4                   ООО ЕФИН                    71\n",
       "...                       ...                  ...\n",
       "14761                  UniSol                    1\n",
       "14762            UNISTORY LLC                    1\n",
       "14763                   UNIT6                    1\n",
       "14764     United Distribution                    1\n",
       "14765              UNITEL LLC                    1\n",
       "\n",
       "[14766 rows x 2 columns]"
      ]
     },
     "execution_count": 124,
     "metadata": {},
     "output_type": "execute_result"
    }
   ],
   "source": [
    "# результат запроса\n",
    "df_5_3 = pd.read_sql_query(query_5_3, connection)\n",
    "df_5_3"
   ]
  },
  {
   "attachments": {},
   "cell_type": "markdown",
   "metadata": {},
   "source": [
    "4. Напишите запрос для подсчёта количества работодателей, у которых не указана сфера деятельности. "
   ]
  },
  {
   "cell_type": "code",
   "execution_count": 125,
   "metadata": {},
   "outputs": [],
   "source": [
    "# текст запроса\n",
    "query_5_4 = f'''\n",
    "    select\n",
    "        count(*) \"Количество работодателей\"\n",
    "    from\n",
    "        public.employers_industries ei\n",
    "        full join public.employers e on e.id = ei.employer_id\n",
    "    where industry_id is null\n",
    "     \n",
    "        '''"
   ]
  },
  {
   "cell_type": "code",
   "execution_count": 126,
   "metadata": {},
   "outputs": [
    {
     "name": "stderr",
     "output_type": "stream",
     "text": [
      "C:\\Users\\Елена\\AppData\\Local\\Temp\\ipykernel_9096\\1045119256.py:2: UserWarning: pandas only supports SQLAlchemy connectable (engine/connection) or database string URI or sqlite3 DBAPI2 connection. Other DBAPI2 objects are not tested. Please consider using SQLAlchemy.\n",
      "  df_5_4 = pd.read_sql_query(query_5_4, connection)\n"
     ]
    },
    {
     "data": {
      "text/html": [
       "<div>\n",
       "<style scoped>\n",
       "    .dataframe tbody tr th:only-of-type {\n",
       "        vertical-align: middle;\n",
       "    }\n",
       "\n",
       "    .dataframe tbody tr th {\n",
       "        vertical-align: top;\n",
       "    }\n",
       "\n",
       "    .dataframe thead th {\n",
       "        text-align: right;\n",
       "    }\n",
       "</style>\n",
       "<table border=\"1\" class=\"dataframe\">\n",
       "  <thead>\n",
       "    <tr style=\"text-align: right;\">\n",
       "      <th></th>\n",
       "      <th>Количество работодателей</th>\n",
       "    </tr>\n",
       "  </thead>\n",
       "  <tbody>\n",
       "    <tr>\n",
       "      <th>0</th>\n",
       "      <td>8419</td>\n",
       "    </tr>\n",
       "  </tbody>\n",
       "</table>\n",
       "</div>"
      ],
      "text/plain": [
       "   Количество работодателей\n",
       "0                      8419"
      ]
     },
     "execution_count": 126,
     "metadata": {},
     "output_type": "execute_result"
    }
   ],
   "source": [
    "# результат запроса\n",
    "df_5_4 = pd.read_sql_query(query_5_4, connection)\n",
    "df_5_4"
   ]
  },
  {
   "attachments": {},
   "cell_type": "markdown",
   "metadata": {},
   "source": [
    "5. Напишите запрос, чтобы узнать название компании, находящейся на третьем месте в алфавитном списке (по названию) компаний, у которых указано четыре сферы деятельности. "
   ]
  },
  {
   "cell_type": "code",
   "execution_count": 127,
   "metadata": {},
   "outputs": [],
   "source": [
    "# текст запроса\n",
    "query_5_5 = f'''\n",
    "    select\n",
    "        e.name \"Компания\"\n",
    "    from\n",
    "        public.employers e\n",
    "        join public.employers_industries ei on ei.employer_id = e.id\n",
    "    group by 1\n",
    "    having count(ei.industry_id) = 4\n",
    "    order by 1\n",
    "    offset 2\n",
    "    limit 1      \n",
    "    '''\n"
   ]
  },
  {
   "cell_type": "code",
   "execution_count": 128,
   "metadata": {},
   "outputs": [
    {
     "name": "stderr",
     "output_type": "stream",
     "text": [
      "C:\\Users\\Елена\\AppData\\Local\\Temp\\ipykernel_9096\\4025176131.py:2: UserWarning: pandas only supports SQLAlchemy connectable (engine/connection) or database string URI or sqlite3 DBAPI2 connection. Other DBAPI2 objects are not tested. Please consider using SQLAlchemy.\n",
      "  df_5_5 = pd.read_sql_query(query_5_5, connection)\n"
     ]
    },
    {
     "data": {
      "text/html": [
       "<div>\n",
       "<style scoped>\n",
       "    .dataframe tbody tr th:only-of-type {\n",
       "        vertical-align: middle;\n",
       "    }\n",
       "\n",
       "    .dataframe tbody tr th {\n",
       "        vertical-align: top;\n",
       "    }\n",
       "\n",
       "    .dataframe thead th {\n",
       "        text-align: right;\n",
       "    }\n",
       "</style>\n",
       "<table border=\"1\" class=\"dataframe\">\n",
       "  <thead>\n",
       "    <tr style=\"text-align: right;\">\n",
       "      <th></th>\n",
       "      <th>Компания</th>\n",
       "    </tr>\n",
       "  </thead>\n",
       "  <tbody>\n",
       "    <tr>\n",
       "      <th>0</th>\n",
       "      <td>2ГИС</td>\n",
       "    </tr>\n",
       "  </tbody>\n",
       "</table>\n",
       "</div>"
      ],
      "text/plain": [
       "  Компания\n",
       "0     2ГИС"
      ]
     },
     "execution_count": 128,
     "metadata": {},
     "output_type": "execute_result"
    }
   ],
   "source": [
    "# результат запроса\n",
    "df_5_5 = pd.read_sql_query(query_5_5, connection)\n",
    "df_5_5"
   ]
  },
  {
   "attachments": {},
   "cell_type": "markdown",
   "metadata": {},
   "source": [
    "6. С помощью запроса выясните, у какого количества работодателей в качестве сферы деятельности указана Разработка программного обеспечения."
   ]
  },
  {
   "cell_type": "code",
   "execution_count": 79,
   "metadata": {},
   "outputs": [],
   "source": [
    "# текст запроса\n",
    "query_5_6 = f'''\n",
    "    select\n",
    "        count(ei.employer_id) \"Количество работодателей\"\n",
    "    from\n",
    "        public.employers_industries ei \n",
    "        full join public.industries i on i.id = ei.industry_id\n",
    "    where i.name = 'Разработка программного обеспечения' \n",
    "    '''"
   ]
  },
  {
   "cell_type": "code",
   "execution_count": 80,
   "metadata": {},
   "outputs": [
    {
     "name": "stderr",
     "output_type": "stream",
     "text": [
      "C:\\Users\\Елена\\AppData\\Local\\Temp\\ipykernel_9096\\2713946032.py:2: UserWarning: pandas only supports SQLAlchemy connectable (engine/connection) or database string URI or sqlite3 DBAPI2 connection. Other DBAPI2 objects are not tested. Please consider using SQLAlchemy.\n",
      "  df_5_6 = pd.read_sql_query(query_5_6, connection)\n"
     ]
    },
    {
     "data": {
      "text/html": [
       "<div>\n",
       "<style scoped>\n",
       "    .dataframe tbody tr th:only-of-type {\n",
       "        vertical-align: middle;\n",
       "    }\n",
       "\n",
       "    .dataframe tbody tr th {\n",
       "        vertical-align: top;\n",
       "    }\n",
       "\n",
       "    .dataframe thead th {\n",
       "        text-align: right;\n",
       "    }\n",
       "</style>\n",
       "<table border=\"1\" class=\"dataframe\">\n",
       "  <thead>\n",
       "    <tr style=\"text-align: right;\">\n",
       "      <th></th>\n",
       "      <th>Количество работодателей</th>\n",
       "    </tr>\n",
       "  </thead>\n",
       "  <tbody>\n",
       "    <tr>\n",
       "      <th>0</th>\n",
       "      <td>3553</td>\n",
       "    </tr>\n",
       "  </tbody>\n",
       "</table>\n",
       "</div>"
      ],
      "text/plain": [
       "   Количество работодателей\n",
       "0                      3553"
      ]
     },
     "execution_count": 80,
     "metadata": {},
     "output_type": "execute_result"
    }
   ],
   "source": [
    "# результат запроса\n",
    "df_5_6 = pd.read_sql_query(query_5_6, connection)\n",
    "df_5_6"
   ]
  },
  {
   "attachments": {},
   "cell_type": "markdown",
   "metadata": {},
   "source": [
    "7. Для компании «Яндекс» выведите список регионов-миллионников, в которых представлены вакансии компании, вместе с количеством вакансий в этих регионах. Также добавьте строку Total с общим количеством вакансий компании. Результат отсортируйте по возрастанию количества.\n",
    "\n",
    "Список городов-милионников надо взять [отсюда](https://ru.wikipedia.org/wiki/%D0%93%D0%BE%D1%80%D0%BE%D0%B4%D0%B0-%D0%BC%D0%B8%D0%BB%D0%BB%D0%B8%D0%BE%D0%BD%D0%B5%D1%80%D1%8B_%D0%A0%D0%BE%D1%81%D1%81%D0%B8%D0%B8). \n",
    "\n",
    "Если возникнут трудности с этим задание посмотрите материалы модуля  PYTHON-17. Как получать данные из веб-источников и API. "
   ]
  },
  {
   "cell_type": "code",
   "execution_count": 81,
   "metadata": {},
   "outputs": [
    {
     "data": {
      "text/plain": [
       "('Москва',\n",
       " 'Санкт-Петербург',\n",
       " 'Новосибирск',\n",
       " 'Екатеринбург',\n",
       " 'Казань',\n",
       " 'Нижний Новгород',\n",
       " 'Челябинск',\n",
       " 'Красноярск',\n",
       " 'Самара',\n",
       " 'Уфа',\n",
       " 'Ростов-на-Дону',\n",
       " 'Омск',\n",
       " 'Краснодар',\n",
       " 'Воронеж',\n",
       " 'Пермь',\n",
       " 'Волгоград')"
      ]
     },
     "execution_count": 81,
     "metadata": {},
     "output_type": "execute_result"
    }
   ],
   "source": [
    "# код для получения списка городов-милионников\n",
    "\n",
    "# автоматическое перекодирование ссылок\n",
    "import urllib.parse as req\n",
    "\n",
    "path_common = req.urlparse('https://ru.wikipedia.org/wiki/Города-миллионеры_России#Список_городов-миллионеров')\n",
    "url = path_common.scheme + '://' + req.quote(path_common.netloc) +  req.quote(path_common.path) + '#'+ req.quote(path_common.fragment)\n",
    "\n",
    "url\n",
    "\n",
    "# извлечение таблицы из страницы Википедии\n",
    "table = pd.read_html(url)\n",
    "df = pd.DataFrame(table[1])\n",
    "df=df['Город'].replace('Воронеж[a]', 'Воронеж') \n",
    "cities=tuple(df) # представление данных в виде кортежа\n",
    "cities"
   ]
  },
  {
   "cell_type": "code",
   "execution_count": 82,
   "metadata": {},
   "outputs": [],
   "source": [
    "# текст запроса\n",
    "query_5_7 = f'''\n",
    "    select\n",
    "        a.name \"Города-миллионики\",\n",
    "        count(v.id) \"Количество вакансий\"\n",
    "    from\n",
    "        public.vacancies v\n",
    "        full join public.areas a on v.area_id = a.id\n",
    "        full join public.employers e on v.employer_id = e.id\n",
    "    where a.name in ('Москва','Санкт-Петербург', 'Новосибирск','Екатеринбург', 'Казань','Нижний Новгород', 'Челябинск','Красноярск', 'Самара', 'Уфа', 'Ростов-на-Дону','Омск', 'Краснодар','Воронеж', 'Пермь', 'Волгоград') and e.name = 'Яндекс'\n",
    "    group by 1\n",
    "    \n",
    "    union all\n",
    "    \n",
    "    select\n",
    "        'Total',\n",
    "        count(v.id)\n",
    "    from\n",
    "        public.vacancies v\n",
    "        full join public.areas a on v.area_id = a.id\n",
    "        full join public.employers e on v.employer_id = e.id\n",
    "    where a.name in ('Москва','Санкт-Петербург', 'Новосибирск','Екатеринбург', 'Казань','Нижний Новгород', 'Челябинск','Красноярск', 'Самара', 'Уфа', 'Ростов-на-Дону','Омск', 'Краснодар','Воронеж', 'Пермь', 'Волгоград') and e.name = 'Яндекс'\n",
    "    order by 2 \n",
    "\n",
    "    \n",
    "'''"
   ]
  },
  {
   "cell_type": "code",
   "execution_count": 83,
   "metadata": {},
   "outputs": [
    {
     "name": "stderr",
     "output_type": "stream",
     "text": [
      "C:\\Users\\Елена\\AppData\\Local\\Temp\\ipykernel_9096\\2595257991.py:2: UserWarning: pandas only supports SQLAlchemy connectable (engine/connection) or database string URI or sqlite3 DBAPI2 connection. Other DBAPI2 objects are not tested. Please consider using SQLAlchemy.\n",
      "  df_5_7 = pd.read_sql_query(query_5_7, connection)\n"
     ]
    },
    {
     "data": {
      "text/html": [
       "<div>\n",
       "<style scoped>\n",
       "    .dataframe tbody tr th:only-of-type {\n",
       "        vertical-align: middle;\n",
       "    }\n",
       "\n",
       "    .dataframe tbody tr th {\n",
       "        vertical-align: top;\n",
       "    }\n",
       "\n",
       "    .dataframe thead th {\n",
       "        text-align: right;\n",
       "    }\n",
       "</style>\n",
       "<table border=\"1\" class=\"dataframe\">\n",
       "  <thead>\n",
       "    <tr style=\"text-align: right;\">\n",
       "      <th></th>\n",
       "      <th>Города-миллионики</th>\n",
       "      <th>Количество вакансий</th>\n",
       "    </tr>\n",
       "  </thead>\n",
       "  <tbody>\n",
       "    <tr>\n",
       "      <th>0</th>\n",
       "      <td>Омск</td>\n",
       "      <td>21</td>\n",
       "    </tr>\n",
       "    <tr>\n",
       "      <th>1</th>\n",
       "      <td>Челябинск</td>\n",
       "      <td>22</td>\n",
       "    </tr>\n",
       "    <tr>\n",
       "      <th>2</th>\n",
       "      <td>Красноярск</td>\n",
       "      <td>23</td>\n",
       "    </tr>\n",
       "    <tr>\n",
       "      <th>3</th>\n",
       "      <td>Волгоград</td>\n",
       "      <td>24</td>\n",
       "    </tr>\n",
       "    <tr>\n",
       "      <th>4</th>\n",
       "      <td>Пермь</td>\n",
       "      <td>25</td>\n",
       "    </tr>\n",
       "    <tr>\n",
       "      <th>5</th>\n",
       "      <td>Казань</td>\n",
       "      <td>25</td>\n",
       "    </tr>\n",
       "    <tr>\n",
       "      <th>6</th>\n",
       "      <td>Ростов-на-Дону</td>\n",
       "      <td>25</td>\n",
       "    </tr>\n",
       "    <tr>\n",
       "      <th>7</th>\n",
       "      <td>Уфа</td>\n",
       "      <td>26</td>\n",
       "    </tr>\n",
       "    <tr>\n",
       "      <th>8</th>\n",
       "      <td>Самара</td>\n",
       "      <td>26</td>\n",
       "    </tr>\n",
       "    <tr>\n",
       "      <th>9</th>\n",
       "      <td>Краснодар</td>\n",
       "      <td>30</td>\n",
       "    </tr>\n",
       "    <tr>\n",
       "      <th>10</th>\n",
       "      <td>Воронеж</td>\n",
       "      <td>32</td>\n",
       "    </tr>\n",
       "    <tr>\n",
       "      <th>11</th>\n",
       "      <td>Новосибирск</td>\n",
       "      <td>35</td>\n",
       "    </tr>\n",
       "    <tr>\n",
       "      <th>12</th>\n",
       "      <td>Нижний Новгород</td>\n",
       "      <td>36</td>\n",
       "    </tr>\n",
       "    <tr>\n",
       "      <th>13</th>\n",
       "      <td>Екатеринбург</td>\n",
       "      <td>39</td>\n",
       "    </tr>\n",
       "    <tr>\n",
       "      <th>14</th>\n",
       "      <td>Санкт-Петербург</td>\n",
       "      <td>42</td>\n",
       "    </tr>\n",
       "    <tr>\n",
       "      <th>15</th>\n",
       "      <td>Москва</td>\n",
       "      <td>54</td>\n",
       "    </tr>\n",
       "    <tr>\n",
       "      <th>16</th>\n",
       "      <td>Total</td>\n",
       "      <td>485</td>\n",
       "    </tr>\n",
       "  </tbody>\n",
       "</table>\n",
       "</div>"
      ],
      "text/plain": [
       "   Города-миллионики  Количество вакансий\n",
       "0               Омск                   21\n",
       "1          Челябинск                   22\n",
       "2         Красноярск                   23\n",
       "3          Волгоград                   24\n",
       "4              Пермь                   25\n",
       "5             Казань                   25\n",
       "6     Ростов-на-Дону                   25\n",
       "7                Уфа                   26\n",
       "8             Самара                   26\n",
       "9          Краснодар                   30\n",
       "10           Воронеж                   32\n",
       "11       Новосибирск                   35\n",
       "12   Нижний Новгород                   36\n",
       "13      Екатеринбург                   39\n",
       "14   Санкт-Петербург                   42\n",
       "15            Москва                   54\n",
       "16             Total                  485"
      ]
     },
     "execution_count": 83,
     "metadata": {},
     "output_type": "execute_result"
    }
   ],
   "source": [
    "# результат запроса\n",
    "df_5_7 = pd.read_sql_query(query_5_7, connection)\n",
    "df_5_7"
   ]
  },
  {
   "attachments": {},
   "cell_type": "markdown",
   "metadata": {},
   "source": [
    "***"
   ]
  },
  {
   "attachments": {},
   "cell_type": "markdown",
   "metadata": {},
   "source": [
    "#### Выводы:\n",
    "Анализ работодателй показал:\n",
    "- Наиболее популярный работодатель по количеству вакансий (1933 шт) - \"Яндекс\". Это было наверно ожидаемым, так как Яндекс известен не только поисковой системой, но и различными сервисами, такими как Яндекс.Такси, Яндекс.Маркет, Яндекс.Еда(служба доставки продуктов), Яндекс.Лавка (экспресс-доставка), Яндекс.Драйв (каршеринг) и т.п. На любой из этих сервисов всегда будут рабочие места.\n",
    "- Яндекс разместил 485 вакансий в городах миллиониках.\n",
    "- Есть много работодателей среди различных регионов, при этом у них нет открытых вакансий.\n",
    "- По количеству регионов размещения вакансий лидирует Яндекс. Возможно это связано с тем, что сферы деятельности Яндекса превалирует IT область, что позволяет компании нанимать сотрудников на удаленную работу. Удаленная работа, как известно, - это возможность работать из любой точки мира   \n",
    "Затем идет \"Ростелеком\" -  российский провайдер услуг широкополосного доступа в Интернет, интерактивного телевидения, сотовой связи, местной и дальней телефонной связи. Занимает лидирующие позиции на российском рынке высокоскоростного доступа в интернет, платного ТВ, хранения и обработки данных, а также кибербезопасности. В структуре Ростелекома 79 филиалов, расположеннных по всей стране.\n",
    "- 8419 работодателей не указали в размещаемых ими вакансиях сферы деятельности.\n",
    "- 1136 работодателей имеют 4 сферы деятельности\n",
    "- 3553 работодателей занимаются разработкой программного обеспечения"
   ]
  },
  {
   "attachments": {},
   "cell_type": "markdown",
   "metadata": {},
   "source": [
    "# Юнит 6. Предметный анализ"
   ]
  },
  {
   "attachments": {},
   "cell_type": "markdown",
   "metadata": {},
   "source": [
    "1. Сколько вакансий имеет отношение к данным?\n",
    "\n",
    "Считаем, что вакансия имеет отношение к данным, если в её названии содержатся слова 'data' или 'данн'.\n",
    "\n",
    "*Подсказка: Обратите внимание, что названия вакансий могут быть написаны в любом регистре.* "
   ]
  },
  {
   "cell_type": "code",
   "execution_count": 84,
   "metadata": {},
   "outputs": [],
   "source": [
    "# текст запроса\n",
    "query_6_1 = f'''\n",
    "    select\n",
    "        count(name) \"Вакансии, связанные с данными\"\n",
    "    from\n",
    "        public.vacancies\n",
    "    where lower(name) like '%data%' or lower(name) like '%данн%' or upper(name) like '%data%' or upper(name) like '%данн%'\n",
    "    '''"
   ]
  },
  {
   "cell_type": "code",
   "execution_count": 85,
   "metadata": {},
   "outputs": [
    {
     "name": "stderr",
     "output_type": "stream",
     "text": [
      "C:\\Users\\Елена\\AppData\\Local\\Temp\\ipykernel_9096\\1281472032.py:2: UserWarning: pandas only supports SQLAlchemy connectable (engine/connection) or database string URI or sqlite3 DBAPI2 connection. Other DBAPI2 objects are not tested. Please consider using SQLAlchemy.\n",
      "  df_6_1 = pd.read_sql_query(query_6_1, connection)\n"
     ]
    },
    {
     "data": {
      "text/html": [
       "<div>\n",
       "<style scoped>\n",
       "    .dataframe tbody tr th:only-of-type {\n",
       "        vertical-align: middle;\n",
       "    }\n",
       "\n",
       "    .dataframe tbody tr th {\n",
       "        vertical-align: top;\n",
       "    }\n",
       "\n",
       "    .dataframe thead th {\n",
       "        text-align: right;\n",
       "    }\n",
       "</style>\n",
       "<table border=\"1\" class=\"dataframe\">\n",
       "  <thead>\n",
       "    <tr style=\"text-align: right;\">\n",
       "      <th></th>\n",
       "      <th>Вакансии, связанные с данными</th>\n",
       "    </tr>\n",
       "  </thead>\n",
       "  <tbody>\n",
       "    <tr>\n",
       "      <th>0</th>\n",
       "      <td>1771</td>\n",
       "    </tr>\n",
       "  </tbody>\n",
       "</table>\n",
       "</div>"
      ],
      "text/plain": [
       "   Вакансии, связанные с данными\n",
       "0                           1771"
      ]
     },
     "execution_count": 85,
     "metadata": {},
     "output_type": "execute_result"
    }
   ],
   "source": [
    "# результат запроса\n",
    "df_6_1 = pd.read_sql_query(query_6_1, connection)\n",
    "df_6_1"
   ]
  },
  {
   "attachments": {},
   "cell_type": "markdown",
   "metadata": {},
   "source": [
    "2. Сколько есть подходящих вакансий для начинающего дата-сайентиста? \n",
    "Будем считать вакансиями для дата-сайентистов такие, в названии которых есть хотя бы одно из следующих сочетаний:\n",
    "* 'data scientist'\n",
    "* 'data science'\n",
    "* 'исследователь данных'\n",
    "* 'ML' (здесь не нужно брать вакансии по HTML)\n",
    "* 'machine learning'\n",
    "* 'машинн%обучен%'\n",
    "\n",
    "** В следующих заданиях мы продолжим работать с вакансиями по этому условию.*\n",
    "\n",
    "Считаем вакансиями для специалистов уровня Junior следующие:\n",
    "* в названии есть слово 'junior' *или*\n",
    "* требуемый опыт — Нет опыта *или*\n",
    "* тип трудоустройства — Стажировка."
   ]
  },
  {
   "cell_type": "code",
   "execution_count": 86,
   "metadata": {},
   "outputs": [],
   "source": [
    "# текст запроса\n",
    "query_6_2 = f'''\n",
    "    select\n",
    "        count(v.id) \"Количество вакансий DS-junior\"\n",
    "    from\n",
    "        public.vacancies v\n",
    "    where (lower(v.name) like '%data scientist%' or \n",
    "        lower(v.name) like '%data science%' or \n",
    "        lower(v.name) like '%исследователь данных%' or \n",
    "        lower(v.name) like '%machine learning%' or\n",
    "        lower(v.name) like '%машинн%обучен%' or \n",
    "        (v.name like '%ML%' and v.name not like '%HTML%'))\n",
    "        and \n",
    "        (lower(v.name) like '%junior%' or \n",
    "        v.experience like '%Нет опыта%' or \n",
    "        v.employment like '%Стажировка%')\n",
    "    \n",
    "    '''"
   ]
  },
  {
   "cell_type": "code",
   "execution_count": 87,
   "metadata": {},
   "outputs": [
    {
     "name": "stderr",
     "output_type": "stream",
     "text": [
      "C:\\Users\\Елена\\AppData\\Local\\Temp\\ipykernel_9096\\118162426.py:2: UserWarning: pandas only supports SQLAlchemy connectable (engine/connection) or database string URI or sqlite3 DBAPI2 connection. Other DBAPI2 objects are not tested. Please consider using SQLAlchemy.\n",
      "  df_6_2 = pd.read_sql_query(query_6_2, connection)\n"
     ]
    },
    {
     "data": {
      "text/html": [
       "<div>\n",
       "<style scoped>\n",
       "    .dataframe tbody tr th:only-of-type {\n",
       "        vertical-align: middle;\n",
       "    }\n",
       "\n",
       "    .dataframe tbody tr th {\n",
       "        vertical-align: top;\n",
       "    }\n",
       "\n",
       "    .dataframe thead th {\n",
       "        text-align: right;\n",
       "    }\n",
       "</style>\n",
       "<table border=\"1\" class=\"dataframe\">\n",
       "  <thead>\n",
       "    <tr style=\"text-align: right;\">\n",
       "      <th></th>\n",
       "      <th>Количество вакансий DS-junior</th>\n",
       "    </tr>\n",
       "  </thead>\n",
       "  <tbody>\n",
       "    <tr>\n",
       "      <th>0</th>\n",
       "      <td>51</td>\n",
       "    </tr>\n",
       "  </tbody>\n",
       "</table>\n",
       "</div>"
      ],
      "text/plain": [
       "   Количество вакансий DS-junior\n",
       "0                             51"
      ]
     },
     "execution_count": 87,
     "metadata": {},
     "output_type": "execute_result"
    }
   ],
   "source": [
    "# результат запроса\n",
    "df_6_2 = pd.read_sql_query(query_6_2, connection)\n",
    "df_6_2"
   ]
  },
  {
   "attachments": {},
   "cell_type": "markdown",
   "metadata": {},
   "source": [
    "3. Сколько есть вакансий для DS, в которых в качестве ключевого навыка указан SQL или postgres?\n",
    "\n",
    "** Критерии для отнесения вакансии к DS указаны в предыдущем задании.*"
   ]
  },
  {
   "cell_type": "code",
   "execution_count": 88,
   "metadata": {},
   "outputs": [],
   "source": [
    "# текст запроса\n",
    "query_6_3 = f'''\n",
    "    select\n",
    "        count(v.id) \"Количество вакансий с ключевыми навыками SQL или postgres\"\n",
    "    from\n",
    "        public.vacancies v\n",
    "    where (lower(v.name) like '%data scientist%' or \n",
    "        lower(v.name) like '%data science%' or \n",
    "        lower(v.name) like '%исследователь данных%' or \n",
    "        lower(v.name) like '%machine learning%' or\n",
    "        lower(v.name) like '%машинн%обучен%' or \n",
    "        (v.name like '%ML%' and v.name not like '%HTML%'))\n",
    "        and \n",
    "        (key_skills like '%SQL%' or\n",
    "        key_skills like '%postgres%')\n",
    "    '''"
   ]
  },
  {
   "cell_type": "code",
   "execution_count": 89,
   "metadata": {},
   "outputs": [
    {
     "name": "stderr",
     "output_type": "stream",
     "text": [
      "C:\\Users\\Елена\\AppData\\Local\\Temp\\ipykernel_9096\\3310962512.py:2: UserWarning: pandas only supports SQLAlchemy connectable (engine/connection) or database string URI or sqlite3 DBAPI2 connection. Other DBAPI2 objects are not tested. Please consider using SQLAlchemy.\n",
      "  df_6_3 = pd.read_sql_query(query_6_3, connection)\n"
     ]
    },
    {
     "data": {
      "text/html": [
       "<div>\n",
       "<style scoped>\n",
       "    .dataframe tbody tr th:only-of-type {\n",
       "        vertical-align: middle;\n",
       "    }\n",
       "\n",
       "    .dataframe tbody tr th {\n",
       "        vertical-align: top;\n",
       "    }\n",
       "\n",
       "    .dataframe thead th {\n",
       "        text-align: right;\n",
       "    }\n",
       "</style>\n",
       "<table border=\"1\" class=\"dataframe\">\n",
       "  <thead>\n",
       "    <tr style=\"text-align: right;\">\n",
       "      <th></th>\n",
       "      <th>Количество вакансий с ключевыми н</th>\n",
       "    </tr>\n",
       "  </thead>\n",
       "  <tbody>\n",
       "    <tr>\n",
       "      <th>0</th>\n",
       "      <td>201</td>\n",
       "    </tr>\n",
       "  </tbody>\n",
       "</table>\n",
       "</div>"
      ],
      "text/plain": [
       "   Количество вакансий с ключевыми н\n",
       "0                                201"
      ]
     },
     "execution_count": 89,
     "metadata": {},
     "output_type": "execute_result"
    }
   ],
   "source": [
    "# результат запроса\n",
    "df_6_3 = pd.read_sql_query(query_6_3, connection)\n",
    "df_6_3"
   ]
  },
  {
   "attachments": {},
   "cell_type": "markdown",
   "metadata": {},
   "source": [
    "4. Проверьте, насколько популярен Python в требованиях работодателей к DS.Для этого вычислите количество вакансий, в которых в качестве ключевого навыка указан Python.\n",
    "\n",
    "** Это можно сделать помощью запроса, аналогичного предыдущему.*"
   ]
  },
  {
   "cell_type": "code",
   "execution_count": 129,
   "metadata": {},
   "outputs": [],
   "source": [
    "# текст запроса\n",
    "query_6_4 = f'''\n",
    "    select\n",
    "        count(v.id) \"Количество вакансий с ключевым навыком Python\"\n",
    "    from\n",
    "        public.vacancies v\n",
    "    where (lower(v.name) like '%data scientist%' or \n",
    "        lower(v.name) like '%data science%' or \n",
    "        lower(v.name) like '%исследователь данных%' or \n",
    "        lower(v.name) like '%machine learning%' or\n",
    "        lower(v.name) like '%машинн%обучен%' or \n",
    "        (v.name like '%ML%' and v.name not like '%HTML%'))\n",
    "        and \n",
    "        (key_skills like '%Python%')\n",
    "    '''"
   ]
  },
  {
   "cell_type": "code",
   "execution_count": 130,
   "metadata": {},
   "outputs": [
    {
     "name": "stderr",
     "output_type": "stream",
     "text": [
      "C:\\Users\\Елена\\AppData\\Local\\Temp\\ipykernel_9096\\614304167.py:2: UserWarning: pandas only supports SQLAlchemy connectable (engine/connection) or database string URI or sqlite3 DBAPI2 connection. Other DBAPI2 objects are not tested. Please consider using SQLAlchemy.\n",
      "  df_6_4 = pd.read_sql_query(query_6_4, connection)\n"
     ]
    },
    {
     "data": {
      "text/html": [
       "<div>\n",
       "<style scoped>\n",
       "    .dataframe tbody tr th:only-of-type {\n",
       "        vertical-align: middle;\n",
       "    }\n",
       "\n",
       "    .dataframe tbody tr th {\n",
       "        vertical-align: top;\n",
       "    }\n",
       "\n",
       "    .dataframe thead th {\n",
       "        text-align: right;\n",
       "    }\n",
       "</style>\n",
       "<table border=\"1\" class=\"dataframe\">\n",
       "  <thead>\n",
       "    <tr style=\"text-align: right;\">\n",
       "      <th></th>\n",
       "      <th>Количество вакансий с ключевым на</th>\n",
       "    </tr>\n",
       "  </thead>\n",
       "  <tbody>\n",
       "    <tr>\n",
       "      <th>0</th>\n",
       "      <td>351</td>\n",
       "    </tr>\n",
       "  </tbody>\n",
       "</table>\n",
       "</div>"
      ],
      "text/plain": [
       "   Количество вакансий с ключевым на\n",
       "0                                351"
      ]
     },
     "execution_count": 130,
     "metadata": {},
     "output_type": "execute_result"
    }
   ],
   "source": [
    "# результат запроса\n",
    "df_6_4 = pd.read_sql_query(query_6_4, connection)\n",
    "df_6_4"
   ]
  },
  {
   "attachments": {},
   "cell_type": "markdown",
   "metadata": {},
   "source": [
    "5. Сколько ключевых навыков в среднем указывают в вакансиях для DS?\n",
    "Ответ округлите до двух знаков после точки-разделителя."
   ]
  },
  {
   "cell_type": "code",
   "execution_count": 92,
   "metadata": {},
   "outputs": [],
   "source": [
    "# текст запроса\n",
    "query_6_5 = f'''\n",
    "    select\n",
    "        round(avg(length(key_skills)-\n",
    "        length(replace(key_skills, chr(9), ''))+1),2) \"Количество ключевых нвыков для DS\"\n",
    "    from\n",
    "       public.vacancies v\n",
    "    where (lower(v.name) like '%data scientist%' or \n",
    "        lower(v.name) like '%data science%' or \n",
    "        lower(v.name) like '%исследователь данных%' or \n",
    "        lower(v.name) like '%machine learning%' or\n",
    "        lower(v.name) like '%машинн%обучен%' or \n",
    "        (v.name like '%ML%' and v.name not like '%HTML%')) \n",
    "'''"
   ]
  },
  {
   "cell_type": "code",
   "execution_count": 93,
   "metadata": {},
   "outputs": [
    {
     "name": "stderr",
     "output_type": "stream",
     "text": [
      "C:\\Users\\Елена\\AppData\\Local\\Temp\\ipykernel_9096\\4089566367.py:2: UserWarning: pandas only supports SQLAlchemy connectable (engine/connection) or database string URI or sqlite3 DBAPI2 connection. Other DBAPI2 objects are not tested. Please consider using SQLAlchemy.\n",
      "  df_6_5 = pd.read_sql_query(query_6_5, connection)\n"
     ]
    },
    {
     "data": {
      "text/html": [
       "<div>\n",
       "<style scoped>\n",
       "    .dataframe tbody tr th:only-of-type {\n",
       "        vertical-align: middle;\n",
       "    }\n",
       "\n",
       "    .dataframe tbody tr th {\n",
       "        vertical-align: top;\n",
       "    }\n",
       "\n",
       "    .dataframe thead th {\n",
       "        text-align: right;\n",
       "    }\n",
       "</style>\n",
       "<table border=\"1\" class=\"dataframe\">\n",
       "  <thead>\n",
       "    <tr style=\"text-align: right;\">\n",
       "      <th></th>\n",
       "      <th>Количество ключевых нвыков для DS</th>\n",
       "    </tr>\n",
       "  </thead>\n",
       "  <tbody>\n",
       "    <tr>\n",
       "      <th>0</th>\n",
       "      <td>6.41</td>\n",
       "    </tr>\n",
       "  </tbody>\n",
       "</table>\n",
       "</div>"
      ],
      "text/plain": [
       "   Количество ключевых нвыков для DS\n",
       "0                               6.41"
      ]
     },
     "execution_count": 93,
     "metadata": {},
     "output_type": "execute_result"
    }
   ],
   "source": [
    "# результат запроса\n",
    "df_6_5 = pd.read_sql_query(query_6_5, connection)\n",
    "df_6_5"
   ]
  },
  {
   "attachments": {},
   "cell_type": "markdown",
   "metadata": {},
   "source": [
    "6. Напишите запрос, позволяющий вычислить, какую зарплату для DS в **среднем** указывают для каждого типа требуемого опыта (уникальное значение из поля *experience*). \n",
    "\n",
    "При решении задачи примите во внимание следующее:\n",
    "1. Рассматриваем только вакансии, у которых заполнено хотя бы одно из двух полей с зарплатой.\n",
    "2. Если заполнены оба поля с зарплатой, то считаем зарплату по каждой вакансии как сумму двух полей, делённую на 2. Если заполнено только одно из полей, то его и считаем зарплатой по вакансии.\n",
    "3. Если в расчётах участвует null, в результате он тоже даст null (посмотрите, что возвращает запрос select 1 + null). Чтобы избежать этой ситуацию, мы воспользуемся функцией [coalesce](https://postgrespro.ru/docs/postgresql/9.5/functions-conditional#functions-coalesce-nvl-ifnull), которая заменит null на значение, которое мы передадим. Например, посмотрите, что возвращает запрос `select 1 + coalesce(null, 0)`\n",
    "\n",
    "Выясните, на какую зарплату в среднем может рассчитывать дата-сайентист с опытом работы от 3 до 6 лет. Результат округлите до целого числа. "
   ]
  },
  {
   "cell_type": "code",
   "execution_count": 94,
   "metadata": {},
   "outputs": [],
   "source": [
    "# текст запроса\n",
    "query_6_6 = f'''\n",
    "    select\n",
    "        experience \"Опыт работы\",\n",
    "        round(avg(coalesce((salary_from+salary_to)/2, salary_from, salary_to))) \"Средняя ЗП\"\n",
    "    from \n",
    "        public.vacancies v\n",
    "    where (lower(v.name) like '%data scientist%' or \n",
    "        lower(v.name) like '%data science%' or \n",
    "        lower(v.name) like '%исследователь данных%' or \n",
    "        lower(v.name) like '%machine learning%' or\n",
    "        lower(v.name) like '%машинн%обучен%' or \n",
    "        (v.name like '%ML%' and v.name not like '%HTML%'))  \n",
    "    group by 1 \n",
    "        \n",
    "    '''"
   ]
  },
  {
   "cell_type": "code",
   "execution_count": 95,
   "metadata": {},
   "outputs": [
    {
     "name": "stderr",
     "output_type": "stream",
     "text": [
      "C:\\Users\\Елена\\AppData\\Local\\Temp\\ipykernel_9096\\2297777544.py:2: UserWarning: pandas only supports SQLAlchemy connectable (engine/connection) or database string URI or sqlite3 DBAPI2 connection. Other DBAPI2 objects are not tested. Please consider using SQLAlchemy.\n",
      "  df_6_6 = pd.read_sql_query(query_6_6, connection)\n"
     ]
    },
    {
     "data": {
      "text/html": [
       "<div>\n",
       "<style scoped>\n",
       "    .dataframe tbody tr th:only-of-type {\n",
       "        vertical-align: middle;\n",
       "    }\n",
       "\n",
       "    .dataframe tbody tr th {\n",
       "        vertical-align: top;\n",
       "    }\n",
       "\n",
       "    .dataframe thead th {\n",
       "        text-align: right;\n",
       "    }\n",
       "</style>\n",
       "<table border=\"1\" class=\"dataframe\">\n",
       "  <thead>\n",
       "    <tr style=\"text-align: right;\">\n",
       "      <th></th>\n",
       "      <th>Опыт работы</th>\n",
       "      <th>Средняя ЗП</th>\n",
       "    </tr>\n",
       "  </thead>\n",
       "  <tbody>\n",
       "    <tr>\n",
       "      <th>0</th>\n",
       "      <td>Более 6 лет</td>\n",
       "      <td>NaN</td>\n",
       "    </tr>\n",
       "    <tr>\n",
       "      <th>1</th>\n",
       "      <td>Нет опыта</td>\n",
       "      <td>74643.0</td>\n",
       "    </tr>\n",
       "    <tr>\n",
       "      <th>2</th>\n",
       "      <td>От 1 года до 3 лет</td>\n",
       "      <td>139675.0</td>\n",
       "    </tr>\n",
       "    <tr>\n",
       "      <th>3</th>\n",
       "      <td>От 3 до 6 лет</td>\n",
       "      <td>243115.0</td>\n",
       "    </tr>\n",
       "  </tbody>\n",
       "</table>\n",
       "</div>"
      ],
      "text/plain": [
       "          Опыт работы  Средняя ЗП\n",
       "0         Более 6 лет         NaN\n",
       "1           Нет опыта     74643.0\n",
       "2  От 1 года до 3 лет    139675.0\n",
       "3       От 3 до 6 лет    243115.0"
      ]
     },
     "execution_count": 95,
     "metadata": {},
     "output_type": "execute_result"
    }
   ],
   "source": [
    "# результат запроса\n",
    "df_6_6 = pd.read_sql_query(query_6_6, connection)\n",
    "df_6_6"
   ]
  },
  {
   "attachments": {},
   "cell_type": "markdown",
   "metadata": {},
   "source": [
    "***"
   ]
  },
  {
   "attachments": {},
   "cell_type": "markdown",
   "metadata": {},
   "source": [
    "#### Выводы:\n",
    "С помощью предметного анализа было выявлено:\n",
    "- 1771 вакансий, связанных с данными\n",
    "- при этом 51 вакансия размещена на позицию DS-junior\n",
    "- в 201 вакансиях упоминается необходимые навыки такие как SQL или postgres\n",
    "- в 351 вакансиях - навык владения языком программирования Python\n",
    "- в вакансиях на позицию DS в среднем упоминается больше 6 ключевых навыков\n",
    "-  DS с опытом работы от 3 до 6 лет может расчитывать в среднем на ЗП в размере 243115 у.е."
   ]
  },
  {
   "cell_type": "code",
   "execution_count": 96,
   "metadata": {},
   "outputs": [],
   "source": [
    "connection.close()"
   ]
  },
  {
   "attachments": {},
   "cell_type": "markdown",
   "metadata": {},
   "source": [
    "# Общий вывод по проекту"
   ]
  },
  {
   "attachments": {},
   "cell_type": "markdown",
   "metadata": {},
   "source": [
    "1. В выборке представлены 49197 вакансий от 23501 работодателей в 1362 регионах по 294 сферам деятельсности.\n",
    "2. Наибольшее количество вакансий было размещено в городах-мегаполисах с хорошо развитыми промышленностью и инфраструктурой.\n",
    "3. Средняя зароботная плата составляет от 71065 у.е. до 110537 у.е.\n",
    "4. По количеству размещенных вакансий лидирует \"Яндекс\"\n",
    "5. 36% работодателей не указали в своих вакансиях сферу деятельности\n",
    "6. 10% работадателей указали 4 и более сферы деятельности\n",
    "7. 15% работодателей занимаются разработкой программного обеспечения\n",
    "8. Из 1771 вакансий, связанных с данными только в 201 вакансиях требуется навык владения SQL или postgres, в 351 вакансиях - Pythonю\n",
    "9. В вакансиях для DS в среднем указывают более 6 ключевых навыков. \n",
    "10. DS с опытом работы от 3 до 6 лет будет получать в среднем на ЗП в 243115 у.е.\n",
    "\n",
    "\n",
    "\n",
    "\n"
   ]
  }
 ],
 "metadata": {
  "kernelspec": {
   "display_name": "Python 3",
   "language": "python",
   "name": "python3"
  },
  "language_info": {
   "codemirror_mode": {
    "name": "ipython",
    "version": 3
   },
   "file_extension": ".py",
   "mimetype": "text/x-python",
   "name": "python",
   "nbconvert_exporter": "python",
   "pygments_lexer": "ipython3",
   "version": "3.9.10"
  },
  "orig_nbformat": 4
 },
 "nbformat": 4,
 "nbformat_minor": 2
}
