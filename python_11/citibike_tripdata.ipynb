{
 "cells": [
  {
   "attachments": {},
   "cell_type": "markdown",
   "metadata": {},
   "source": [
    "# Импорт данных"
   ]
  },
  {
   "cell_type": "code",
   "execution_count": 58,
   "metadata": {},
   "outputs": [
    {
     "name": "stdout",
     "output_type": "stream",
     "text": [
      "                  starttime                  stoptime  start station id  \\\n",
      "0  2018-09-01 00:00:05.2690  2018-09-01 00:27:20.6340             252.0   \n",
      "1  2018-09-01 00:00:11.2810  2018-09-01 00:02:23.4810             314.0   \n",
      "2  2018-09-01 00:00:20.6490  2018-09-01 00:55:58.5470            3142.0   \n",
      "3  2018-09-01 00:00:21.7460  2018-09-01 00:07:38.5830             308.0   \n",
      "4  2018-09-01 00:00:27.3150  2018-09-01 02:21:25.3080             345.0   \n",
      "\n",
      "                start station name  start station latitude  \\\n",
      "0     MacDougal St & Washington Sq               40.732264   \n",
      "1  Cadman Plaza West & Montague St               40.693830   \n",
      "2                  1 Ave & E 62 St               40.761227   \n",
      "3          St James Pl & Oliver St               40.713079   \n",
      "4                  W 13 St & 6 Ave               40.736494   \n",
      "\n",
      "   start station longitude  end station id            end station name  \\\n",
      "0               -73.998522           366.0    Clinton Ave & Myrtle Ave   \n",
      "1               -73.990539          3242.0  Schermerhorn St & Court St   \n",
      "2               -73.960940          3384.0             Smith St & 3 St   \n",
      "3               -73.998512          3690.0         Park Pl & Church St   \n",
      "4               -73.997044           380.0            W 4 St & 7 Ave S   \n",
      "\n",
      "   end station latitude  end station longitude  bikeid    usertype  \\\n",
      "0             40.693261             -73.968896   25577  Subscriber   \n",
      "1             40.691029             -73.991834   34377  Subscriber   \n",
      "2             40.678724             -73.995991   30496  Subscriber   \n",
      "3             40.713342             -74.009355   28866  Subscriber   \n",
      "4             40.734011             -74.002939   20943    Customer   \n",
      "\n",
      "   birth year  gender  \n",
      "0        1980       1  \n",
      "1        1969       0  \n",
      "2        1975       1  \n",
      "3        1984       2  \n",
      "4        1994       1  \n"
     ]
    }
   ],
   "source": [
    "import pandas as pd\n",
    "citibike_tripdata = pd.read_csv('D:\\курс по data science\\IDE\\python_11\\data\\citibike-tripdata.csv', sep=',')\n",
    "print(citibike_tripdata.head())"
   ]
  },
  {
   "attachments": {},
   "cell_type": "markdown",
   "metadata": {},
   "source": [
    "## Создание копии таблицы"
   ]
  },
  {
   "cell_type": "code",
   "execution_count": 59,
   "metadata": {},
   "outputs": [
    {
     "name": "stdout",
     "output_type": "stream",
     "text": [
      "                  starttime                  stoptime  start station id  \\\n",
      "0  2018-09-01 00:00:05.2690  2018-09-01 00:27:20.6340             252.0   \n",
      "1  2018-09-01 00:00:11.2810  2018-09-01 00:02:23.4810             314.0   \n",
      "2  2018-09-01 00:00:20.6490  2018-09-01 00:55:58.5470            3142.0   \n",
      "3  2018-09-01 00:00:21.7460  2018-09-01 00:07:38.5830             308.0   \n",
      "4  2018-09-01 00:00:27.3150  2018-09-01 02:21:25.3080             345.0   \n",
      "\n",
      "                start station name  start station latitude  \\\n",
      "0     MacDougal St & Washington Sq               40.732264   \n",
      "1  Cadman Plaza West & Montague St               40.693830   \n",
      "2                  1 Ave & E 62 St               40.761227   \n",
      "3          St James Pl & Oliver St               40.713079   \n",
      "4                  W 13 St & 6 Ave               40.736494   \n",
      "\n",
      "   start station longitude  end station id            end station name  \\\n",
      "0               -73.998522           366.0    Clinton Ave & Myrtle Ave   \n",
      "1               -73.990539          3242.0  Schermerhorn St & Court St   \n",
      "2               -73.960940          3384.0             Smith St & 3 St   \n",
      "3               -73.998512          3690.0         Park Pl & Church St   \n",
      "4               -73.997044           380.0            W 4 St & 7 Ave S   \n",
      "\n",
      "   end station latitude  end station longitude  bikeid    usertype  \\\n",
      "0             40.693261             -73.968896   25577  Subscriber   \n",
      "1             40.691029             -73.991834   34377  Subscriber   \n",
      "2             40.678724             -73.995991   30496  Subscriber   \n",
      "3             40.713342             -74.009355   28866  Subscriber   \n",
      "4             40.734011             -74.002939   20943    Customer   \n",
      "\n",
      "   birth year  gender  \n",
      "0        1980       1  \n",
      "1        1969       0  \n",
      "2        1975       1  \n",
      "3        1984       2  \n",
      "4        1994       1  \n"
     ]
    }
   ],
   "source": [
    "biketrip_df = citibike_tripdata.copy()\n",
    "print(biketrip_df.head())"
   ]
  },
  {
   "attachments": {},
   "cell_type": "markdown",
   "metadata": {},
   "source": [
    "### Задание 6.1\n",
    "#### Сколько пропусков в столбце start station id?"
   ]
  },
  {
   "cell_type": "code",
   "execution_count": 60,
   "metadata": {},
   "outputs": [
    {
     "name": "stdout",
     "output_type": "stream",
     "text": [
      "<class 'pandas.core.series.Series'>\n",
      "RangeIndex: 300000 entries, 0 to 299999\n",
      "Series name: start station id\n",
      "Non-Null Count   Dtype  \n",
      "--------------   -----  \n",
      "299831 non-null  float64\n",
      "dtypes: float64(1)\n",
      "memory usage: 2.3 MB\n",
      "None\n"
     ]
    }
   ],
   "source": [
    "print(biketrip_df['start station id'].info())"
   ]
  },
  {
   "attachments": {},
   "cell_type": "markdown",
   "metadata": {},
   "source": [
    "### Задание 6.2\n",
    "#### Какой тип данных имеют столбцы starttime и stoptime?"
   ]
  },
  {
   "cell_type": "code",
   "execution_count": 61,
   "metadata": {},
   "outputs": [
    {
     "name": "stdout",
     "output_type": "stream",
     "text": [
      "<class 'pandas.core.series.Series'>\n",
      "RangeIndex: 300000 entries, 0 to 299999\n",
      "Series name: starttime\n",
      "Non-Null Count   Dtype \n",
      "--------------   ----- \n",
      "300000 non-null  object\n",
      "dtypes: object(1)\n",
      "memory usage: 2.3+ MB\n",
      "None\n",
      "<class 'pandas.core.series.Series'>\n",
      "RangeIndex: 300000 entries, 0 to 299999\n",
      "Series name: stoptime\n",
      "Non-Null Count   Dtype \n",
      "--------------   ----- \n",
      "300000 non-null  object\n",
      "dtypes: object(1)\n",
      "memory usage: 2.3+ MB\n",
      "None\n"
     ]
    }
   ],
   "source": [
    "print(biketrip_df['starttime'].info())\n",
    "print(biketrip_df['stoptime'].info())\n"
   ]
  },
  {
   "attachments": {},
   "cell_type": "markdown",
   "metadata": {},
   "source": [
    "### Задание 6.3\n",
    "#### Найдите идентификатор самой популярной стартовой стоянки. Запишите идентификатор в виде целого числа.\n"
   ]
  },
  {
   "cell_type": "code",
   "execution_count": 62,
   "metadata": {},
   "outputs": [
    {
     "name": "stdout",
     "output_type": "stream",
     "text": [
      "0    281.0\n",
      "Name: start station id, dtype: float64\n"
     ]
    }
   ],
   "source": [
    "print(biketrip_df['start station id'].mode())"
   ]
  },
  {
   "attachments": {},
   "cell_type": "markdown",
   "metadata": {},
   "source": [
    "### Задание 6.4\n",
    "#### Велосипед с каким идентификатором является самым популярным?"
   ]
  },
  {
   "cell_type": "code",
   "execution_count": 63,
   "metadata": {},
   "outputs": [
    {
     "name": "stdout",
     "output_type": "stream",
     "text": [
      "0    33887\n",
      "Name: bikeid, dtype: int64\n"
     ]
    }
   ],
   "source": [
    "print(biketrip_df['bikeid'].mode())"
   ]
  },
  {
   "attachments": {},
   "cell_type": "markdown",
   "metadata": {},
   "source": [
    "### Задание 6.5\n",
    "#### Какой тип клиентов (столбец usertype) является преобладающим — Subscriber или Customer? В качестве ответа запишите долю клиентов преобладающего типа среди общего количества клиентов. Ответ округлите до сотых."
   ]
  },
  {
   "cell_type": "code",
   "execution_count": 64,
   "metadata": {},
   "outputs": [
    {
     "name": "stdout",
     "output_type": "stream",
     "text": [
      "Subscriber    0.774007\n",
      "Customer      0.225993\n",
      "Name: usertype, dtype: float64\n"
     ]
    }
   ],
   "source": [
    "print(biketrip_df['usertype'].value_counts(normalize=True))"
   ]
  },
  {
   "attachments": {},
   "cell_type": "markdown",
   "metadata": {},
   "source": [
    "### Задание 6.6\n",
    "#### Кто больше занимается велоспортом — мужчины или женщины? В ответ запишите число поездок для той группы, у которой их больше.\n"
   ]
  },
  {
   "cell_type": "code",
   "execution_count": 65,
   "metadata": {},
   "outputs": [
    {
     "name": "stdout",
     "output_type": "stream",
     "text": [
      "1    183582\n",
      "2     74506\n",
      "0     41912\n",
      "Name: gender, dtype: int64\n"
     ]
    }
   ],
   "source": [
    "print(biketrip_df['gender'].value_counts())"
   ]
  },
  {
   "attachments": {},
   "cell_type": "markdown",
   "metadata": {},
   "source": [
    "### Задание 6.7"
   ]
  },
  {
   "cell_type": "code",
   "execution_count": 66,
   "metadata": {},
   "outputs": [
    {
     "name": "stdout",
     "output_type": "stream",
     "text": [
      "count    299831.000000\n",
      "mean       1695.665665\n",
      "std        1458.264055\n",
      "min          72.000000\n",
      "25%         387.000000\n",
      "50%         519.000000\n",
      "75%        3282.000000\n",
      "max        3705.000000\n",
      "Name: start station id, dtype: float64\n",
      "count    299831.000000\n",
      "mean       1684.624298\n",
      "std        1457.549589\n",
      "min          72.000000\n",
      "25%         387.000000\n",
      "50%         519.000000\n",
      "75%        3282.000000\n",
      "max        3705.000000\n",
      "Name: end station id, dtype: float64\n"
     ]
    }
   ],
   "source": [
    "print(biketrip_df['start station id'].describe())\n",
    "print(biketrip_df['end station id'].describe())\n"
   ]
  },
  {
   "cell_type": "code",
   "execution_count": 67,
   "metadata": {},
   "outputs": [
    {
     "name": "stdout",
     "output_type": "stream",
     "text": [
      "count    300000.000000\n",
      "mean       1979.364803\n",
      "std          11.920796\n",
      "min        1885.000000\n",
      "25%        1969.000000\n",
      "50%        1982.000000\n",
      "75%        1989.000000\n",
      "max        2002.000000\n",
      "Name: birth year, dtype: float64\n"
     ]
    }
   ],
   "source": [
    "print(biketrip_df['birth year'].describe())\n"
   ]
  },
  {
   "cell_type": "code",
   "execution_count": 68,
   "metadata": {},
   "outputs": [
    {
     "name": "stdout",
     "output_type": "stream",
     "text": [
      "Grand Army Plaza & Central Park S    1928\n",
      "Central Park S & 6 Ave               1909\n",
      "Pershing Square North                1873\n",
      "12 Ave & W 40 St                     1845\n",
      "West St & Chambers St                1835\n",
      "                                     ... \n",
      "NYCBS Depot - GOW                      15\n",
      "Franklin Ave & Empire Blvd             11\n",
      "Railroad Ave & Kay Ave                  9\n",
      "47 Ave & Skillman Ave                   7\n",
      "Eastern Pkwy & Washington Ave           6\n",
      "Name: start station name, Length: 759, dtype: int64\n",
      "West St & Chambers St          1963\n",
      "12 Ave & W 40 St               1909\n",
      "Pershing Square North          1850\n",
      "Central Park S & 6 Ave         1828\n",
      "E 17 St & Broadway             1804\n",
      "                               ... \n",
      "Exchange Place                    3\n",
      "Union St                          1\n",
      "Warren St                         1\n",
      "Montrose Ave & Bushwick Ave       1\n",
      "Liberty Light Rail                1\n",
      "Name: end station name, Length: 765, dtype: int64\n"
     ]
    }
   ],
   "source": [
    "print(biketrip_df['start station name'].value_counts())\n",
    "print(biketrip_df['end station name'].value_counts())"
   ]
  },
  {
   "attachments": {},
   "cell_type": "markdown",
   "metadata": {},
   "source": [
    "### Задание 6.8\n",
    "#### В наших данных присутствуют столбцы, которые дублируют информацию друг о друге: это столбцы с идентификатором и названием стартовой и конечной стоянки. Удалите признаки идентификаторов стоянок. Сколько столбцов осталось "
   ]
  },
  {
   "cell_type": "code",
   "execution_count": 69,
   "metadata": {},
   "outputs": [
    {
     "name": "stdout",
     "output_type": "stream",
     "text": [
      "<class 'pandas.core.frame.DataFrame'>\n",
      "RangeIndex: 300000 entries, 0 to 299999\n",
      "Data columns (total 12 columns):\n",
      " #   Column                   Non-Null Count   Dtype  \n",
      "---  ------                   --------------   -----  \n",
      " 0   starttime                300000 non-null  object \n",
      " 1   stoptime                 300000 non-null  object \n",
      " 2   start station name       299831 non-null  object \n",
      " 3   start station latitude   300000 non-null  float64\n",
      " 4   start station longitude  300000 non-null  float64\n",
      " 5   end station name         299831 non-null  object \n",
      " 6   end station latitude     300000 non-null  float64\n",
      " 7   end station longitude    300000 non-null  float64\n",
      " 8   bikeid                   300000 non-null  int64  \n",
      " 9   usertype                 300000 non-null  object \n",
      " 10  birth year               300000 non-null  int64  \n",
      " 11  gender                   300000 non-null  int64  \n",
      "dtypes: float64(4), int64(3), object(5)\n",
      "memory usage: 27.5+ MB\n",
      "None\n"
     ]
    }
   ],
   "source": [
    "biketrip_df.drop(['start station id', 'end station id'],axis=1, inplace=True)\n",
    "print(biketrip_df.info())"
   ]
  },
  {
   "attachments": {},
   "cell_type": "markdown",
   "metadata": {},
   "source": [
    "### Задание 6.9\n",
    "#### Замените признак birth year на более понятный признак возраста клиента age. Годом отсчёта возраста выберите 2018 год. Столбец birth year удалите из таблицы. Сколько поездок совершено клиентами старше 60 лет?"
   ]
  },
  {
   "cell_type": "code",
   "execution_count": 70,
   "metadata": {},
   "outputs": [
    {
     "name": "stdout",
     "output_type": "stream",
     "text": [
      "11837\n"
     ]
    }
   ],
   "source": [
    "biketrip_df['age'] = 2018 - biketrip_df['birth year']\n",
    "biketrip_df.drop(['birth year'], axis=1, inplace=True)\n",
    "print(biketrip_df[biketrip_df['age']>60].shape[0])"
   ]
  },
  {
   "attachments": {},
   "cell_type": "markdown",
   "metadata": {},
   "source": [
    "### Задание 6.10\n",
    "#### Создайте признак длительности поездки trip duration. Для этого вычислите интервал времени между временем окончания поездки (stoptime) и её началом (starttime). Сколько целых минут длилась поездка под индексом 3 в таблице?"
   ]
  },
  {
   "cell_type": "code",
   "execution_count": 76,
   "metadata": {},
   "outputs": [
    {
     "name": "stdout",
     "output_type": "stream",
     "text": [
      "0 days 00:07:16.837000\n"
     ]
    }
   ],
   "source": [
    "biketrip_df['starttime'] = pd.to_datetime(biketrip_df['starttime'])\n",
    "biketrip_df['stoptime'] = pd.to_datetime(biketrip_df['stoptime'])\n",
    "biketrip_df['trip duration'] = biketrip_df['stoptime'] - biketrip_df['starttime']\n",
    "print(biketrip_df.loc[3, 'trip duration'])"
   ]
  },
  {
   "attachments": {},
   "cell_type": "markdown",
   "metadata": {},
   "source": [
    "### Задание 6.11\n",
    "#### Создайте «признак-мигалку» weekend, который равен 1, если поездка начиналась в выходной день (суббота или воскресенье), и 0 — в противном случае. Выясните, сколько поездок начиналось в выходные."
   ]
  },
  {
   "cell_type": "code",
   "execution_count": 78,
   "metadata": {},
   "outputs": [
    {
     "name": "stdout",
     "output_type": "stream",
     "text": [
      "115135\n"
     ]
    }
   ],
   "source": [
    "weekday = biketrip_df['starttime'].dt.dayofweek\n",
    "biketrip_df['weekend'] = weekday.apply(lambda x: 1 if x == 5 or x == 6 else 0)\n",
    "print(biketrip_df['weekend'].sum())"
   ]
  },
  {
   "attachments": {},
   "cell_type": "markdown",
   "metadata": {},
   "source": [
    "### Задание 6.12\n",
    "#### Создайте признак времени суток поездки time_of_day. Время суток будем определять из часа начала поездки. Условимся, что:\n",
    "- поездка совершается ночью (night), если её час приходится на интервал от 0 (включительно) до 6 (включительно) часов;\n",
    "- поездка совершается утром (morning), если её час приходится на интервал от 6 (не включительно) до 12 (включительно) часов;\n",
    "- поездка совершается днём (day), если её час приходится на интервал от 12 (не включительно) до 18 (включительно) часов;\n",
    "- поездка совершается вечером (evening), если её час приходится на интервал от 18 (не включительно) до 23 часов (включительно).\n",
    "#### Во сколько раз количество поездок, совершённых днём, больше, чем количество поездок, совёршенных ночью, за представленный в данных период времени? Ответ округлите до целых.\n"
   ]
  },
  {
   "cell_type": "code",
   "execution_count": 79,
   "metadata": {},
   "outputs": [
    {
     "name": "stdout",
     "output_type": "stream",
     "text": [
      "9\n"
     ]
    }
   ],
   "source": [
    "def get_time_of_day(time):\n",
    "    if 0 <= time <= 6:\n",
    "        return 'night'\n",
    "    elif 6 < time <= 12:\n",
    "        return 'morning'\n",
    "    elif 12 < time <= 18:\n",
    "        return 'day'\n",
    "    elif 18 < time <= 23:\n",
    "        return 'evening'\n",
    "    else:\n",
    "        return 'else'\n",
    "\n",
    "biketrip_df['time_of_day'] = biketrip_df['starttime'].dt.hour.apply(get_time_of_day)\n",
    "day = biketrip_df[biketrip_df['time_of_day'] == 'day'].shape[0]\n",
    "night = biketrip_df[biketrip_df['time_of_day'] == 'night'].shape[0]\n",
    "print(round(day/night))\n",
    "    "
   ]
  }
 ],
 "metadata": {
  "kernelspec": {
   "display_name": "Python 3",
   "language": "python",
   "name": "python3"
  },
  "language_info": {
   "codemirror_mode": {
    "name": "ipython",
    "version": 3
   },
   "file_extension": ".py",
   "mimetype": "text/x-python",
   "name": "python",
   "nbconvert_exporter": "python",
   "pygments_lexer": "ipython3",
   "version": "3.9.10 (tags/v3.9.10:f2f3f53, Jan 17 2022, 15:14:21) [MSC v.1929 64 bit (AMD64)]"
  },
  "orig_nbformat": 4,
  "vscode": {
   "interpreter": {
    "hash": "94900f6f90627b6c6383979c2732c570d13f9b98c5876e388cdb0864460ecd8e"
   }
  }
 },
 "nbformat": 4,
 "nbformat_minor": 2
}
