{
 "cells": [
  {
   "cell_type": "code",
   "execution_count": 3,
   "metadata": {},
   "outputs": [
    {
     "name": "stdout",
     "output_type": "stream",
     "text": [
      "   index      Suburb           Address  Rooms Type      Price Method SellerG  \\\n",
      "0      0  Abbotsford      85 Turner St      2    h  1480000.0      S  Biggin   \n",
      "1      1  Abbotsford   25 Bloomburg St      2    h  1035000.0      S  Biggin   \n",
      "2      2  Abbotsford      5 Charles St      3    h  1465000.0     SP  Biggin   \n",
      "3      3  Abbotsford  40 Federation La      3    h   850000.0     PI  Biggin   \n",
      "4      4  Abbotsford       55a Park St      4    h  1600000.0     VB  Nelson   \n",
      "\n",
      "        Date  Distance  ...  Car  Landsize  BuildingArea  YearBuilt  \\\n",
      "0  3/12/2016       2.5  ...    1     202.0         126.0       1970   \n",
      "1  4/02/2016       2.5  ...    0     156.0          79.0       1900   \n",
      "2  4/03/2017       2.5  ...    0     134.0         150.0       1900   \n",
      "3  4/03/2017       2.5  ...    1      94.0         126.0       1970   \n",
      "4  4/06/2016       2.5  ...    2     120.0         142.0       2014   \n",
      "\n",
      "   CouncilArea  Lattitude  Longtitude             Regionname  Propertycount  \\\n",
      "0        Yarra   -37.7996    144.9984  Northern Metropolitan           4019   \n",
      "1        Yarra   -37.8079    144.9934  Northern Metropolitan           4019   \n",
      "2        Yarra   -37.8093    144.9944  Northern Metropolitan           4019   \n",
      "3        Yarra   -37.7969    144.9969  Northern Metropolitan           4019   \n",
      "4        Yarra   -37.8072    144.9941  Northern Metropolitan           4019   \n",
      "\n",
      "          Coordinates  \n",
      "0  -37.7996, 144.9984  \n",
      "1  -37.8079, 144.9934  \n",
      "2  -37.8093, 144.9944  \n",
      "3  -37.7969, 144.9969  \n",
      "4  -37.8072, 144.9941  \n",
      "\n",
      "[5 rows x 23 columns]\n"
     ]
    }
   ],
   "source": [
    "import pandas as pd\n",
    "melb_data = pd.read_csv('D:\\курс по data science\\IDE\\python_11\\data\\melb_data_ps.csv', sep=',')\n",
    "print(melb_data.head())"
   ]
  },
  {
   "attachments": {},
   "cell_type": "markdown",
   "metadata": {},
   "source": [
    "## 2. Базовые операции со столбцами в DataFrame"
   ]
  },
  {
   "attachments": {},
   "cell_type": "markdown",
   "metadata": {},
   "source": [
    "### Создание копии таблицы "
   ]
  },
  {
   "cell_type": "code",
   "execution_count": 4,
   "metadata": {},
   "outputs": [
    {
     "name": "stdout",
     "output_type": "stream",
     "text": [
      "   index      Suburb           Address  Rooms Type      Price Method SellerG  \\\n",
      "0      0  Abbotsford      85 Turner St      2    h  1480000.0      S  Biggin   \n",
      "1      1  Abbotsford   25 Bloomburg St      2    h  1035000.0      S  Biggin   \n",
      "2      2  Abbotsford      5 Charles St      3    h  1465000.0     SP  Biggin   \n",
      "3      3  Abbotsford  40 Federation La      3    h   850000.0     PI  Biggin   \n",
      "4      4  Abbotsford       55a Park St      4    h  1600000.0     VB  Nelson   \n",
      "\n",
      "        Date  Distance  ...  Car  Landsize  BuildingArea  YearBuilt  \\\n",
      "0  3/12/2016       2.5  ...    1     202.0         126.0       1970   \n",
      "1  4/02/2016       2.5  ...    0     156.0          79.0       1900   \n",
      "2  4/03/2017       2.5  ...    0     134.0         150.0       1900   \n",
      "3  4/03/2017       2.5  ...    1      94.0         126.0       1970   \n",
      "4  4/06/2016       2.5  ...    2     120.0         142.0       2014   \n",
      "\n",
      "   CouncilArea  Lattitude  Longtitude             Regionname  Propertycount  \\\n",
      "0        Yarra   -37.7996    144.9984  Northern Metropolitan           4019   \n",
      "1        Yarra   -37.8079    144.9934  Northern Metropolitan           4019   \n",
      "2        Yarra   -37.8093    144.9944  Northern Metropolitan           4019   \n",
      "3        Yarra   -37.7969    144.9969  Northern Metropolitan           4019   \n",
      "4        Yarra   -37.8072    144.9941  Northern Metropolitan           4019   \n",
      "\n",
      "          Coordinates  \n",
      "0  -37.7996, 144.9984  \n",
      "1  -37.8079, 144.9934  \n",
      "2  -37.8093, 144.9944  \n",
      "3  -37.7969, 144.9969  \n",
      "4  -37.8072, 144.9941  \n",
      "\n",
      "[5 rows x 23 columns]\n"
     ]
    }
   ],
   "source": [
    "melb_df = melb_data.copy()\n",
    "print(melb_df.head())"
   ]
  },
  {
   "attachments": {},
   "cell_type": "markdown",
   "metadata": {},
   "source": [
    "### Удаление столбцов из таблицы"
   ]
  },
  {
   "cell_type": "code",
   "execution_count": 5,
   "metadata": {},
   "outputs": [
    {
     "name": "stdout",
     "output_type": "stream",
     "text": [
      "       Suburb           Address  Rooms Type      Price Method SellerG  \\\n",
      "0  Abbotsford      85 Turner St      2    h  1480000.0      S  Biggin   \n",
      "1  Abbotsford   25 Bloomburg St      2    h  1035000.0      S  Biggin   \n",
      "2  Abbotsford      5 Charles St      3    h  1465000.0     SP  Biggin   \n",
      "3  Abbotsford  40 Federation La      3    h   850000.0     PI  Biggin   \n",
      "4  Abbotsford       55a Park St      4    h  1600000.0     VB  Nelson   \n",
      "\n",
      "        Date  Distance  Postcode  ...  Bathroom  Car  Landsize  BuildingArea  \\\n",
      "0  3/12/2016       2.5      3067  ...         1    1     202.0         126.0   \n",
      "1  4/02/2016       2.5      3067  ...         1    0     156.0          79.0   \n",
      "2  4/03/2017       2.5      3067  ...         2    0     134.0         150.0   \n",
      "3  4/03/2017       2.5      3067  ...         2    1      94.0         126.0   \n",
      "4  4/06/2016       2.5      3067  ...         1    2     120.0         142.0   \n",
      "\n",
      "   YearBuilt  CouncilArea Lattitude  Longtitude             Regionname  \\\n",
      "0       1970        Yarra  -37.7996    144.9984  Northern Metropolitan   \n",
      "1       1900        Yarra  -37.8079    144.9934  Northern Metropolitan   \n",
      "2       1900        Yarra  -37.8093    144.9944  Northern Metropolitan   \n",
      "3       1970        Yarra  -37.7969    144.9969  Northern Metropolitan   \n",
      "4       2014        Yarra  -37.8072    144.9941  Northern Metropolitan   \n",
      "\n",
      "  Propertycount  \n",
      "0          4019  \n",
      "1          4019  \n",
      "2          4019  \n",
      "3          4019  \n",
      "4          4019  \n",
      "\n",
      "[5 rows x 21 columns]\n"
     ]
    }
   ],
   "source": [
    "melb_df.drop(['index', 'Coordinates'], axis=1, inplace=True)\n",
    "print(melb_df.head())"
   ]
  },
  {
   "attachments": {},
   "cell_type": "markdown",
   "metadata": {},
   "source": [
    "### Математические операции со столбцами"
   ]
  },
  {
   "attachments": {},
   "cell_type": "markdown",
   "metadata": {},
   "source": [
    "#### Общее количество комнат в здании\n"
   ]
  },
  {
   "cell_type": "code",
   "execution_count": 6,
   "metadata": {},
   "outputs": [
    {
     "name": "stdout",
     "output_type": "stream",
     "text": [
      "0         5\n",
      "1         5\n",
      "2         8\n",
      "3         8\n",
      "4         8\n",
      "         ..\n",
      "13575    10\n",
      "13576     8\n",
      "13577     8\n",
      "13578     9\n",
      "13579     9\n",
      "Length: 13580, dtype: int64\n"
     ]
    }
   ],
   "source": [
    "total_rooms = melb_df['Rooms'] + melb_df['Bedroom'] + melb_df['Bathroom']\n",
    "print(total_rooms)"
   ]
  },
  {
   "attachments": {},
   "cell_type": "markdown",
   "metadata": {},
   "source": [
    "#### Средняя площадь одной комнаты для каждого объекта\n"
   ]
  },
  {
   "cell_type": "code",
   "execution_count": 7,
   "metadata": {},
   "outputs": [
    {
     "name": "stdout",
     "output_type": "stream",
     "text": [
      "0        25.200000\n",
      "1        15.800000\n",
      "2        18.750000\n",
      "3        15.750000\n",
      "4        17.750000\n",
      "           ...    \n",
      "13575    12.600000\n",
      "13576    16.625000\n",
      "13577    15.750000\n",
      "13578    17.444444\n",
      "13579    12.444444\n",
      "Name: MeanRoomsSquare, Length: 13580, dtype: float64\n"
     ]
    }
   ],
   "source": [
    "melb_df['MeanRoomsSquare'] = melb_df['BuildingArea']/total_rooms\n",
    "print(melb_df['MeanRoomsSquare'])"
   ]
  },
  {
   "attachments": {},
   "cell_type": "markdown",
   "metadata": {},
   "source": [
    "#### Коэффициент соотношения площади здания и площади участка"
   ]
  },
  {
   "cell_type": "code",
   "execution_count": 8,
   "metadata": {},
   "outputs": [
    {
     "name": "stdout",
     "output_type": "stream",
     "text": [
      "0       -0.231707\n",
      "1       -0.327660\n",
      "2        0.056338\n",
      "3        0.145455\n",
      "4        0.083969\n",
      "           ...   \n",
      "13575   -0.676093\n",
      "13576   -0.429185\n",
      "13577   -0.551601\n",
      "13578   -0.693060\n",
      "13579   -0.527426\n",
      "Name: AreaRatio, Length: 13580, dtype: float64\n"
     ]
    }
   ],
   "source": [
    "diff_area = melb_df['BuildingArea'] - melb_df['Landsize']\n",
    "sum_area = melb_df['BuildingArea'] + melb_df['Landsize']\n",
    "melb_df['AreaRatio'] = diff_area/sum_area\n",
    "print(melb_df['AreaRatio'])"
   ]
  },
  {
   "attachments": {},
   "cell_type": "markdown",
   "metadata": {},
   "source": [
    "#### Квадрат цены объекта недвижимости"
   ]
  },
  {
   "cell_type": "code",
   "execution_count": 9,
   "metadata": {},
   "outputs": [
    {
     "name": "stdout",
     "output_type": "stream",
     "text": [
      "0        2.190400e+12\n",
      "1        1.071225e+12\n",
      "2        2.146225e+12\n",
      "3        7.225000e+11\n",
      "4        2.560000e+12\n",
      "             ...     \n",
      "13575    1.550025e+12\n",
      "13576    1.062961e+12\n",
      "13577    1.368900e+12\n",
      "13578    6.250000e+12\n",
      "13579    1.651225e+12\n",
      "Name: Price, Length: 13580, dtype: float64\n"
     ]
    }
   ],
   "source": [
    "price_square = melb_df['Price']**2\n",
    "print(price_square)"
   ]
  },
  {
   "attachments": {},
   "cell_type": "markdown",
   "metadata": {},
   "source": [
    "## 3. Работа с датами в DataFrame"
   ]
  },
  {
   "attachments": {},
   "cell_type": "markdown",
   "metadata": {},
   "source": [
    "### Формат datatime\n"
   ]
  },
  {
   "cell_type": "code",
   "execution_count": 10,
   "metadata": {},
   "outputs": [
    {
     "name": "stdout",
     "output_type": "stream",
     "text": [
      "0         3/12/2016\n",
      "1         4/02/2016\n",
      "2         4/03/2017\n",
      "3         4/03/2017\n",
      "4         4/06/2016\n",
      "            ...    \n",
      "13575    26/08/2017\n",
      "13576    26/08/2017\n",
      "13577    26/08/2017\n",
      "13578    26/08/2017\n",
      "13579    26/08/2017\n",
      "Name: Date, Length: 13580, dtype: object\n"
     ]
    }
   ],
   "source": [
    "print(melb_df['Date'])"
   ]
  },
  {
   "cell_type": "code",
   "execution_count": 11,
   "metadata": {},
   "outputs": [
    {
     "name": "stdout",
     "output_type": "stream",
     "text": [
      "0         3/12/2016\n",
      "1         4/02/2016\n",
      "2         4/03/2017\n",
      "3         4/03/2017\n",
      "4         4/06/2016\n",
      "            ...    \n",
      "13575    26/08/2017\n",
      "13576    26/08/2017\n",
      "13577    26/08/2017\n",
      "13578    26/08/2017\n",
      "13579    26/08/2017\n",
      "Name: Date, Length: 13580, dtype: object\n"
     ]
    }
   ],
   "source": [
    "melb_data['Date'] = pd.to_datetime(melb_df['Date'], dayfirst=True)\n",
    "print(melb_df['Date'])"
   ]
  },
  {
   "cell_type": "code",
   "execution_count": 12,
   "metadata": {},
   "outputs": [
    {
     "name": "stdout",
     "output_type": "stream",
     "text": [
      "0       2016-12-03\n",
      "1       2016-02-04\n",
      "2       2017-03-04\n",
      "3       2017-03-04\n",
      "4       2016-06-04\n",
      "           ...    \n",
      "13575   2017-08-26\n",
      "13576   2017-08-26\n",
      "13577   2017-08-26\n",
      "13578   2017-08-26\n",
      "13579   2017-08-26\n",
      "Name: Date, Length: 13580, dtype: datetime64[ns]\n"
     ]
    }
   ],
   "source": [
    "date = pd.to_datetime(melb_df['Date'], dayfirst=True)\n",
    "print(date)"
   ]
  },
  {
   "attachments": {},
   "cell_type": "markdown",
   "metadata": {},
   "source": [
    "### Выделение атрибутов datetime\n"
   ]
  },
  {
   "attachments": {},
   "cell_type": "markdown",
   "metadata": {},
   "source": [
    "#### За какой интервал времени (в годах) представлены наши данные, а также на какой год приходится наибольшее число продаж?"
   ]
  },
  {
   "cell_type": "code",
   "execution_count": 27,
   "metadata": {},
   "outputs": [
    {
     "name": "stdout",
     "output_type": "stream",
     "text": [
      "0        2016\n",
      "1        2016\n",
      "2        2017\n",
      "3        2017\n",
      "4        2016\n",
      "         ... \n",
      "13575    2017\n",
      "13576    2017\n",
      "13577    2017\n",
      "13578    2017\n",
      "13579    2017\n",
      "Name: Date, Length: 13580, dtype: int64\n"
     ]
    }
   ],
   "source": [
    "years_sold = date.dt.year\n",
    "print(years_sold)"
   ]
  },
  {
   "cell_type": "code",
   "execution_count": 29,
   "metadata": {},
   "outputs": [
    {
     "name": "stdout",
     "output_type": "stream",
     "text": [
      "Min years sold: 2016\n",
      "Max years sold: 2017\n",
      "Mode years sold: 2017\n"
     ]
    }
   ],
   "source": [
    "print('Min years sold:', years_sold.min())\n",
    "print('Max years sold:', years_sold.max())\n",
    "print('Mode years sold:', years_sold.mode()[0])"
   ]
  },
  {
   "attachments": {},
   "cell_type": "markdown",
   "metadata": {},
   "source": [
    "#### На какие месяцы приходится пик продаж объектов недвижимости? Относительная частота продаж для каждого месяца от общего количества продаж"
   ]
  },
  {
   "cell_type": "code",
   "execution_count": 32,
   "metadata": {},
   "outputs": [
    {
     "data": {
      "text/plain": [
       "5     0.149411\n",
       "7     0.145950\n",
       "9     0.135862\n",
       "6     0.134757\n",
       "8     0.114138\n",
       "11    0.082032\n",
       "4     0.069882\n",
       "3     0.049926\n",
       "12    0.044698\n",
       "10    0.040574\n",
       "2     0.032622\n",
       "1     0.000147\n",
       "Name: MonthSale, dtype: float64"
      ]
     },
     "execution_count": 32,
     "metadata": {},
     "output_type": "execute_result"
    }
   ],
   "source": [
    "melb_df['MonthSale'] = date.dt.month\n",
    "melb_df['MonthSale'].value_counts(normalize=True)\n"
   ]
  },
  {
   "attachments": {},
   "cell_type": "markdown",
   "metadata": {},
   "source": [
    "### Работа с интервалами"
   ]
  },
  {
   "attachments": {},
   "cell_type": "markdown",
   "metadata": {},
   "source": [
    "#### Сколько дней прошло с 1 января 2016 года до момента продажи объекта?"
   ]
  },
  {
   "cell_type": "code",
   "execution_count": 33,
   "metadata": {},
   "outputs": [
    {
     "name": "stdout",
     "output_type": "stream",
     "text": [
      "0       337 days\n",
      "1        34 days\n",
      "2       428 days\n",
      "3       428 days\n",
      "4       155 days\n",
      "          ...   \n",
      "13575   603 days\n",
      "13576   603 days\n",
      "13577   603 days\n",
      "13578   603 days\n",
      "13579   603 days\n",
      "Name: Date, Length: 13580, dtype: timedelta64[ns]\n"
     ]
    }
   ],
   "source": [
    "delta_days = date - pd.to_datetime('2016-01-01')\n",
    "print(delta_days)"
   ]
  },
  {
   "cell_type": "code",
   "execution_count": 34,
   "metadata": {},
   "outputs": [
    {
     "name": "stdout",
     "output_type": "stream",
     "text": [
      "0        337\n",
      "1         34\n",
      "2        428\n",
      "3        428\n",
      "4        155\n",
      "        ... \n",
      "13575    603\n",
      "13576    603\n",
      "13577    603\n",
      "13578    603\n",
      "13579    603\n",
      "Name: Date, Length: 13580, dtype: int64\n"
     ]
    }
   ],
   "source": [
    "print(delta_days.dt.days)"
   ]
  },
  {
   "attachments": {},
   "cell_type": "markdown",
   "metadata": {},
   "source": [
    "#### признак возраста объекта недвижимости в годах на момент продажи"
   ]
  },
  {
   "cell_type": "code",
   "execution_count": 35,
   "metadata": {},
   "outputs": [
    {
     "name": "stdout",
     "output_type": "stream",
     "text": [
      "0         46\n",
      "1        116\n",
      "2        117\n",
      "3         47\n",
      "4          2\n",
      "        ... \n",
      "13575     36\n",
      "13576     22\n",
      "13577     20\n",
      "13578     97\n",
      "13579     97\n",
      "Name: AgeBuilding, Length: 13580, dtype: int64\n"
     ]
    }
   ],
   "source": [
    "melb_df['AgeBuilding'] = date.dt.year - melb_df['YearBuilt']\n",
    "print(melb_df['AgeBuilding'])"
   ]
  },
  {
   "attachments": {},
   "cell_type": "markdown",
   "metadata": {},
   "source": [
    "##### столбец AgeBuilding дублирует информацию столбца YearBuilt, так как, зная год постройки здания, мы автоматически знаем его возраст. Необходимо убрать один столбец"
   ]
  },
  {
   "cell_type": "code",
   "execution_count": null,
   "metadata": {},
   "outputs": [],
   "source": []
  }
 ],
 "metadata": {
  "kernelspec": {
   "display_name": "Python 3",
   "language": "python",
   "name": "python3"
  },
  "language_info": {
   "codemirror_mode": {
    "name": "ipython",
    "version": 3
   },
   "file_extension": ".py",
   "mimetype": "text/x-python",
   "name": "python",
   "nbconvert_exporter": "python",
   "pygments_lexer": "ipython3",
   "version": "3.9.10 (tags/v3.9.10:f2f3f53, Jan 17 2022, 15:14:21) [MSC v.1929 64 bit (AMD64)]"
  },
  "orig_nbformat": 4,
  "vscode": {
   "interpreter": {
    "hash": "94900f6f90627b6c6383979c2732c570d13f9b98c5876e388cdb0864460ecd8e"
   }
  }
 },
 "nbformat": 4,
 "nbformat_minor": 2
}
