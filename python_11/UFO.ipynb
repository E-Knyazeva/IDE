{
 "cells": [
  {
   "attachments": {},
   "cell_type": "markdown",
   "metadata": {},
   "source": [
    "# Отчет очевидцев НЛО в США за период с 1930 по 2020 год\n",
    "### В данных есть признаки:\n",
    "- \"City\" — город, где был замечен НЛО;\n",
    "- \"Colors Reported\" — цвет объекта;\n",
    "- \"Shape Reported\" — форма объекта;\n",
    "- \"State\" — обозначение штата;\n",
    "- \"Time\" — время, когда был замечен НЛО (данные отсортированы от старых наблюдений к новым). "
   ]
  },
  {
   "cell_type": "code",
   "execution_count": 25,
   "metadata": {},
   "outputs": [
    {
     "name": "stdout",
     "output_type": "stream",
     "text": [
      "                   City Colors Reported Shape Reported State              Time\n",
      "0                Ithaca             NaN       TRIANGLE    NY    6/1/1930 22:00\n",
      "1           Willingboro             NaN          OTHER    NJ   6/30/1930 20:00\n",
      "2               Holyoke             NaN           OVAL    CO   2/15/1931 14:00\n",
      "3               Abilene             NaN           DISK    KS    6/1/1931 13:00\n",
      "4  New York Worlds Fair             NaN          LIGHT    NY   4/18/1933 19:00\n",
      "5           Valley City             NaN           DISK    ND   9/15/1934 15:30\n",
      "6           Crater Lake             NaN         CIRCLE    CA    6/15/1935 0:00\n",
      "7                  Alma             NaN           DISK    MI    7/15/1936 0:00\n",
      "8               Eklutna             NaN          CIGAR    AK  10/15/1936 17:00\n",
      "9               Hubbard             NaN       CYLINDER    OR    6/15/1937 0:00\n"
     ]
    }
   ],
   "source": [
    "import pandas as pd\n",
    "ufo_data = pd.read_csv('D:\\\\курс по data science\\\\IDE\\python_11\\\\data\\\\ufo1.csv', sep=',')\n",
    "print(ufo_data.head(10))"
   ]
  },
  {
   "attachments": {},
   "cell_type": "markdown",
   "metadata": {},
   "source": [
    "### В каком году отмечается наибольшее количество случаев наблюдения НЛО в США?"
   ]
  },
  {
   "cell_type": "code",
   "execution_count": 26,
   "metadata": {},
   "outputs": [
    {
     "name": "stdout",
     "output_type": "stream",
     "text": [
      "0       1930-01-06 22:00:00\n",
      "1       1930-06-30 20:00:00\n",
      "2       1931-02-15 14:00:00\n",
      "3       1931-01-06 13:00:00\n",
      "4       1933-04-18 19:00:00\n",
      "                ...        \n",
      "18236   2000-12-31 23:00:00\n",
      "18237   2000-12-31 23:00:00\n",
      "18238   2000-12-31 23:45:00\n",
      "18239   2000-12-31 23:45:00\n",
      "18240   2000-12-31 23:59:00\n",
      "Name: Time, Length: 18241, dtype: datetime64[ns]\n"
     ]
    }
   ],
   "source": [
    "ufo_data['Time'] = pd.to_datetime(ufo_data['Time'], dayfirst=True)\n",
    "print(ufo_data['Time'])"
   ]
  },
  {
   "cell_type": "code",
   "execution_count": 27,
   "metadata": {},
   "outputs": [
    {
     "name": "stdout",
     "output_type": "stream",
     "text": [
      "1999    2774\n",
      "2000    2635\n",
      "1998    1743\n",
      "1995    1344\n",
      "1997    1237\n",
      "        ... \n",
      "1936       2\n",
      "1930       2\n",
      "1935       1\n",
      "1934       1\n",
      "1933       1\n",
      "Name: Time, Length: 68, dtype: int64\n"
     ]
    }
   ],
   "source": [
    "years_ufo = ufo_data['Time'].dt.year\n",
    "print(years_ufo.value_counts())"
   ]
  },
  {
   "attachments": {},
   "cell_type": "markdown",
   "metadata": {},
   "source": [
    "### Найдите средний интервал времени (в днях) между двумя последовательными случаями наблюдения НЛО в штате Невада (NV)."
   ]
  },
  {
   "cell_type": "code",
   "execution_count": 34,
   "metadata": {},
   "outputs": [
    {
     "name": "stdout",
     "output_type": "stream",
     "text": [
      "0        1930-01-06\n",
      "1        1930-06-30\n",
      "2        1931-02-15\n",
      "3        1931-01-06\n",
      "4        1933-04-18\n",
      "            ...    \n",
      "18236    2000-12-31\n",
      "18237    2000-12-31\n",
      "18238    2000-12-31\n",
      "18239    2000-12-31\n",
      "18240    2000-12-31\n",
      "Name: Date, Length: 18241, dtype: object\n",
      "68.72084805653711\n"
     ]
    }
   ],
   "source": [
    "ufo_data['Date'] = ufo_data['Time'].dt.date\n",
    "print(ufo_data['Date'])\n",
    "mean_time_interval = ufo_data[ufo_data['State'] == 'NV']['Date'].diff().dt.days.mean()\n",
    "print(mean_time_interval)\n"
   ]
  }
 ],
 "metadata": {
  "kernelspec": {
   "display_name": "Python 3",
   "language": "python",
   "name": "python3"
  },
  "language_info": {
   "codemirror_mode": {
    "name": "ipython",
    "version": 3
   },
   "file_extension": ".py",
   "mimetype": "text/x-python",
   "name": "python",
   "nbconvert_exporter": "python",
   "pygments_lexer": "ipython3",
   "version": "3.9.10 (tags/v3.9.10:f2f3f53, Jan 17 2022, 15:14:21) [MSC v.1929 64 bit (AMD64)]"
  },
  "orig_nbformat": 4,
  "vscode": {
   "interpreter": {
    "hash": "94900f6f90627b6c6383979c2732c570d13f9b98c5876e388cdb0864460ecd8e"
   }
  }
 },
 "nbformat": 4,
 "nbformat_minor": 2
}
