{
 "cells": [
  {
   "cell_type": "markdown",
   "metadata": {},
   "source": [
    "# 1. Знакомство с данными"
   ]
  },
  {
   "cell_type": "markdown",
   "metadata": {},
   "source": [
    "## Импорт библиотек, модулей необходимых для решения задачи:"
   ]
  },
  {
   "cell_type": "code",
   "execution_count": 1,
   "metadata": {},
   "outputs": [],
   "source": [
    "import wget \n",
    "import numpy as np # линейная алгебра\n",
    "import pandas as pd # для анализа и предобработки данных\n",
    "import matplotlib\n",
    "import matplotlib.pyplot as plt # для визуализации\n",
    "import seaborn as sns # для визуализации\n",
    "import plotly.express as px # для визуализации\n",
    "from sklearn import linear_model # линейные модели\n",
    "from sklearn import metrics # метрики\n",
    "import statistics\n",
    "from collections import Counter\n",
    "from functools import reduce\n",
    "%matplotlib inline\n",
    "plt.style.use('seaborn-v0_8')\n",
    "\n",
    "\n",
    "from functools import reduce"
   ]
  },
  {
   "cell_type": "markdown",
   "metadata": {},
   "source": [
    "## Импорт данных"
   ]
  },
  {
   "cell_type": "code",
   "execution_count": 2,
   "metadata": {},
   "outputs": [],
   "source": [
    "# wget.download('https://github.com/rajathpi/assignment/raw/main/DAT465/nafld1.csv', 'D:\\курс по data science\\IDE\\diplom_project\\data_1')\n",
    "# wget.download('https://github.com/rajathpi/assignment/raw/main/DAT465/nafld2.csv', 'D:\\курс по data science\\IDE\\diplom_project\\data_1')\n",
    "# wget.download('https://github.com/rajathpi/assignment/raw/main/DAT465/nafld3.csv', 'D:\\курс по data science\\IDE\\diplom_project\\data_1')"
   ]
  },
  {
   "cell_type": "markdown",
   "metadata": {},
   "source": [
    "## Загрузка данных и знакомство с ними"
   ]
  },
  {
   "cell_type": "markdown",
   "metadata": {},
   "source": [
    "### Таблица № 1"
   ]
  },
  {
   "cell_type": "code",
   "execution_count": 3,
   "metadata": {},
   "outputs": [
    {
     "data": {
      "text/html": [
       "<div>\n",
       "<style scoped>\n",
       "    .dataframe tbody tr th:only-of-type {\n",
       "        vertical-align: middle;\n",
       "    }\n",
       "\n",
       "    .dataframe tbody tr th {\n",
       "        vertical-align: top;\n",
       "    }\n",
       "\n",
       "    .dataframe thead th {\n",
       "        text-align: right;\n",
       "    }\n",
       "</style>\n",
       "<table border=\"1\" class=\"dataframe\">\n",
       "  <thead>\n",
       "    <tr style=\"text-align: right;\">\n",
       "      <th></th>\n",
       "      <th>Unnamed: 0</th>\n",
       "      <th>id</th>\n",
       "      <th>age</th>\n",
       "      <th>male</th>\n",
       "      <th>weight</th>\n",
       "      <th>height</th>\n",
       "      <th>bmi</th>\n",
       "      <th>case.id</th>\n",
       "      <th>futime</th>\n",
       "      <th>status</th>\n",
       "    </tr>\n",
       "  </thead>\n",
       "  <tbody>\n",
       "    <tr>\n",
       "      <th>0</th>\n",
       "      <td>3631</td>\n",
       "      <td>1</td>\n",
       "      <td>57</td>\n",
       "      <td>0</td>\n",
       "      <td>60.0</td>\n",
       "      <td>163.0</td>\n",
       "      <td>22.690939</td>\n",
       "      <td>10630.0</td>\n",
       "      <td>6261</td>\n",
       "      <td>0</td>\n",
       "    </tr>\n",
       "    <tr>\n",
       "      <th>1</th>\n",
       "      <td>8458</td>\n",
       "      <td>2</td>\n",
       "      <td>67</td>\n",
       "      <td>0</td>\n",
       "      <td>70.4</td>\n",
       "      <td>168.0</td>\n",
       "      <td>24.884028</td>\n",
       "      <td>14817.0</td>\n",
       "      <td>624</td>\n",
       "      <td>0</td>\n",
       "    </tr>\n",
       "    <tr>\n",
       "      <th>2</th>\n",
       "      <td>6298</td>\n",
       "      <td>3</td>\n",
       "      <td>53</td>\n",
       "      <td>1</td>\n",
       "      <td>105.8</td>\n",
       "      <td>186.0</td>\n",
       "      <td>30.453537</td>\n",
       "      <td>3.0</td>\n",
       "      <td>1783</td>\n",
       "      <td>0</td>\n",
       "    </tr>\n",
       "    <tr>\n",
       "      <th>3</th>\n",
       "      <td>15398</td>\n",
       "      <td>4</td>\n",
       "      <td>56</td>\n",
       "      <td>1</td>\n",
       "      <td>109.3</td>\n",
       "      <td>170.0</td>\n",
       "      <td>37.830100</td>\n",
       "      <td>6628.0</td>\n",
       "      <td>3143</td>\n",
       "      <td>0</td>\n",
       "    </tr>\n",
       "    <tr>\n",
       "      <th>4</th>\n",
       "      <td>13261</td>\n",
       "      <td>5</td>\n",
       "      <td>68</td>\n",
       "      <td>1</td>\n",
       "      <td>NaN</td>\n",
       "      <td>NaN</td>\n",
       "      <td>NaN</td>\n",
       "      <td>1871.0</td>\n",
       "      <td>1836</td>\n",
       "      <td>1</td>\n",
       "    </tr>\n",
       "  </tbody>\n",
       "</table>\n",
       "</div>"
      ],
      "text/plain": [
       "   Unnamed: 0  id  age  male  weight  height        bmi  case.id  futime  \\\n",
       "0        3631   1   57     0    60.0   163.0  22.690939  10630.0    6261   \n",
       "1        8458   2   67     0    70.4   168.0  24.884028  14817.0     624   \n",
       "2        6298   3   53     1   105.8   186.0  30.453537      3.0    1783   \n",
       "3       15398   4   56     1   109.3   170.0  37.830100   6628.0    3143   \n",
       "4       13261   5   68     1     NaN     NaN        NaN   1871.0    1836   \n",
       "\n",
       "   status  \n",
       "0       0  \n",
       "1       0  \n",
       "2       0  \n",
       "3       0  \n",
       "4       1  "
      ]
     },
     "metadata": {},
     "output_type": "display_data"
    },
    {
     "name": "stdout",
     "output_type": "stream",
     "text": [
      "<class 'pandas.core.frame.DataFrame'>\n",
      "RangeIndex: 17549 entries, 0 to 17548\n",
      "Data columns (total 10 columns):\n",
      " #   Column      Non-Null Count  Dtype  \n",
      "---  ------      --------------  -----  \n",
      " 0   Unnamed: 0  17549 non-null  int64  \n",
      " 1   id          17549 non-null  int64  \n",
      " 2   age         17549 non-null  int64  \n",
      " 3   male        17549 non-null  int64  \n",
      " 4   weight      12763 non-null  float64\n",
      " 5   height      14381 non-null  float64\n",
      " 6   bmi         12588 non-null  float64\n",
      " 7   case.id     17518 non-null  float64\n",
      " 8   futime      17549 non-null  int64  \n",
      " 9   status      17549 non-null  int64  \n",
      "dtypes: float64(4), int64(6)\n",
      "memory usage: 1.3 MB\n"
     ]
    },
    {
     "data": {
      "text/plain": [
       "None"
      ]
     },
     "metadata": {},
     "output_type": "display_data"
    }
   ],
   "source": [
    "nafld_1 = pd.read_csv('D:\\курс по data science\\IDE\\diplom_project\\data_1\\\\nafld1.csv')\n",
    "display(nafld_1.head())\n",
    "display(nafld_1.info()) # общая иинформация о датасете"
   ]
  },
  {
   "cell_type": "markdown",
   "metadata": {},
   "source": [
    "Таблица **'nafld_1'** содержит следущие признаки:\n",
    "* **Unnamed: 0** - зашифрованный идентификтор пациента \n",
    "* **id** - идентификатор субъекта в исследовании;\n",
    "* **age** - возраст при поступлении на обсследование;\n",
    "* **male** - пол (0 = женский, 1 = мужской);\n",
    "* **weight** - вес в кг;\n",
    "* **height** - рост в см;\n",
    "* **bmi** - индекс массы тела;\n",
    "* **case.id** - идентификаатор сллучая НАЖБП, который соответствует этот объект;\n",
    "* **futime** - прошедшее время до последнего наблюдения или смерти, в днях\n",
    "* **status** - статус пациента (1 = мертвый, 0 = живой на момент последнего визита)"
   ]
  },
  {
   "cell_type": "markdown",
   "metadata": {},
   "source": [
    "В данном датасете содержатся 10 столбцов, в которых данные в числовых форматах (int64 и float64), 17549 строк\n",
    "В столбцах ['weight', 'height', 'bmi'] имеются пропуски"
   ]
  },
  {
   "cell_type": "code",
   "execution_count": 4,
   "metadata": {},
   "outputs": [
    {
     "data": {
      "text/html": [
       "<div>\n",
       "<style scoped>\n",
       "    .dataframe tbody tr th:only-of-type {\n",
       "        vertical-align: middle;\n",
       "    }\n",
       "\n",
       "    .dataframe tbody tr th {\n",
       "        vertical-align: top;\n",
       "    }\n",
       "\n",
       "    .dataframe thead th {\n",
       "        text-align: right;\n",
       "    }\n",
       "</style>\n",
       "<table border=\"1\" class=\"dataframe\">\n",
       "  <thead>\n",
       "    <tr style=\"text-align: right;\">\n",
       "      <th></th>\n",
       "      <th>age</th>\n",
       "      <th>weight</th>\n",
       "      <th>height</th>\n",
       "      <th>bmi</th>\n",
       "      <th>futime</th>\n",
       "    </tr>\n",
       "  </thead>\n",
       "  <tbody>\n",
       "    <tr>\n",
       "      <th>count</th>\n",
       "      <td>17549.000000</td>\n",
       "      <td>12763.000000</td>\n",
       "      <td>14381.000000</td>\n",
       "      <td>12588.000000</td>\n",
       "      <td>17549.000000</td>\n",
       "    </tr>\n",
       "    <tr>\n",
       "      <th>mean</th>\n",
       "      <td>52.659639</td>\n",
       "      <td>86.353350</td>\n",
       "      <td>169.434949</td>\n",
       "      <td>30.073865</td>\n",
       "      <td>2410.600547</td>\n",
       "    </tr>\n",
       "    <tr>\n",
       "      <th>std</th>\n",
       "      <td>14.722515</td>\n",
       "      <td>22.239458</td>\n",
       "      <td>10.141421</td>\n",
       "      <td>7.085435</td>\n",
       "      <td>1573.017638</td>\n",
       "    </tr>\n",
       "    <tr>\n",
       "      <th>min</th>\n",
       "      <td>18.000000</td>\n",
       "      <td>33.400000</td>\n",
       "      <td>123.000000</td>\n",
       "      <td>9.207332</td>\n",
       "      <td>7.000000</td>\n",
       "    </tr>\n",
       "    <tr>\n",
       "      <th>25%</th>\n",
       "      <td>42.000000</td>\n",
       "      <td>70.000000</td>\n",
       "      <td>162.000000</td>\n",
       "      <td>25.136434</td>\n",
       "      <td>1132.000000</td>\n",
       "    </tr>\n",
       "    <tr>\n",
       "      <th>50%</th>\n",
       "      <td>53.000000</td>\n",
       "      <td>83.900000</td>\n",
       "      <td>169.000000</td>\n",
       "      <td>28.875884</td>\n",
       "      <td>2148.000000</td>\n",
       "    </tr>\n",
       "    <tr>\n",
       "      <th>75%</th>\n",
       "      <td>63.000000</td>\n",
       "      <td>99.200000</td>\n",
       "      <td>177.000000</td>\n",
       "      <td>33.710372</td>\n",
       "      <td>3353.000000</td>\n",
       "    </tr>\n",
       "    <tr>\n",
       "      <th>max</th>\n",
       "      <td>98.000000</td>\n",
       "      <td>181.700000</td>\n",
       "      <td>215.000000</td>\n",
       "      <td>84.395725</td>\n",
       "      <td>7268.000000</td>\n",
       "    </tr>\n",
       "  </tbody>\n",
       "</table>\n",
       "</div>"
      ],
      "text/plain": [
       "                age        weight        height           bmi        futime\n",
       "count  17549.000000  12763.000000  14381.000000  12588.000000  17549.000000\n",
       "mean      52.659639     86.353350    169.434949     30.073865   2410.600547\n",
       "std       14.722515     22.239458     10.141421      7.085435   1573.017638\n",
       "min       18.000000     33.400000    123.000000      9.207332      7.000000\n",
       "25%       42.000000     70.000000    162.000000     25.136434   1132.000000\n",
       "50%       53.000000     83.900000    169.000000     28.875884   2148.000000\n",
       "75%       63.000000     99.200000    177.000000     33.710372   3353.000000\n",
       "max       98.000000    181.700000    215.000000     84.395725   7268.000000"
      ]
     },
     "execution_count": 4,
     "metadata": {},
     "output_type": "execute_result"
    }
   ],
   "source": [
    "nafld_1[['age', 'weight', 'height', 'bmi', 'futime']].describe() # описательная статистика"
   ]
  },
  {
   "cell_type": "markdown",
   "metadata": {},
   "source": [
    "Исходя из описательной статитстики исходных данных видно следующее:\n",
    "* средний возраст пациентов составляет 53 года, пациенты преимущественно взрослые, возраст колеблется от 18 до 98 лет \n",
    "* средний вес пациентов - 85 кг, диапозон показателей веса - 33-182 кг\n",
    "* среднй рост пациентов - 169 см, рост самого низкого пациента составляет 123 см, самого высокого - 215 см\n",
    "* Индекс массы тела (ИМТ) колеблется от 9,2 до 84,4 кг/м2, при интерпретации показателей ИМТ видим все возможные варианты от выраженного дефицита массы тела (min) до ожирения 3й степени, среднее значение ИМТ равен 30, что характерно для ожирения 1й степени\n",
    "* среднее значение прошедшего времени до последнего наблюдения или смерти составляет 2410 дней или 6,6 лет, минимальное значение - 7 дней, макисмальное - 7268 дней или 20 лет"
   ]
  },
  {
   "cell_type": "markdown",
   "metadata": {},
   "source": [
    "### Таблица № 2"
   ]
  },
  {
   "cell_type": "code",
   "execution_count": 5,
   "metadata": {},
   "outputs": [
    {
     "data": {
      "text/html": [
       "<div>\n",
       "<style scoped>\n",
       "    .dataframe tbody tr th:only-of-type {\n",
       "        vertical-align: middle;\n",
       "    }\n",
       "\n",
       "    .dataframe tbody tr th {\n",
       "        vertical-align: top;\n",
       "    }\n",
       "\n",
       "    .dataframe thead th {\n",
       "        text-align: right;\n",
       "    }\n",
       "</style>\n",
       "<table border=\"1\" class=\"dataframe\">\n",
       "  <thead>\n",
       "    <tr style=\"text-align: right;\">\n",
       "      <th></th>\n",
       "      <th>Unnamed: 0</th>\n",
       "      <th>id</th>\n",
       "      <th>days</th>\n",
       "      <th>test</th>\n",
       "      <th>value</th>\n",
       "    </tr>\n",
       "  </thead>\n",
       "  <tbody>\n",
       "    <tr>\n",
       "      <th>0</th>\n",
       "      <td>135077</td>\n",
       "      <td>1</td>\n",
       "      <td>-459</td>\n",
       "      <td>hdl</td>\n",
       "      <td>75.0</td>\n",
       "    </tr>\n",
       "    <tr>\n",
       "      <th>1</th>\n",
       "      <td>313143</td>\n",
       "      <td>1</td>\n",
       "      <td>-459</td>\n",
       "      <td>chol</td>\n",
       "      <td>75.0</td>\n",
       "    </tr>\n",
       "    <tr>\n",
       "      <th>2</th>\n",
       "      <td>135078</td>\n",
       "      <td>1</td>\n",
       "      <td>183</td>\n",
       "      <td>hdl</td>\n",
       "      <td>64.0</td>\n",
       "    </tr>\n",
       "    <tr>\n",
       "      <th>3</th>\n",
       "      <td>313144</td>\n",
       "      <td>1</td>\n",
       "      <td>183</td>\n",
       "      <td>chol</td>\n",
       "      <td>64.0</td>\n",
       "    </tr>\n",
       "    <tr>\n",
       "      <th>4</th>\n",
       "      <td>135079</td>\n",
       "      <td>1</td>\n",
       "      <td>2030</td>\n",
       "      <td>hdl</td>\n",
       "      <td>74.0</td>\n",
       "    </tr>\n",
       "  </tbody>\n",
       "</table>\n",
       "</div>"
      ],
      "text/plain": [
       "   Unnamed: 0  id  days  test  value\n",
       "0      135077   1  -459   hdl   75.0\n",
       "1      313143   1  -459  chol   75.0\n",
       "2      135078   1   183   hdl   64.0\n",
       "3      313144   1   183  chol   64.0\n",
       "4      135079   1  2030   hdl   74.0"
      ]
     },
     "metadata": {},
     "output_type": "display_data"
    },
    {
     "name": "stdout",
     "output_type": "stream",
     "text": [
      "<class 'pandas.core.frame.DataFrame'>\n",
      "RangeIndex: 400123 entries, 0 to 400122\n",
      "Data columns (total 5 columns):\n",
      " #   Column      Non-Null Count   Dtype  \n",
      "---  ------      --------------   -----  \n",
      " 0   Unnamed: 0  400123 non-null  int64  \n",
      " 1   id          400123 non-null  int64  \n",
      " 2   days        400123 non-null  int64  \n",
      " 3   test        400123 non-null  object \n",
      " 4   value       400123 non-null  float64\n",
      "dtypes: float64(1), int64(3), object(1)\n",
      "memory usage: 15.3+ MB\n"
     ]
    },
    {
     "data": {
      "text/plain": [
       "None"
      ]
     },
     "metadata": {},
     "output_type": "display_data"
    }
   ],
   "source": [
    "nafld_2 = pd.read_csv('D:\\курс по data science\\IDE\\diplom_project\\data_1\\\\nafld2.csv')\n",
    "display(nafld_2.head())\n",
    "display(nafld_2.info()) # общая иинформация о датасете"
   ]
  },
  {
   "cell_type": "markdown",
   "metadata": {},
   "source": [
    "Таблица **'nafld_2'** содержит следущие признаки:\n",
    "* **Unnamed: 0** - \n",
    "* **id** - идентификатор субъекта;\n",
    "* **days** - дни с даты ииндексирования;\n",
    "* **test** - тип записанного значения;\n",
    "* **value** - числовое значение"
   ]
  },
  {
   "cell_type": "markdown",
   "metadata": {},
   "source": [
    "В данном датасете содержатся 5 столбцов, из которых 3 столбца в числовом формате 'int64', 1 столбец - в формате 'float64', и 1 столбец в формате 'object', 400123 строк\n",
    "В столбцах не наблюдаются пропуски"
   ]
  },
  {
   "cell_type": "code",
   "execution_count": 6,
   "metadata": {},
   "outputs": [
    {
     "data": {
      "text/html": [
       "<div>\n",
       "<style scoped>\n",
       "    .dataframe tbody tr th:only-of-type {\n",
       "        vertical-align: middle;\n",
       "    }\n",
       "\n",
       "    .dataframe tbody tr th {\n",
       "        vertical-align: top;\n",
       "    }\n",
       "\n",
       "    .dataframe thead th {\n",
       "        text-align: right;\n",
       "    }\n",
       "</style>\n",
       "<table border=\"1\" class=\"dataframe\">\n",
       "  <thead>\n",
       "    <tr style=\"text-align: right;\">\n",
       "      <th></th>\n",
       "      <th>days</th>\n",
       "      <th>value</th>\n",
       "    </tr>\n",
       "  </thead>\n",
       "  <tbody>\n",
       "    <tr>\n",
       "      <th>count</th>\n",
       "      <td>400123.000000</td>\n",
       "      <td>400123.000000</td>\n",
       "    </tr>\n",
       "    <tr>\n",
       "      <th>mean</th>\n",
       "      <td>-606.916616</td>\n",
       "      <td>63.768339</td>\n",
       "    </tr>\n",
       "    <tr>\n",
       "      <th>std</th>\n",
       "      <td>2415.953135</td>\n",
       "      <td>48.455567</td>\n",
       "    </tr>\n",
       "    <tr>\n",
       "      <th>min</th>\n",
       "      <td>-7651.000000</td>\n",
       "      <td>0.000000</td>\n",
       "    </tr>\n",
       "    <tr>\n",
       "      <th>25%</th>\n",
       "      <td>-2259.000000</td>\n",
       "      <td>40.000000</td>\n",
       "    </tr>\n",
       "    <tr>\n",
       "      <th>50%</th>\n",
       "      <td>-530.000000</td>\n",
       "      <td>51.000000</td>\n",
       "    </tr>\n",
       "    <tr>\n",
       "      <th>75%</th>\n",
       "      <td>987.000000</td>\n",
       "      <td>72.000000</td>\n",
       "    </tr>\n",
       "    <tr>\n",
       "      <th>max</th>\n",
       "      <td>7187.000000</td>\n",
       "      <td>13682.000000</td>\n",
       "    </tr>\n",
       "  </tbody>\n",
       "</table>\n",
       "</div>"
      ],
      "text/plain": [
       "                days          value\n",
       "count  400123.000000  400123.000000\n",
       "mean     -606.916616      63.768339\n",
       "std      2415.953135      48.455567\n",
       "min     -7651.000000       0.000000\n",
       "25%     -2259.000000      40.000000\n",
       "50%      -530.000000      51.000000\n",
       "75%       987.000000      72.000000\n",
       "max      7187.000000   13682.000000"
      ]
     },
     "metadata": {},
     "output_type": "display_data"
    },
    {
     "data": {
      "text/html": [
       "<div>\n",
       "<style scoped>\n",
       "    .dataframe tbody tr th:only-of-type {\n",
       "        vertical-align: middle;\n",
       "    }\n",
       "\n",
       "    .dataframe tbody tr th {\n",
       "        vertical-align: top;\n",
       "    }\n",
       "\n",
       "    .dataframe thead th {\n",
       "        text-align: right;\n",
       "    }\n",
       "</style>\n",
       "<table border=\"1\" class=\"dataframe\">\n",
       "  <thead>\n",
       "    <tr style=\"text-align: right;\">\n",
       "      <th></th>\n",
       "      <th>test</th>\n",
       "    </tr>\n",
       "  </thead>\n",
       "  <tbody>\n",
       "    <tr>\n",
       "      <th>count</th>\n",
       "      <td>400123</td>\n",
       "    </tr>\n",
       "    <tr>\n",
       "      <th>unique</th>\n",
       "      <td>6</td>\n",
       "    </tr>\n",
       "    <tr>\n",
       "      <th>top</th>\n",
       "      <td>hdl</td>\n",
       "    </tr>\n",
       "    <tr>\n",
       "      <th>freq</th>\n",
       "      <td>161259</td>\n",
       "    </tr>\n",
       "  </tbody>\n",
       "</table>\n",
       "</div>"
      ],
      "text/plain": [
       "          test\n",
       "count   400123\n",
       "unique       6\n",
       "top        hdl\n",
       "freq    161259"
      ]
     },
     "metadata": {},
     "output_type": "display_data"
    },
    {
     "data": {
      "text/plain": [
       "hdl      161259\n",
       "chol     161258\n",
       "sbp       33430\n",
       "dbp       33430\n",
       "smoke      7008\n",
       "fib4       3738\n",
       "Name: test, dtype: int64"
      ]
     },
     "metadata": {},
     "output_type": "display_data"
    }
   ],
   "source": [
    "display(nafld_2[['days', 'value']].describe())\n",
    "display(nafld_2.describe(include=[object]))\n",
    "display(nafld_2['test'].value_counts())"
   ]
  },
  {
   "cell_type": "markdown",
   "metadata": {},
   "source": [
    "В столбце 'days' наблюдаются отрицательные значения,\n",
    "описательная статистика столбца 'value' - пока что ничего не прояснила   \n",
    "\n",
    "Анализ столбца 'test' выявил что имеются 6 уникальных значений, самое наиболее часто встречающеся - 'hdl'    \n",
    "\n",
    "Могу предположить, что данные сокращения относятся к результатам лабораторных данных:\n",
    "* ***hdl*** - значение холестерина липопротеинов высокой плотности в сыворотке крови;\n",
    "* ***chol*** - значение общего холестерина;\n",
    "* ***sbp*** - систолическое артиериальное давление;\n",
    "* ***dbp*** - диастолическое артериальное давление;\n",
    "* ***smoke*** - курит/не курит пациент;\n",
    "* ***fib4*** - диагностический тест, предназначенный для определения наличия/отсутствия значимого фиброза печени у пациентов. "
   ]
  },
  {
   "cell_type": "markdown",
   "metadata": {},
   "source": [
    "### Таблица № 3"
   ]
  },
  {
   "cell_type": "code",
   "execution_count": 7,
   "metadata": {},
   "outputs": [
    {
     "data": {
      "text/html": [
       "<div>\n",
       "<style scoped>\n",
       "    .dataframe tbody tr th:only-of-type {\n",
       "        vertical-align: middle;\n",
       "    }\n",
       "\n",
       "    .dataframe tbody tr th {\n",
       "        vertical-align: top;\n",
       "    }\n",
       "\n",
       "    .dataframe thead th {\n",
       "        text-align: right;\n",
       "    }\n",
       "</style>\n",
       "<table border=\"1\" class=\"dataframe\">\n",
       "  <thead>\n",
       "    <tr style=\"text-align: right;\">\n",
       "      <th></th>\n",
       "      <th>rownames</th>\n",
       "      <th>id</th>\n",
       "      <th>days</th>\n",
       "      <th>event</th>\n",
       "    </tr>\n",
       "  </thead>\n",
       "  <tbody>\n",
       "    <tr>\n",
       "      <th>0</th>\n",
       "      <td>2</td>\n",
       "      <td>3</td>\n",
       "      <td>0</td>\n",
       "      <td>nafld</td>\n",
       "    </tr>\n",
       "    <tr>\n",
       "      <th>1</th>\n",
       "      <td>3</td>\n",
       "      <td>4</td>\n",
       "      <td>-1287</td>\n",
       "      <td>htn</td>\n",
       "    </tr>\n",
       "    <tr>\n",
       "      <th>2</th>\n",
       "      <td>4</td>\n",
       "      <td>4</td>\n",
       "      <td>-1287</td>\n",
       "      <td>dyslipidemia</td>\n",
       "    </tr>\n",
       "    <tr>\n",
       "      <th>3</th>\n",
       "      <td>5</td>\n",
       "      <td>4</td>\n",
       "      <td>-1226</td>\n",
       "      <td>ang/isc</td>\n",
       "    </tr>\n",
       "    <tr>\n",
       "      <th>4</th>\n",
       "      <td>7</td>\n",
       "      <td>4</td>\n",
       "      <td>-90</td>\n",
       "      <td>ang/isc</td>\n",
       "    </tr>\n",
       "  </tbody>\n",
       "</table>\n",
       "</div>"
      ],
      "text/plain": [
       "   rownames  id  days         event\n",
       "0         2   3     0         nafld\n",
       "1         3   4 -1287           htn\n",
       "2         4   4 -1287  dyslipidemia\n",
       "3         5   4 -1226       ang/isc\n",
       "4         7   4   -90       ang/isc"
      ]
     },
     "metadata": {},
     "output_type": "display_data"
    },
    {
     "name": "stdout",
     "output_type": "stream",
     "text": [
      "<class 'pandas.core.frame.DataFrame'>\n",
      "RangeIndex: 34340 entries, 0 to 34339\n",
      "Data columns (total 4 columns):\n",
      " #   Column    Non-Null Count  Dtype \n",
      "---  ------    --------------  ----- \n",
      " 0   rownames  34340 non-null  int64 \n",
      " 1   id        34340 non-null  int64 \n",
      " 2   days      34340 non-null  int64 \n",
      " 3   event     34340 non-null  object\n",
      "dtypes: int64(3), object(1)\n",
      "memory usage: 1.0+ MB\n"
     ]
    },
    {
     "data": {
      "text/plain": [
       "None"
      ]
     },
     "metadata": {},
     "output_type": "display_data"
    }
   ],
   "source": [
    "nafld_3 = pd.read_csv('D:\\курс по data science\\IDE\\diplom_project\\data_1\\\\nafld3.csv')\n",
    "display(nafld_3.head())\n",
    "display(nafld_3.info()) # общая иинформация о датасете"
   ]
  },
  {
   "cell_type": "markdown",
   "metadata": {},
   "source": [
    "Таблица **'nafld_3'** содержит следущие признаки:\n",
    "* **rownames** - \n",
    "* **id** - идентификатор субъекта;\n",
    "* **days** - дни с даты ииндексирования;\n",
    "* **event** - конечное событие которое произошло    \n",
    "\n",
    "\n",
    "В данном датасете содержатся 4 столбца, которые все кроме одного столбца в числовом формате 'int64', 1 столбец - в формате 'object', 34340 строк\n",
    "\n",
    "В столбцах не наблюдаются пропуски"
   ]
  },
  {
   "cell_type": "code",
   "execution_count": 8,
   "metadata": {},
   "outputs": [
    {
     "data": {
      "text/html": [
       "<div>\n",
       "<style scoped>\n",
       "    .dataframe tbody tr th:only-of-type {\n",
       "        vertical-align: middle;\n",
       "    }\n",
       "\n",
       "    .dataframe tbody tr th {\n",
       "        vertical-align: top;\n",
       "    }\n",
       "\n",
       "    .dataframe thead th {\n",
       "        text-align: right;\n",
       "    }\n",
       "</style>\n",
       "<table border=\"1\" class=\"dataframe\">\n",
       "  <thead>\n",
       "    <tr style=\"text-align: right;\">\n",
       "      <th></th>\n",
       "      <th>event</th>\n",
       "    </tr>\n",
       "  </thead>\n",
       "  <tbody>\n",
       "    <tr>\n",
       "      <th>count</th>\n",
       "      <td>34340</td>\n",
       "    </tr>\n",
       "    <tr>\n",
       "      <th>unique</th>\n",
       "      <td>10</td>\n",
       "    </tr>\n",
       "    <tr>\n",
       "      <th>top</th>\n",
       "      <td>dyslipidemia</td>\n",
       "    </tr>\n",
       "    <tr>\n",
       "      <th>freq</th>\n",
       "      <td>10462</td>\n",
       "    </tr>\n",
       "  </tbody>\n",
       "</table>\n",
       "</div>"
      ],
      "text/plain": [
       "               event\n",
       "count          34340\n",
       "unique            10\n",
       "top     dyslipidemia\n",
       "freq           10462"
      ]
     },
     "metadata": {},
     "output_type": "display_data"
    },
    {
     "data": {
      "text/plain": [
       "dyslipidemia      10462\n",
       "htn                7097\n",
       "nafld              3864\n",
       "diabetes           3452\n",
       "ang/isc            2235\n",
       "stroke             2054\n",
       "afib               1935\n",
       "heart failure      1869\n",
       "MI                 1199\n",
       "cardiac arrest      173\n",
       "Name: event, dtype: int64"
      ]
     },
     "metadata": {},
     "output_type": "display_data"
    }
   ],
   "source": [
    "display(nafld_3.describe(include=[object]))\n",
    "display(nafld_3['event'].value_counts())"
   ]
  },
  {
   "cell_type": "markdown",
   "metadata": {},
   "source": [
    "В столбце 'event' таблицы 'nafld_3' выявлены 10 уникальных значений, наиболее часто встречающееся - 'dyslipidemia'\n",
    "\n",
    "Можно предположить следующую расшифроку уникальныx значений столбца 'event':\n",
    "* ***dyslipidemia*** - Дислипидемия (повышение уровней холестерина, триглицеридов (ТГ) или того и другого, либо низкий уровень холестерина липопротеинов высокой плотности (ХС-ЛПВП) в плазме, что способствует развитию атеросклероза)\n",
    "* ***htn*** - Гипертония (устойчивое повышение систолического артериального давления в покое, диастолического артериального давления или того и другого)\n",
    "* ***nafld*** - Неалкогольная жировая болезнь печени (избыточное накопление жира в гепатоцитах, клетках печени)\n",
    "* ***diabetes*** - сахарный диабет (характеризуется нарушением секреции инсулина и той или иной степенью инсулинорезистентности, обусловливающими гипергликемию)\n",
    "* ***ang/isc*** - угол наклона / периодическая самокатеризация (процесс регулярной катетеризации, которую пациент проводит самостоятельно для удаления мочи из мочевого пузыря)\n",
    "* ***stroke*** - инсульт (острое нарушение кровообращения в головном мозге, сопровождающееся гибелью тканей и нарушением функций нервной системы)\n",
    "* ***afib*** - Фибрилляция предсердий (аритмия (неритмичная работа сердца), то есть одна из форм сердечной патологии, при которой у человека обнаруживается нерегулярный пульс)\n",
    "* ***heart failure*** - cердечная недостаточность (патологическое состояние, обусловленное несостоятельностью сердца как насоса, обеспечивающего адекватное кровообращение)\n",
    "* ***MI*** - инфаркт миокарда (омертвление участка сердечной мышцы вследствие недостаточного ее кровоснабжения с развитием характерной клинической картины)\n",
    "* ***cardiac arrest*** - Остановка сердца (происходит вследствие прекращения его механической активности, что приводит к отсутствию циркуляции кровотока. После остановки сердца прекращается кровоснабжение жизненно важных органов, что приводит к их кислородному голоданию.)"
   ]
  },
  {
   "cell_type": "markdown",
   "metadata": {},
   "source": [
    "# 2. Подготовка данных\n",
    "\n"
   ]
  },
  {
   "cell_type": "markdown",
   "metadata": {},
   "source": [
    "## Очистка данных\n",
    "#### Дубликаты и пропуски таблицы №1"
   ]
  },
  {
   "cell_type": "code",
   "execution_count": 9,
   "metadata": {},
   "outputs": [
    {
     "name": "stdout",
     "output_type": "stream",
     "text": [
      "17549\n",
      "Число найденных дубликатов: 0\n",
      "Результирующее число записей: 17549\n"
     ]
    }
   ],
   "source": [
    "print(nafld_1.shape[0])\n",
    "dupl_columns = list(nafld_1.columns)\n",
    "mask = nafld_1.duplicated(subset=dupl_columns)\n",
    "nafld_1_duplicates = nafld_1[mask]\n",
    "print(f'Число найденных дубликатов: {nafld_1_duplicates.shape[0]}')\n",
    "nafld_1_dedupped = nafld_1.drop_duplicates(subset=dupl_columns)\n",
    "print(f'Результирующее число записей: {nafld_1_dedupped.shape[0]}')"
   ]
  },
  {
   "cell_type": "code",
   "execution_count": 10,
   "metadata": {},
   "outputs": [
    {
     "data": {
      "text/plain": [
       "Unnamed: 0       0\n",
       "id               0\n",
       "age              0\n",
       "male             0\n",
       "weight        4786\n",
       "height        3168\n",
       "bmi           4961\n",
       "case.id         31\n",
       "futime           0\n",
       "status           0\n",
       "dtype: int64"
      ]
     },
     "metadata": {},
     "output_type": "display_data"
    }
   ],
   "source": [
    "null_nafld_1 = nafld_1_dedupped.isnull().sum()\n",
    "display(null_nafld_1)"
   ]
  },
  {
   "cell_type": "markdown",
   "metadata": {},
   "source": [
    "Наблюдаем пропуски в столбцх ['weight','height', 'bmi', 'case.id'] \\\n",
    "Чтобы заполнить пропуски, необходимо выполнить следующее:\n",
    "* Удалить строки в столбце ['case.id'] \\\n",
    "* Заполнить пропуски в столбцах ['weight', 'height'] медианным значением \\\n",
    "* В столбце ['bmi'] значением, рассчитанным по формуле для вычисления ИМТ"
   ]
  },
  {
   "cell_type": "code",
   "execution_count": 11,
   "metadata": {},
   "outputs": [
    {
     "data": {
      "text/plain": [
       "Unnamed: 0    0\n",
       "id            0\n",
       "age           0\n",
       "male          0\n",
       "weight        0\n",
       "height        0\n",
       "bmi           0\n",
       "case.id       0\n",
       "futime        0\n",
       "status        0\n",
       "dtype: int64"
      ]
     },
     "metadata": {},
     "output_type": "display_data"
    }
   ],
   "source": [
    "drop_nafld_1 = nafld_1_dedupped.copy()\n",
    "drop_nafld_1 = drop_nafld_1.dropna(subset=['case.id'])\n",
    "drop_nafld_1['weight'] = drop_nafld_1['weight'].fillna(drop_nafld_1['weight'].median())\n",
    "drop_nafld_1['height'] = drop_nafld_1['height'].fillna(drop_nafld_1['height'].median())\n",
    "drop_nafld_1['bmi'] = drop_nafld_1['bmi'].fillna(drop_nafld_1['weight']/((drop_nafld_1['height']/100)**2))\n",
    "drop_nafld_1['bmi'] = drop_nafld_1['bmi'].round(1) # округлим значения ИМТ до 1 знака после запятой\n",
    "\n",
    "null_1_nafld_1 = drop_nafld_1.isnull().sum()\n",
    "display(null_1_nafld_1)"
   ]
  },
  {
   "cell_type": "markdown",
   "metadata": {},
   "source": [
    "*Пропусков нет*"
   ]
  },
  {
   "cell_type": "markdown",
   "metadata": {},
   "source": [
    "#### Дубликаты и пропуски таблицы №2"
   ]
  },
  {
   "cell_type": "code",
   "execution_count": 12,
   "metadata": {},
   "outputs": [
    {
     "name": "stdout",
     "output_type": "stream",
     "text": [
      "400123\n",
      "Число найденных дубликатов: 0\n",
      "Результирующее число записей: 400123\n"
     ]
    }
   ],
   "source": [
    "print(nafld_2.shape[0])\n",
    "dupl_columns = list(nafld_2.columns)\n",
    "mask = nafld_2.duplicated(subset=dupl_columns)\n",
    "nafld_2_duplicates = nafld_2[mask]\n",
    "print(f'Число найденных дубликатов: {nafld_2_duplicates.shape[0]}')\n",
    "nafld_2_dedupped = nafld_2.drop_duplicates(subset=dupl_columns)\n",
    "print(f'Результирующее число записей: {nafld_2_dedupped.shape[0]}')"
   ]
  },
  {
   "cell_type": "code",
   "execution_count": 13,
   "metadata": {},
   "outputs": [
    {
     "data": {
      "text/plain": [
       "Unnamed: 0    0\n",
       "id            0\n",
       "days          0\n",
       "test          0\n",
       "value         0\n",
       "dtype: int64"
      ]
     },
     "metadata": {},
     "output_type": "display_data"
    }
   ],
   "source": [
    "null_nafld_2 = nafld_2_dedupped.isnull().sum()\n",
    "display(null_nafld_2)"
   ]
  },
  {
   "cell_type": "markdown",
   "metadata": {},
   "source": [
    "Таблица №2 чистая, нет пропусков, дубликатов"
   ]
  },
  {
   "cell_type": "markdown",
   "metadata": {},
   "source": [
    "#### Дубликаты и пропуски таблицы №3"
   ]
  },
  {
   "cell_type": "code",
   "execution_count": 14,
   "metadata": {},
   "outputs": [
    {
     "name": "stdout",
     "output_type": "stream",
     "text": [
      "34340\n",
      "Число найденных дубликатов: 0\n",
      "Результирующее число записей: 34340\n"
     ]
    }
   ],
   "source": [
    "print(nafld_3.shape[0])\n",
    "dupl_columns = list(nafld_3.columns)\n",
    "mask = nafld_3.duplicated(subset=dupl_columns)\n",
    "nafld_3_duplicates = nafld_3[mask]\n",
    "print(f'Число найденных дубликатов: {nafld_3_duplicates.shape[0]}')\n",
    "nafld_3_dedupped = nafld_3.drop_duplicates(subset=dupl_columns)\n",
    "print(f'Результирующее число записей: {nafld_3_dedupped.shape[0]}')"
   ]
  },
  {
   "cell_type": "code",
   "execution_count": 15,
   "metadata": {},
   "outputs": [
    {
     "data": {
      "text/plain": [
       "rownames    0\n",
       "id          0\n",
       "days        0\n",
       "event       0\n",
       "dtype: int64"
      ]
     },
     "metadata": {},
     "output_type": "display_data"
    }
   ],
   "source": [
    "null_nafld_3 = nafld_3_dedupped.isnull().sum()\n",
    "display(null_nafld_3)"
   ]
  },
  {
   "cell_type": "markdown",
   "metadata": {},
   "source": [
    "Таблица №3 чистая, нет пропусков, дубликатов"
   ]
  },
  {
   "cell_type": "markdown",
   "metadata": {},
   "source": [
    "## Получение новых признаков\n",
    "#### Таблица №1"
   ]
  },
  {
   "cell_type": "markdown",
   "metadata": {},
   "source": [
    "Можно удалить столбцы 'Unnamed: 0','case.id','futime' так как не несет смысловой нагрузки"
   ]
  },
  {
   "cell_type": "code",
   "execution_count": 16,
   "metadata": {},
   "outputs": [
    {
     "data": {
      "text/html": [
       "<div>\n",
       "<style scoped>\n",
       "    .dataframe tbody tr th:only-of-type {\n",
       "        vertical-align: middle;\n",
       "    }\n",
       "\n",
       "    .dataframe tbody tr th {\n",
       "        vertical-align: top;\n",
       "    }\n",
       "\n",
       "    .dataframe thead th {\n",
       "        text-align: right;\n",
       "    }\n",
       "</style>\n",
       "<table border=\"1\" class=\"dataframe\">\n",
       "  <thead>\n",
       "    <tr style=\"text-align: right;\">\n",
       "      <th></th>\n",
       "      <th>id</th>\n",
       "      <th>age</th>\n",
       "      <th>male</th>\n",
       "      <th>weight</th>\n",
       "      <th>height</th>\n",
       "      <th>bmi</th>\n",
       "      <th>status</th>\n",
       "    </tr>\n",
       "  </thead>\n",
       "  <tbody>\n",
       "    <tr>\n",
       "      <th>0</th>\n",
       "      <td>1</td>\n",
       "      <td>57</td>\n",
       "      <td>0</td>\n",
       "      <td>60.0</td>\n",
       "      <td>163.0</td>\n",
       "      <td>22.7</td>\n",
       "      <td>0</td>\n",
       "    </tr>\n",
       "    <tr>\n",
       "      <th>1</th>\n",
       "      <td>2</td>\n",
       "      <td>67</td>\n",
       "      <td>0</td>\n",
       "      <td>70.4</td>\n",
       "      <td>168.0</td>\n",
       "      <td>24.9</td>\n",
       "      <td>0</td>\n",
       "    </tr>\n",
       "  </tbody>\n",
       "</table>\n",
       "</div>"
      ],
      "text/plain": [
       "   id  age  male  weight  height   bmi  status\n",
       "0   1   57     0    60.0   163.0  22.7       0\n",
       "1   2   67     0    70.4   168.0  24.9       0"
      ]
     },
     "execution_count": 16,
     "metadata": {},
     "output_type": "execute_result"
    }
   ],
   "source": [
    "drop_nafld_1 = drop_nafld_1.drop(['Unnamed: 0','case.id','futime'], axis=1)\n",
    "drop_nafld_1.head(2)"
   ]
  },
  {
   "cell_type": "markdown",
   "metadata": {},
   "source": [
    "По результатам ИМТ можно сделать следующие категории:"
   ]
  },
  {
   "cell_type": "code",
   "execution_count": 17,
   "metadata": {},
   "outputs": [
    {
     "data": {
      "text/plain": [
       "pre-obesity           8029\n",
       "obese (class I)       3540\n",
       "healthy               3127\n",
       "obese (class II)      1556\n",
       "obese (class III)     1155\n",
       "underweight             89\n",
       "severe underweight      22\n",
       "Name: bmi_category, dtype: int64"
      ]
     },
     "execution_count": 17,
     "metadata": {},
     "output_type": "execute_result"
    }
   ],
   "source": [
    "drop_nafld_1.loc[drop_nafld_1['bmi'].between(0, 16, inclusive='both'),'bmi_category'] = 'severe underweight'\n",
    "drop_nafld_1.loc[drop_nafld_1['bmi'].between(16.1, 18.4, inclusive='both'),'bmi_category'] = 'underweight'\n",
    "drop_nafld_1.loc[drop_nafld_1['bmi'].between(18.5, 24.9, inclusive='both'),'bmi_category'] = 'healthy'\n",
    "drop_nafld_1.loc[drop_nafld_1['bmi'].between(25.0, 29.9, inclusive='both'),'bmi_category'] = 'pre-obesity'\n",
    "drop_nafld_1.loc[drop_nafld_1['bmi'].between(30.0, 34.9, inclusive='both'),'bmi_category'] = 'obese (class I)'\n",
    "drop_nafld_1.loc[drop_nafld_1['bmi'].between(35.0, 39.9, inclusive='both'),'bmi_category'] = 'obese (class II)'\n",
    "drop_nafld_1.loc[drop_nafld_1['bmi'].between(40.0, 100, inclusive='both'),'bmi_category'] = 'obese (class III)'\n",
    "\n",
    "drop_nafld_1['bmi_category'].value_counts()"
   ]
  },
  {
   "cell_type": "markdown",
   "metadata": {},
   "source": [
    "#### Таблица №2"
   ]
  },
  {
   "cell_type": "code",
   "execution_count": 18,
   "metadata": {},
   "outputs": [
    {
     "data": {
      "text/html": [
       "<div>\n",
       "<style scoped>\n",
       "    .dataframe tbody tr th:only-of-type {\n",
       "        vertical-align: middle;\n",
       "    }\n",
       "\n",
       "    .dataframe tbody tr th {\n",
       "        vertical-align: top;\n",
       "    }\n",
       "\n",
       "    .dataframe thead th {\n",
       "        text-align: right;\n",
       "    }\n",
       "</style>\n",
       "<table border=\"1\" class=\"dataframe\">\n",
       "  <thead>\n",
       "    <tr style=\"text-align: right;\">\n",
       "      <th></th>\n",
       "      <th>Unnamed: 0</th>\n",
       "      <th>id</th>\n",
       "      <th>days</th>\n",
       "      <th>test</th>\n",
       "      <th>value</th>\n",
       "    </tr>\n",
       "  </thead>\n",
       "  <tbody>\n",
       "    <tr>\n",
       "      <th>0</th>\n",
       "      <td>135077</td>\n",
       "      <td>1</td>\n",
       "      <td>-459</td>\n",
       "      <td>hdl</td>\n",
       "      <td>75.0</td>\n",
       "    </tr>\n",
       "    <tr>\n",
       "      <th>1</th>\n",
       "      <td>313143</td>\n",
       "      <td>1</td>\n",
       "      <td>-459</td>\n",
       "      <td>chol</td>\n",
       "      <td>75.0</td>\n",
       "    </tr>\n",
       "    <tr>\n",
       "      <th>2</th>\n",
       "      <td>135078</td>\n",
       "      <td>1</td>\n",
       "      <td>183</td>\n",
       "      <td>hdl</td>\n",
       "      <td>64.0</td>\n",
       "    </tr>\n",
       "  </tbody>\n",
       "</table>\n",
       "</div>"
      ],
      "text/plain": [
       "   Unnamed: 0  id  days  test  value\n",
       "0      135077   1  -459   hdl   75.0\n",
       "1      313143   1  -459  chol   75.0\n",
       "2      135078   1   183   hdl   64.0"
      ]
     },
     "metadata": {},
     "output_type": "display_data"
    }
   ],
   "source": [
    "display(nafld_2.head(3))"
   ]
  },
  {
   "cell_type": "markdown",
   "metadata": {},
   "source": [
    "Также и в таблице №1 можно удалить столбец 'Unnamed: 0' и 'days', так как не несет смысловой нагрузки"
   ]
  },
  {
   "cell_type": "code",
   "execution_count": 19,
   "metadata": {},
   "outputs": [
    {
     "data": {
      "text/html": [
       "<div>\n",
       "<style scoped>\n",
       "    .dataframe tbody tr th:only-of-type {\n",
       "        vertical-align: middle;\n",
       "    }\n",
       "\n",
       "    .dataframe tbody tr th {\n",
       "        vertical-align: top;\n",
       "    }\n",
       "\n",
       "    .dataframe thead th {\n",
       "        text-align: right;\n",
       "    }\n",
       "</style>\n",
       "<table border=\"1\" class=\"dataframe\">\n",
       "  <thead>\n",
       "    <tr style=\"text-align: right;\">\n",
       "      <th></th>\n",
       "      <th>id</th>\n",
       "      <th>test</th>\n",
       "      <th>value</th>\n",
       "    </tr>\n",
       "  </thead>\n",
       "  <tbody>\n",
       "    <tr>\n",
       "      <th>0</th>\n",
       "      <td>1</td>\n",
       "      <td>hdl</td>\n",
       "      <td>75.0</td>\n",
       "    </tr>\n",
       "    <tr>\n",
       "      <th>1</th>\n",
       "      <td>1</td>\n",
       "      <td>chol</td>\n",
       "      <td>75.0</td>\n",
       "    </tr>\n",
       "    <tr>\n",
       "      <th>2</th>\n",
       "      <td>1</td>\n",
       "      <td>hdl</td>\n",
       "      <td>64.0</td>\n",
       "    </tr>\n",
       "  </tbody>\n",
       "</table>\n",
       "</div>"
      ],
      "text/plain": [
       "   id  test  value\n",
       "0   1   hdl   75.0\n",
       "1   1  chol   75.0\n",
       "2   1   hdl   64.0"
      ]
     },
     "execution_count": 19,
     "metadata": {},
     "output_type": "execute_result"
    }
   ],
   "source": [
    "drop_nafld_2 = nafld_2.copy()\n",
    "drop_nafld_2 = drop_nafld_2.drop(['Unnamed: 0', 'days'], axis=1)\n",
    "drop_nafld_2.head(3)"
   ]
  },
  {
   "cell_type": "markdown",
   "metadata": {},
   "source": [
    "Для каждого теста имеются референсные значения диапазона норм показателей по каждому тесту"
   ]
  },
  {
   "cell_type": "code",
   "execution_count": 20,
   "metadata": {},
   "outputs": [
    {
     "data": {
      "text/plain": [
       "hdl      161259\n",
       "chol     161258\n",
       "sbp       33430\n",
       "dbp       33430\n",
       "smoke      7008\n",
       "fib4       3738\n",
       "Name: test, dtype: int64"
      ]
     },
     "execution_count": 20,
     "metadata": {},
     "output_type": "execute_result"
    }
   ],
   "source": [
    "drop_nafld_2['test'].value_counts()"
   ]
  },
  {
   "cell_type": "markdown",
   "metadata": {},
   "source": [
    "Референсные значения диапазона норм показателей по тесту **hdl**, демонстрирующий количество холестерина липопротеинов высокой плотности в сыворотке крови"
   ]
  },
  {
   "cell_type": "code",
   "execution_count": 26,
   "metadata": {},
   "outputs": [
    {
     "data": {
      "text/html": [
       "<div>\n",
       "<style scoped>\n",
       "    .dataframe tbody tr th:only-of-type {\n",
       "        vertical-align: middle;\n",
       "    }\n",
       "\n",
       "    .dataframe tbody tr th {\n",
       "        vertical-align: top;\n",
       "    }\n",
       "\n",
       "    .dataframe thead th {\n",
       "        text-align: right;\n",
       "    }\n",
       "</style>\n",
       "<table border=\"1\" class=\"dataframe\">\n",
       "  <thead>\n",
       "    <tr style=\"text-align: right;\">\n",
       "      <th></th>\n",
       "      <th>id</th>\n",
       "      <th>value</th>\n",
       "      <th>MedianaHdl</th>\n",
       "      <th>result_hdl_mediana</th>\n",
       "    </tr>\n",
       "  </thead>\n",
       "  <tbody>\n",
       "    <tr>\n",
       "      <th>0</th>\n",
       "      <td>1</td>\n",
       "      <td>[75.0, 64.0, 74.0, 50.0, 79.0]</td>\n",
       "      <td>74.0</td>\n",
       "      <td>ideal</td>\n",
       "    </tr>\n",
       "    <tr>\n",
       "      <th>1</th>\n",
       "      <td>2</td>\n",
       "      <td>[61.0, 56.0, 87.0, 69.0, 86.0, 86.0]</td>\n",
       "      <td>77.5</td>\n",
       "      <td>ideal</td>\n",
       "    </tr>\n",
       "    <tr>\n",
       "      <th>2</th>\n",
       "      <td>3</td>\n",
       "      <td>[52.0, 63.0, 52.0]</td>\n",
       "      <td>52.0</td>\n",
       "      <td>normal</td>\n",
       "    </tr>\n",
       "  </tbody>\n",
       "</table>\n",
       "</div>"
      ],
      "text/plain": [
       "   id                                 value  MedianaHdl result_hdl_mediana\n",
       "0   1        [75.0, 64.0, 74.0, 50.0, 79.0]        74.0              ideal\n",
       "1   2  [61.0, 56.0, 87.0, 69.0, 86.0, 86.0]        77.5              ideal\n",
       "2   3                    [52.0, 63.0, 52.0]        52.0             normal"
      ]
     },
     "execution_count": 26,
     "metadata": {},
     "output_type": "execute_result"
    }
   ],
   "source": [
    "hdl = drop_nafld_2.loc[drop_nafld_2['test'] == 'hdl']\n",
    "hdl_group = hdl.groupby('id')['value'].apply(lambda x: ', '.join(x.astype(str))).reset_index()\n",
    "hdl_group['value'] = hdl_group['value'].str.split(', ').apply(lambda x: [float(i) for i in x])\n",
    "\n",
    "hdl_group['MedianaHdl'] = hdl_group['value'].apply(lambda x: statistics.median(x) if x else 0)\n",
    "\n",
    "   \n",
    "def get_hdl(value):\n",
    "    if value < 40.0:\n",
    "        return 'low'\n",
    "    elif 40.0 <= value <= 59.0:\n",
    "        return 'normal'\n",
    "    else:\n",
    "        return 'ideal'\n",
    "    \n",
    "\n",
    "hdl_group.loc[:, 'result_hdl_mediana'] = hdl_group['MedianaHdl'].apply(get_hdl)\n",
    "hdl_group.head(3)\n"
   ]
  },
  {
   "cell_type": "markdown",
   "metadata": {},
   "source": [
    "Референсные значения диапазона норм показателей по тесту **chol**, демонстрирующий количество общего холестерина в сыворотке крови"
   ]
  },
  {
   "cell_type": "code",
   "execution_count": 27,
   "metadata": {},
   "outputs": [
    {
     "data": {
      "text/html": [
       "<div>\n",
       "<style scoped>\n",
       "    .dataframe tbody tr th:only-of-type {\n",
       "        vertical-align: middle;\n",
       "    }\n",
       "\n",
       "    .dataframe tbody tr th {\n",
       "        vertical-align: top;\n",
       "    }\n",
       "\n",
       "    .dataframe thead th {\n",
       "        text-align: right;\n",
       "    }\n",
       "</style>\n",
       "<table border=\"1\" class=\"dataframe\">\n",
       "  <thead>\n",
       "    <tr style=\"text-align: right;\">\n",
       "      <th></th>\n",
       "      <th>id</th>\n",
       "      <th>value</th>\n",
       "      <th>MedianaChol</th>\n",
       "      <th>result_chol_mediana</th>\n",
       "    </tr>\n",
       "  </thead>\n",
       "  <tbody>\n",
       "    <tr>\n",
       "      <th>0</th>\n",
       "      <td>1</td>\n",
       "      <td>[75.0, 64.0, 74.0, 50.0, 79.0]</td>\n",
       "      <td>74.0</td>\n",
       "      <td>ideal</td>\n",
       "    </tr>\n",
       "    <tr>\n",
       "      <th>1</th>\n",
       "      <td>2</td>\n",
       "      <td>[61.0, 56.0, 87.0, 69.0, 86.0, 86.0]</td>\n",
       "      <td>77.5</td>\n",
       "      <td>ideal</td>\n",
       "    </tr>\n",
       "    <tr>\n",
       "      <th>2</th>\n",
       "      <td>3</td>\n",
       "      <td>[52.0, 63.0, 52.0]</td>\n",
       "      <td>52.0</td>\n",
       "      <td>normal</td>\n",
       "    </tr>\n",
       "  </tbody>\n",
       "</table>\n",
       "</div>"
      ],
      "text/plain": [
       "   id                                 value  MedianaChol result_chol_mediana\n",
       "0   1        [75.0, 64.0, 74.0, 50.0, 79.0]         74.0               ideal\n",
       "1   2  [61.0, 56.0, 87.0, 69.0, 86.0, 86.0]         77.5               ideal\n",
       "2   3                    [52.0, 63.0, 52.0]         52.0              normal"
      ]
     },
     "execution_count": 27,
     "metadata": {},
     "output_type": "execute_result"
    }
   ],
   "source": [
    "chol = drop_nafld_2.loc[drop_nafld_2['test'] == 'chol']\n",
    "chol_group = chol.groupby('id')['value'].apply(lambda x: ', '.join(x.astype(str))).reset_index()\n",
    "chol_group['value'] = chol_group['value'].str.split(', ').apply(lambda x: [float(i) for i in x])\n",
    "\n",
    "chol_group['MedianaChol'] = chol_group['value'].apply(lambda x: statistics.median(x) if x else 0)\n",
    "\n",
    "def get_chol(value):\n",
    "    if value < 40.0:\n",
    "        return 'low'\n",
    "    elif 40.0 <= value <= 59.0:\n",
    "        return 'normal'\n",
    "    else:\n",
    "        return 'ideal'\n",
    "\n",
    "chol_group.loc[:, 'result_chol_mediana'] = chol_group['MedianaChol'].apply(get_hdl)\n",
    "\n",
    "chol_group.head(3)"
   ]
  },
  {
   "cell_type": "markdown",
   "metadata": {},
   "source": [
    "Референсные значения диапазона норм показателей по тесту **sbp**, демонстрирующий показатель систолического артиериального давления"
   ]
  },
  {
   "cell_type": "code",
   "execution_count": 28,
   "metadata": {},
   "outputs": [
    {
     "data": {
      "text/html": [
       "<div>\n",
       "<style scoped>\n",
       "    .dataframe tbody tr th:only-of-type {\n",
       "        vertical-align: middle;\n",
       "    }\n",
       "\n",
       "    .dataframe tbody tr th {\n",
       "        vertical-align: top;\n",
       "    }\n",
       "\n",
       "    .dataframe thead th {\n",
       "        text-align: right;\n",
       "    }\n",
       "</style>\n",
       "<table border=\"1\" class=\"dataframe\">\n",
       "  <thead>\n",
       "    <tr style=\"text-align: right;\">\n",
       "      <th></th>\n",
       "      <th>id</th>\n",
       "      <th>value</th>\n",
       "      <th>MedianaSbp</th>\n",
       "      <th>result_sbp_mediana</th>\n",
       "    </tr>\n",
       "  </thead>\n",
       "  <tbody>\n",
       "    <tr>\n",
       "      <th>0</th>\n",
       "      <td>3</td>\n",
       "      <td>[135.0]</td>\n",
       "      <td>135.0</td>\n",
       "      <td>high normal</td>\n",
       "    </tr>\n",
       "    <tr>\n",
       "      <th>1</th>\n",
       "      <td>4</td>\n",
       "      <td>[142.0, 148.0, 109.0]</td>\n",
       "      <td>142.0</td>\n",
       "      <td>hypertension</td>\n",
       "    </tr>\n",
       "    <tr>\n",
       "      <th>2</th>\n",
       "      <td>9</td>\n",
       "      <td>[157.0, 132.0, 110.0, 118.0, 122.0, 136.0]</td>\n",
       "      <td>127.0</td>\n",
       "      <td>normal</td>\n",
       "    </tr>\n",
       "  </tbody>\n",
       "</table>\n",
       "</div>"
      ],
      "text/plain": [
       "   id                                       value  MedianaSbp  \\\n",
       "0   3                                     [135.0]       135.0   \n",
       "1   4                       [142.0, 148.0, 109.0]       142.0   \n",
       "2   9  [157.0, 132.0, 110.0, 118.0, 122.0, 136.0]       127.0   \n",
       "\n",
       "  result_sbp_mediana  \n",
       "0        high normal  \n",
       "1       hypertension  \n",
       "2             normal  "
      ]
     },
     "execution_count": 28,
     "metadata": {},
     "output_type": "execute_result"
    }
   ],
   "source": [
    "sbp = drop_nafld_2.loc[drop_nafld_2['test'] == 'sbp']\n",
    "sbp_group = sbp.groupby('id')['value'].apply(lambda x: ', '.join(x.astype(str))).reset_index()\n",
    "sbp_group['value'] = sbp_group['value'].str.split(', ').apply(lambda x: [float(i) for i in x])\n",
    "\n",
    "def get_sbp(value):\n",
    "    if 40 < value < 105:\n",
    "        return 'low'\n",
    "    elif 105 <= value < 120:\n",
    "        return 'ideal'\n",
    "    elif 120 <= value < 130:\n",
    "        return 'normal'\n",
    "    elif 130 <= value < 140:\n",
    "        return 'high normal'\n",
    "    else:\n",
    "        return 'hypertension'\n",
    "\n",
    "# sbp_group['MeanSbp'] = sbp_group['value'].apply(lambda x: sum(x) / len(x) if x else 0)\n",
    "sbp_group['MedianaSbp'] = sbp_group['value'].apply(lambda x: statistics.median(x) if x else 0)\n",
    "\n",
    "# sbp_group.loc[:, 'result_sbp_mean'] = sbp_group['MeanSbp'].apply(get_sbp)\n",
    "sbp_group.loc[:, 'result_sbp_mediana'] = sbp_group['MedianaSbp'].apply(get_sbp)\n",
    "\n",
    "sbp_group.head(3)"
   ]
  },
  {
   "cell_type": "markdown",
   "metadata": {},
   "source": [
    "Референсные значения диапазона норм показателей по тесту **dbp**, демонстрирующий показатель диастолического артиериального давления"
   ]
  },
  {
   "cell_type": "code",
   "execution_count": 29,
   "metadata": {},
   "outputs": [
    {
     "data": {
      "text/html": [
       "<div>\n",
       "<style scoped>\n",
       "    .dataframe tbody tr th:only-of-type {\n",
       "        vertical-align: middle;\n",
       "    }\n",
       "\n",
       "    .dataframe tbody tr th {\n",
       "        vertical-align: top;\n",
       "    }\n",
       "\n",
       "    .dataframe thead th {\n",
       "        text-align: right;\n",
       "    }\n",
       "</style>\n",
       "<table border=\"1\" class=\"dataframe\">\n",
       "  <thead>\n",
       "    <tr style=\"text-align: right;\">\n",
       "      <th></th>\n",
       "      <th>id</th>\n",
       "      <th>value</th>\n",
       "      <th>MedianaDbp</th>\n",
       "      <th>result_dbp_mediana</th>\n",
       "    </tr>\n",
       "  </thead>\n",
       "  <tbody>\n",
       "    <tr>\n",
       "      <th>0</th>\n",
       "      <td>3</td>\n",
       "      <td>[135.0]</td>\n",
       "      <td>135.0</td>\n",
       "      <td>hypertension</td>\n",
       "    </tr>\n",
       "    <tr>\n",
       "      <th>1</th>\n",
       "      <td>4</td>\n",
       "      <td>[142.0, 148.0, 109.0]</td>\n",
       "      <td>142.0</td>\n",
       "      <td>hypertension</td>\n",
       "    </tr>\n",
       "    <tr>\n",
       "      <th>2</th>\n",
       "      <td>9</td>\n",
       "      <td>[157.0, 132.0, 110.0, 118.0, 122.0, 136.0]</td>\n",
       "      <td>127.0</td>\n",
       "      <td>hypertension</td>\n",
       "    </tr>\n",
       "  </tbody>\n",
       "</table>\n",
       "</div>"
      ],
      "text/plain": [
       "   id                                       value  MedianaDbp  \\\n",
       "0   3                                     [135.0]       135.0   \n",
       "1   4                       [142.0, 148.0, 109.0]       142.0   \n",
       "2   9  [157.0, 132.0, 110.0, 118.0, 122.0, 136.0]       127.0   \n",
       "\n",
       "  result_dbp_mediana  \n",
       "0       hypertension  \n",
       "1       hypertension  \n",
       "2       hypertension  "
      ]
     },
     "execution_count": 29,
     "metadata": {},
     "output_type": "execute_result"
    }
   ],
   "source": [
    "dbp = drop_nafld_2.loc[drop_nafld_2['test'] == 'dbp']\n",
    "dbp_group = dbp.groupby('id')['value'].apply(lambda x: ', '.join(x.astype(str))).reset_index()\n",
    "dbp_group['value'] = dbp_group['value'].str.split(', ').apply(lambda x: [float(i) for i in x])\n",
    "\n",
    "def get_dbp(value):\n",
    "    if 40 < value < 60:\n",
    "        return 'low'\n",
    "    elif 60 <= value < 80:\n",
    "        return 'ideal'\n",
    "    elif 80 <= value < 85:\n",
    "        return 'normal'\n",
    "    elif 85 <= value < 90:\n",
    "        return 'high normal'\n",
    "    else:\n",
    "        return 'hypertension'\n",
    "\n",
    "# dbp_group['MeanDbp'] = dbp_group['value'].apply(lambda x: sum(x) / len(x) if x else 0)\n",
    "dbp_group['MedianaDbp'] = dbp_group['value'].apply(lambda x: statistics.median(x) if x else 0)\n",
    "\n",
    "# dbp_group.loc[:, 'result_dbp_mean'] = dbp_group['MeanDbp'].apply(get_dbp)\n",
    "dbp_group.loc[:, 'result_dbp_mediana'] = dbp_group['MedianaDbp'].apply(get_dbp)\n",
    "dbp_group.head(3)"
   ]
  },
  {
   "cell_type": "markdown",
   "metadata": {},
   "source": [
    "* ***hdl*** - значение холестерина липопротеинов высокой плотности в сыворотке крови;\n",
    "* ***chol*** - значение общего холестерина;\n",
    "* ***sbp*** - систолическое артиериальное давление;\n",
    "* ***dbp*** - диастолическое артериальное давление;\n",
    "* ***smoke*** - курит/не курит пациент;\n",
    "* ***fib4*** - диагностический тест, предназначенный для определения наличия/отсутствия значимого фиброза печени у пациентов. "
   ]
  },
  {
   "cell_type": "markdown",
   "metadata": {},
   "source": [
    "Референсные значения диапазона норм показателей по диагностическому тесту **fib4**, предназначенный для определения наличия/отсутствия значимого фиброза печени у пациентов"
   ]
  },
  {
   "cell_type": "code",
   "execution_count": 30,
   "metadata": {},
   "outputs": [
    {
     "name": "stderr",
     "output_type": "stream",
     "text": [
      "C:\\Users\\Елена\\AppData\\Local\\Temp\\ipykernel_24512\\2337041443.py:11: SettingWithCopyWarning: \n",
      "A value is trying to be set on a copy of a slice from a DataFrame.\n",
      "Try using .loc[row_indexer,col_indexer] = value instead\n",
      "\n",
      "See the caveats in the documentation: https://pandas.pydata.org/pandas-docs/stable/user_guide/indexing.html#returning-a-view-versus-a-copy\n",
      "  fib4.loc[:, 'result_fib4'] = fib4['value'].apply(get_fib4)\n"
     ]
    },
    {
     "data": {
      "text/html": [
       "<div>\n",
       "<style scoped>\n",
       "    .dataframe tbody tr th:only-of-type {\n",
       "        vertical-align: middle;\n",
       "    }\n",
       "\n",
       "    .dataframe tbody tr th {\n",
       "        vertical-align: top;\n",
       "    }\n",
       "\n",
       "    .dataframe thead th {\n",
       "        text-align: right;\n",
       "    }\n",
       "</style>\n",
       "<table border=\"1\" class=\"dataframe\">\n",
       "  <thead>\n",
       "    <tr style=\"text-align: right;\">\n",
       "      <th></th>\n",
       "      <th>id</th>\n",
       "      <th>test</th>\n",
       "      <th>value</th>\n",
       "      <th>result_fib4</th>\n",
       "    </tr>\n",
       "  </thead>\n",
       "  <tbody>\n",
       "    <tr>\n",
       "      <th>48</th>\n",
       "      <td>4</td>\n",
       "      <td>fib4</td>\n",
       "      <td>4.554200</td>\n",
       "      <td>cirrosis</td>\n",
       "    </tr>\n",
       "    <tr>\n",
       "      <th>213</th>\n",
       "      <td>10</td>\n",
       "      <td>fib4</td>\n",
       "      <td>4.719419</td>\n",
       "      <td>cirrosis</td>\n",
       "    </tr>\n",
       "    <tr>\n",
       "      <th>258</th>\n",
       "      <td>12</td>\n",
       "      <td>fib4</td>\n",
       "      <td>3.175664</td>\n",
       "      <td>cirrosis</td>\n",
       "    </tr>\n",
       "  </tbody>\n",
       "</table>\n",
       "</div>"
      ],
      "text/plain": [
       "     id  test     value result_fib4\n",
       "48    4  fib4  4.554200    cirrosis\n",
       "213  10  fib4  4.719419    cirrosis\n",
       "258  12  fib4  3.175664    cirrosis"
      ]
     },
     "execution_count": 30,
     "metadata": {},
     "output_type": "execute_result"
    }
   ],
   "source": [
    "fib4 = drop_nafld_2.loc[drop_nafld_2['test'] == 'fib4']\n",
    "\n",
    "def get_fib4(value):\n",
    "    if value < 1.3:\n",
    "        return 'low'\n",
    "    elif 1.3 <= value <= 2.67:\n",
    "        return 'risk'\n",
    "    else:\n",
    "        return 'cirrosis'\n",
    "\n",
    "fib4.loc[:, 'result_fib4'] = fib4['value'].apply(get_fib4)\n",
    "\n",
    "fib4.head(3)"
   ]
  },
  {
   "cell_type": "markdown",
   "metadata": {},
   "source": [
    "Показатель \"smoke\" - курит/не курит пациент"
   ]
  },
  {
   "cell_type": "code",
   "execution_count": 31,
   "metadata": {},
   "outputs": [
    {
     "name": "stderr",
     "output_type": "stream",
     "text": [
      "C:\\Users\\Елена\\AppData\\Local\\Temp\\ipykernel_24512\\675107422.py:9: SettingWithCopyWarning: \n",
      "A value is trying to be set on a copy of a slice from a DataFrame.\n",
      "Try using .loc[row_indexer,col_indexer] = value instead\n",
      "\n",
      "See the caveats in the documentation: https://pandas.pydata.org/pandas-docs/stable/user_guide/indexing.html#returning-a-view-versus-a-copy\n",
      "  smoke['result_smoke'] = smoke['value'].apply(get_smoke)\n"
     ]
    },
    {
     "data": {
      "text/html": [
       "<div>\n",
       "<style scoped>\n",
       "    .dataframe tbody tr th:only-of-type {\n",
       "        vertical-align: middle;\n",
       "    }\n",
       "\n",
       "    .dataframe tbody tr th {\n",
       "        vertical-align: top;\n",
       "    }\n",
       "\n",
       "    .dataframe thead th {\n",
       "        text-align: right;\n",
       "    }\n",
       "</style>\n",
       "<table border=\"1\" class=\"dataframe\">\n",
       "  <thead>\n",
       "    <tr style=\"text-align: right;\">\n",
       "      <th></th>\n",
       "      <th>id</th>\n",
       "      <th>test</th>\n",
       "      <th>value</th>\n",
       "      <th>result_smoke</th>\n",
       "    </tr>\n",
       "  </thead>\n",
       "  <tbody>\n",
       "    <tr>\n",
       "      <th>400</th>\n",
       "      <td>19</td>\n",
       "      <td>smoke</td>\n",
       "      <td>1.0</td>\n",
       "      <td>smoke</td>\n",
       "    </tr>\n",
       "    <tr>\n",
       "      <th>403</th>\n",
       "      <td>19</td>\n",
       "      <td>smoke</td>\n",
       "      <td>0.0</td>\n",
       "      <td>no smoke</td>\n",
       "    </tr>\n",
       "    <tr>\n",
       "      <th>488</th>\n",
       "      <td>25</td>\n",
       "      <td>smoke</td>\n",
       "      <td>0.0</td>\n",
       "      <td>no smoke</td>\n",
       "    </tr>\n",
       "  </tbody>\n",
       "</table>\n",
       "</div>"
      ],
      "text/plain": [
       "     id   test  value result_smoke\n",
       "400  19  smoke    1.0        smoke\n",
       "403  19  smoke    0.0     no smoke\n",
       "488  25  smoke    0.0     no smoke"
      ]
     },
     "execution_count": 31,
     "metadata": {},
     "output_type": "execute_result"
    }
   ],
   "source": [
    "smoke = drop_nafld_2.loc[drop_nafld_2['test'] == 'smoke']\n",
    "\n",
    "def get_smoke(value):\n",
    "    if value == 1:\n",
    "        return 'smoke'\n",
    "    else:\n",
    "        return 'no smoke'\n",
    "\n",
    "smoke['result_smoke'] = smoke['value'].apply(get_smoke)\n",
    "\n",
    "smoke.head(3)"
   ]
  },
  {
   "cell_type": "markdown",
   "metadata": {},
   "source": [
    "Теперь объединим получившиеся датафреймы с референсными значениями в один датафрейм"
   ]
  },
  {
   "cell_type": "code",
   "execution_count": 33,
   "metadata": {},
   "outputs": [
    {
     "data": {
      "text/html": [
       "<div>\n",
       "<style scoped>\n",
       "    .dataframe tbody tr th:only-of-type {\n",
       "        vertical-align: middle;\n",
       "    }\n",
       "\n",
       "    .dataframe tbody tr th {\n",
       "        vertical-align: top;\n",
       "    }\n",
       "\n",
       "    .dataframe thead th {\n",
       "        text-align: right;\n",
       "    }\n",
       "</style>\n",
       "<table border=\"1\" class=\"dataframe\">\n",
       "  <thead>\n",
       "    <tr style=\"text-align: right;\">\n",
       "      <th></th>\n",
       "      <th>id</th>\n",
       "      <th>test</th>\n",
       "    </tr>\n",
       "  </thead>\n",
       "  <tbody>\n",
       "    <tr>\n",
       "      <th>0</th>\n",
       "      <td>1</td>\n",
       "      <td>hdl, chol</td>\n",
       "    </tr>\n",
       "    <tr>\n",
       "      <th>1</th>\n",
       "      <td>2</td>\n",
       "      <td>hdl, chol</td>\n",
       "    </tr>\n",
       "    <tr>\n",
       "      <th>2</th>\n",
       "      <td>3</td>\n",
       "      <td>hdl, chol, sbp, dbp</td>\n",
       "    </tr>\n",
       "  </tbody>\n",
       "</table>\n",
       "</div>"
      ],
      "text/plain": [
       "   id                 test\n",
       "0   1            hdl, chol\n",
       "1   2            hdl, chol\n",
       "2   3  hdl, chol, sbp, dbp"
      ]
     },
     "execution_count": 33,
     "metadata": {},
     "output_type": "execute_result"
    }
   ],
   "source": [
    "nafld_2_groupped = drop_nafld_2.groupby('id')['test'].apply(lambda x: ', '.join(x)).reset_index()\n",
    "\n",
    "def remove_duplicates(text):\n",
    "    text = text.split(', ') # split text into words\n",
    "    text = Counter(text) # count the occurrence of each word\n",
    "    text = \", \".join(text.keys()) # join unique words back into a string\n",
    "    return text\n",
    "\n",
    "nafld_2_groupped['test'] = nafld_2_groupped['test'].apply(remove_duplicates)\n",
    "nafld_2_groupped.head(3)"
   ]
  },
  {
   "cell_type": "code",
   "execution_count": 34,
   "metadata": {},
   "outputs": [
    {
     "name": "stderr",
     "output_type": "stream",
     "text": [
      "C:\\Users\\Елена\\AppData\\Local\\Temp\\ipykernel_24512\\3002727236.py:3: FutureWarning: Passing 'suffixes' which cause duplicate columns {'value_x'} in the result is deprecated and will raise a MergeError in a future version.\n",
      "  nafld_2_join = reduce(lambda left,right: pd.merge(left,right,on='id', how='outer'), dataframes)\n",
      "C:\\Users\\Елена\\AppData\\Local\\Temp\\ipykernel_24512\\3002727236.py:3: FutureWarning: Passing 'suffixes' which cause duplicate columns {'value_x'} in the result is deprecated and will raise a MergeError in a future version.\n",
      "  nafld_2_join = reduce(lambda left,right: pd.merge(left,right,on='id', how='outer'), dataframes)\n"
     ]
    },
    {
     "data": {
      "text/html": [
       "<div>\n",
       "<style scoped>\n",
       "    .dataframe tbody tr th:only-of-type {\n",
       "        vertical-align: middle;\n",
       "    }\n",
       "\n",
       "    .dataframe tbody tr th {\n",
       "        vertical-align: top;\n",
       "    }\n",
       "\n",
       "    .dataframe thead th {\n",
       "        text-align: right;\n",
       "    }\n",
       "</style>\n",
       "<table border=\"1\" class=\"dataframe\">\n",
       "  <thead>\n",
       "    <tr style=\"text-align: right;\">\n",
       "      <th></th>\n",
       "      <th>id</th>\n",
       "      <th>test_x</th>\n",
       "      <th>value_x</th>\n",
       "      <th>MedianaHdl</th>\n",
       "      <th>result_hdl_mediana</th>\n",
       "      <th>value_y</th>\n",
       "      <th>MedianaChol</th>\n",
       "      <th>result_chol_mediana</th>\n",
       "      <th>value_x</th>\n",
       "      <th>MedianaSbp</th>\n",
       "      <th>result_sbp_mediana</th>\n",
       "      <th>value_y</th>\n",
       "      <th>MedianaDbp</th>\n",
       "      <th>result_dbp_mediana</th>\n",
       "      <th>test_y</th>\n",
       "      <th>value_x</th>\n",
       "      <th>result_fib4</th>\n",
       "      <th>test</th>\n",
       "      <th>value_y</th>\n",
       "      <th>result_smoke</th>\n",
       "    </tr>\n",
       "  </thead>\n",
       "  <tbody>\n",
       "    <tr>\n",
       "      <th>0</th>\n",
       "      <td>1</td>\n",
       "      <td>hdl, chol</td>\n",
       "      <td>[75.0, 64.0, 74.0, 50.0, 79.0]</td>\n",
       "      <td>74.0</td>\n",
       "      <td>ideal</td>\n",
       "      <td>[75.0, 64.0, 74.0, 50.0, 79.0]</td>\n",
       "      <td>74.0</td>\n",
       "      <td>ideal</td>\n",
       "      <td>NaN</td>\n",
       "      <td>NaN</td>\n",
       "      <td>NaN</td>\n",
       "      <td>NaN</td>\n",
       "      <td>NaN</td>\n",
       "      <td>NaN</td>\n",
       "      <td>NaN</td>\n",
       "      <td>NaN</td>\n",
       "      <td>NaN</td>\n",
       "      <td>NaN</td>\n",
       "      <td>NaN</td>\n",
       "      <td>NaN</td>\n",
       "    </tr>\n",
       "    <tr>\n",
       "      <th>1</th>\n",
       "      <td>2</td>\n",
       "      <td>hdl, chol</td>\n",
       "      <td>[61.0, 56.0, 87.0, 69.0, 86.0, 86.0]</td>\n",
       "      <td>77.5</td>\n",
       "      <td>ideal</td>\n",
       "      <td>[61.0, 56.0, 87.0, 69.0, 86.0, 86.0]</td>\n",
       "      <td>77.5</td>\n",
       "      <td>ideal</td>\n",
       "      <td>NaN</td>\n",
       "      <td>NaN</td>\n",
       "      <td>NaN</td>\n",
       "      <td>NaN</td>\n",
       "      <td>NaN</td>\n",
       "      <td>NaN</td>\n",
       "      <td>NaN</td>\n",
       "      <td>NaN</td>\n",
       "      <td>NaN</td>\n",
       "      <td>NaN</td>\n",
       "      <td>NaN</td>\n",
       "      <td>NaN</td>\n",
       "    </tr>\n",
       "    <tr>\n",
       "      <th>2</th>\n",
       "      <td>3</td>\n",
       "      <td>hdl, chol, sbp, dbp</td>\n",
       "      <td>[52.0, 63.0, 52.0]</td>\n",
       "      <td>52.0</td>\n",
       "      <td>normal</td>\n",
       "      <td>[52.0, 63.0, 52.0]</td>\n",
       "      <td>52.0</td>\n",
       "      <td>normal</td>\n",
       "      <td>[135.0]</td>\n",
       "      <td>135.0</td>\n",
       "      <td>high normal</td>\n",
       "      <td>[135.0]</td>\n",
       "      <td>135.0</td>\n",
       "      <td>hypertension</td>\n",
       "      <td>NaN</td>\n",
       "      <td>NaN</td>\n",
       "      <td>NaN</td>\n",
       "      <td>NaN</td>\n",
       "      <td>NaN</td>\n",
       "      <td>NaN</td>\n",
       "    </tr>\n",
       "  </tbody>\n",
       "</table>\n",
       "</div>"
      ],
      "text/plain": [
       "   id               test_x                               value_x  MedianaHdl  \\\n",
       "0   1            hdl, chol        [75.0, 64.0, 74.0, 50.0, 79.0]        74.0   \n",
       "1   2            hdl, chol  [61.0, 56.0, 87.0, 69.0, 86.0, 86.0]        77.5   \n",
       "2   3  hdl, chol, sbp, dbp                    [52.0, 63.0, 52.0]        52.0   \n",
       "\n",
       "  result_hdl_mediana                               value_y  MedianaChol  \\\n",
       "0              ideal        [75.0, 64.0, 74.0, 50.0, 79.0]         74.0   \n",
       "1              ideal  [61.0, 56.0, 87.0, 69.0, 86.0, 86.0]         77.5   \n",
       "2             normal                    [52.0, 63.0, 52.0]         52.0   \n",
       "\n",
       "  result_chol_mediana  value_x  MedianaSbp result_sbp_mediana  value_y  \\\n",
       "0               ideal      NaN         NaN                NaN      NaN   \n",
       "1               ideal      NaN         NaN                NaN      NaN   \n",
       "2              normal  [135.0]       135.0        high normal  [135.0]   \n",
       "\n",
       "   MedianaDbp result_dbp_mediana test_y  value_x result_fib4 test  value_y  \\\n",
       "0         NaN                NaN    NaN      NaN         NaN  NaN      NaN   \n",
       "1         NaN                NaN    NaN      NaN         NaN  NaN      NaN   \n",
       "2       135.0       hypertension    NaN      NaN         NaN  NaN      NaN   \n",
       "\n",
       "  result_smoke  \n",
       "0          NaN  \n",
       "1          NaN  \n",
       "2          NaN  "
      ]
     },
     "execution_count": 34,
     "metadata": {},
     "output_type": "execute_result"
    }
   ],
   "source": [
    "dataframes = [nafld_2_groupped, hdl_group, chol_group, sbp_group, dbp_group, fib4, smoke]\n",
    "\n",
    "nafld_2_join = reduce(lambda left,right: pd.merge(left,right,on='id', how='outer'), dataframes)\n",
    "nafld_2_join.head(3)"
   ]
  },
  {
   "cell_type": "code",
   "execution_count": 35,
   "metadata": {},
   "outputs": [
    {
     "name": "stdout",
     "output_type": "stream",
     "text": [
      "<class 'pandas.core.frame.DataFrame'>\n",
      "Int64Index: 19457 entries, 0 to 19456\n",
      "Data columns (total 20 columns):\n",
      " #   Column               Non-Null Count  Dtype  \n",
      "---  ------               --------------  -----  \n",
      " 0   id                   19457 non-null  int64  \n",
      " 1   test_x               19457 non-null  object \n",
      " 2   value_x              18828 non-null  object \n",
      " 3   MedianaHdl           18828 non-null  float64\n",
      " 4   result_hdl_mediana   18828 non-null  object \n",
      " 5   value_y              18827 non-null  object \n",
      " 6   MedianaChol          18827 non-null  float64\n",
      " 7   result_chol_mediana  18827 non-null  object \n",
      " 8   value_x              9955 non-null   object \n",
      " 9   MedianaSbp           9955 non-null   float64\n",
      " 10  result_sbp_mediana   9955 non-null   object \n",
      " 11  value_y              9955 non-null   object \n",
      " 12  MedianaDbp           9955 non-null   float64\n",
      " 13  result_dbp_mediana   9955 non-null   object \n",
      " 14  test_y               5180 non-null   object \n",
      " 15  value_x              5180 non-null   float64\n",
      " 16  result_fib4          5180 non-null   object \n",
      " 17  test                 7058 non-null   object \n",
      " 18  value_y              7058 non-null   float64\n",
      " 19  result_smoke         7058 non-null   object \n",
      "dtypes: float64(6), int64(1), object(13)\n",
      "memory usage: 3.1+ MB\n"
     ]
    }
   ],
   "source": [
    "nafld_2_join.info()"
   ]
  },
  {
   "cell_type": "markdown",
   "metadata": {},
   "source": [
    "Удалим лишние столбцы"
   ]
  },
  {
   "cell_type": "code",
   "execution_count": 36,
   "metadata": {},
   "outputs": [
    {
     "name": "stdout",
     "output_type": "stream",
     "text": [
      "<class 'pandas.core.frame.DataFrame'>\n",
      "Int64Index: 19457 entries, 0 to 19456\n",
      "Data columns (total 11 columns):\n",
      " #   Column               Non-Null Count  Dtype  \n",
      "---  ------               --------------  -----  \n",
      " 0   id                   19457 non-null  int64  \n",
      " 1   MedianaHdl           18828 non-null  float64\n",
      " 2   result_hdl_mediana   18828 non-null  object \n",
      " 3   MedianaChol          18827 non-null  float64\n",
      " 4   result_chol_mediana  18827 non-null  object \n",
      " 5   MedianaSbp           9955 non-null   float64\n",
      " 6   result_sbp_mediana   9955 non-null   object \n",
      " 7   MedianaDbp           9955 non-null   float64\n",
      " 8   result_dbp_mediana   9955 non-null   object \n",
      " 9   result_fib4          5180 non-null   object \n",
      " 10  result_smoke         7058 non-null   object \n",
      "dtypes: float64(4), int64(1), object(6)\n",
      "memory usage: 1.8+ MB\n"
     ]
    }
   ],
   "source": [
    "nafld_2_join = nafld_2_join.drop(['value_y', 'value_x', 'test_y', 'test_x', 'test'], axis=1)\n",
    "nafld_2_join.info()"
   ]
  },
  {
   "cell_type": "code",
   "execution_count": 37,
   "metadata": {},
   "outputs": [
    {
     "data": {
      "text/html": [
       "<div>\n",
       "<style scoped>\n",
       "    .dataframe tbody tr th:only-of-type {\n",
       "        vertical-align: middle;\n",
       "    }\n",
       "\n",
       "    .dataframe tbody tr th {\n",
       "        vertical-align: top;\n",
       "    }\n",
       "\n",
       "    .dataframe thead th {\n",
       "        text-align: right;\n",
       "    }\n",
       "</style>\n",
       "<table border=\"1\" class=\"dataframe\">\n",
       "  <thead>\n",
       "    <tr style=\"text-align: right;\">\n",
       "      <th></th>\n",
       "      <th>id</th>\n",
       "      <th>MedianaHdl</th>\n",
       "      <th>result_hdl_mediana</th>\n",
       "      <th>MedianaChol</th>\n",
       "      <th>result_chol_mediana</th>\n",
       "      <th>MedianaSbp</th>\n",
       "      <th>result_sbp_mediana</th>\n",
       "      <th>MedianaDbp</th>\n",
       "      <th>result_dbp_mediana</th>\n",
       "      <th>result_fib4</th>\n",
       "      <th>result_smoke</th>\n",
       "    </tr>\n",
       "  </thead>\n",
       "  <tbody>\n",
       "    <tr>\n",
       "      <th>0</th>\n",
       "      <td>1</td>\n",
       "      <td>74.0</td>\n",
       "      <td>ideal</td>\n",
       "      <td>74.0</td>\n",
       "      <td>ideal</td>\n",
       "      <td>NaN</td>\n",
       "      <td>NaN</td>\n",
       "      <td>NaN</td>\n",
       "      <td>NaN</td>\n",
       "      <td>NaN</td>\n",
       "      <td>NaN</td>\n",
       "    </tr>\n",
       "    <tr>\n",
       "      <th>1</th>\n",
       "      <td>2</td>\n",
       "      <td>77.5</td>\n",
       "      <td>ideal</td>\n",
       "      <td>77.5</td>\n",
       "      <td>ideal</td>\n",
       "      <td>NaN</td>\n",
       "      <td>NaN</td>\n",
       "      <td>NaN</td>\n",
       "      <td>NaN</td>\n",
       "      <td>NaN</td>\n",
       "      <td>NaN</td>\n",
       "    </tr>\n",
       "    <tr>\n",
       "      <th>2</th>\n",
       "      <td>3</td>\n",
       "      <td>52.0</td>\n",
       "      <td>normal</td>\n",
       "      <td>52.0</td>\n",
       "      <td>normal</td>\n",
       "      <td>135.0</td>\n",
       "      <td>high normal</td>\n",
       "      <td>135.0</td>\n",
       "      <td>hypertension</td>\n",
       "      <td>NaN</td>\n",
       "      <td>NaN</td>\n",
       "    </tr>\n",
       "  </tbody>\n",
       "</table>\n",
       "</div>"
      ],
      "text/plain": [
       "   id  MedianaHdl result_hdl_mediana  MedianaChol result_chol_mediana  \\\n",
       "0   1        74.0              ideal         74.0               ideal   \n",
       "1   2        77.5              ideal         77.5               ideal   \n",
       "2   3        52.0             normal         52.0              normal   \n",
       "\n",
       "   MedianaSbp result_sbp_mediana  MedianaDbp result_dbp_mediana result_fib4  \\\n",
       "0         NaN                NaN         NaN                NaN         NaN   \n",
       "1         NaN                NaN         NaN                NaN         NaN   \n",
       "2       135.0        high normal       135.0       hypertension         NaN   \n",
       "\n",
       "  result_smoke  \n",
       "0          NaN  \n",
       "1          NaN  \n",
       "2          NaN  "
      ]
     },
     "execution_count": 37,
     "metadata": {},
     "output_type": "execute_result"
    }
   ],
   "source": [
    "nafld_2_join.head(3)"
   ]
  },
  {
   "cell_type": "markdown",
   "metadata": {},
   "source": [
    "#### Таблица №3\n"
   ]
  },
  {
   "cell_type": "code",
   "execution_count": 38,
   "metadata": {},
   "outputs": [
    {
     "data": {
      "text/html": [
       "<div>\n",
       "<style scoped>\n",
       "    .dataframe tbody tr th:only-of-type {\n",
       "        vertical-align: middle;\n",
       "    }\n",
       "\n",
       "    .dataframe tbody tr th {\n",
       "        vertical-align: top;\n",
       "    }\n",
       "\n",
       "    .dataframe thead th {\n",
       "        text-align: right;\n",
       "    }\n",
       "</style>\n",
       "<table border=\"1\" class=\"dataframe\">\n",
       "  <thead>\n",
       "    <tr style=\"text-align: right;\">\n",
       "      <th></th>\n",
       "      <th>rownames</th>\n",
       "      <th>id</th>\n",
       "      <th>days</th>\n",
       "      <th>event</th>\n",
       "    </tr>\n",
       "  </thead>\n",
       "  <tbody>\n",
       "    <tr>\n",
       "      <th>0</th>\n",
       "      <td>2</td>\n",
       "      <td>3</td>\n",
       "      <td>0</td>\n",
       "      <td>nafld</td>\n",
       "    </tr>\n",
       "    <tr>\n",
       "      <th>1</th>\n",
       "      <td>3</td>\n",
       "      <td>4</td>\n",
       "      <td>-1287</td>\n",
       "      <td>htn</td>\n",
       "    </tr>\n",
       "  </tbody>\n",
       "</table>\n",
       "</div>"
      ],
      "text/plain": [
       "   rownames  id  days  event\n",
       "0         2   3     0  nafld\n",
       "1         3   4 -1287    htn"
      ]
     },
     "execution_count": 38,
     "metadata": {},
     "output_type": "execute_result"
    }
   ],
   "source": [
    "nafld_3.head(2)"
   ]
  },
  {
   "cell_type": "markdown",
   "metadata": {},
   "source": [
    "Удалить столбец 'rownames'/\n",
    "Дни преобразовть в года"
   ]
  },
  {
   "cell_type": "code",
   "execution_count": 39,
   "metadata": {},
   "outputs": [
    {
     "data": {
      "text/html": [
       "<div>\n",
       "<style scoped>\n",
       "    .dataframe tbody tr th:only-of-type {\n",
       "        vertical-align: middle;\n",
       "    }\n",
       "\n",
       "    .dataframe tbody tr th {\n",
       "        vertical-align: top;\n",
       "    }\n",
       "\n",
       "    .dataframe thead th {\n",
       "        text-align: right;\n",
       "    }\n",
       "</style>\n",
       "<table border=\"1\" class=\"dataframe\">\n",
       "  <thead>\n",
       "    <tr style=\"text-align: right;\">\n",
       "      <th></th>\n",
       "      <th>id</th>\n",
       "      <th>days</th>\n",
       "      <th>event</th>\n",
       "      <th>years</th>\n",
       "    </tr>\n",
       "  </thead>\n",
       "  <tbody>\n",
       "    <tr>\n",
       "      <th>0</th>\n",
       "      <td>3</td>\n",
       "      <td>0</td>\n",
       "      <td>nafld</td>\n",
       "      <td>0.00</td>\n",
       "    </tr>\n",
       "    <tr>\n",
       "      <th>1</th>\n",
       "      <td>4</td>\n",
       "      <td>-1287</td>\n",
       "      <td>htn</td>\n",
       "      <td>-3.53</td>\n",
       "    </tr>\n",
       "    <tr>\n",
       "      <th>2</th>\n",
       "      <td>4</td>\n",
       "      <td>-1287</td>\n",
       "      <td>dyslipidemia</td>\n",
       "      <td>-3.53</td>\n",
       "    </tr>\n",
       "  </tbody>\n",
       "</table>\n",
       "</div>"
      ],
      "text/plain": [
       "   id  days         event  years\n",
       "0   3     0         nafld   0.00\n",
       "1   4 -1287           htn  -3.53\n",
       "2   4 -1287  dyslipidemia  -3.53"
      ]
     },
     "execution_count": 39,
     "metadata": {},
     "output_type": "execute_result"
    }
   ],
   "source": [
    "drop_nafld_3 = nafld_3.copy()\n",
    "drop_nafld_3 = drop_nafld_3.drop('rownames', axis=1)\n",
    "drop_nafld_3['years'] = round(drop_nafld_3['days']/365, 2)\n",
    "drop_nafld_3.head(3)"
   ]
  },
  {
   "cell_type": "code",
   "execution_count": 40,
   "metadata": {},
   "outputs": [
    {
     "data": {
      "text/plain": [
       "17430    14\n",
       "1682     13\n",
       "3238     13\n",
       "3842     13\n",
       "3784     12\n",
       "         ..\n",
       "12730     1\n",
       "5952      1\n",
       "12728     1\n",
       "5953      1\n",
       "3         1\n",
       "Name: id, Length: 12454, dtype: int64"
      ]
     },
     "execution_count": 40,
     "metadata": {},
     "output_type": "execute_result"
    }
   ],
   "source": [
    "drop_nafld_3['id'].value_counts()"
   ]
  },
  {
   "cell_type": "code",
   "execution_count": 77,
   "metadata": {},
   "outputs": [],
   "source": [
    "# drop_nafld_3.loc[drop_nafld_3['id'] == 3238]"
   ]
  },
  {
   "cell_type": "code",
   "execution_count": 78,
   "metadata": {},
   "outputs": [],
   "source": [
    "# display(drop_nafld_1.loc[drop_nafld_1['id'] == 15446])\n",
    "# display(drop_nafld_2.loc[drop_nafld_2['id'] == 15446])\n",
    "# display(drop_nafld_3.loc[drop_nafld_3['id'] == 15446])"
   ]
  },
  {
   "cell_type": "markdown",
   "metadata": {},
   "source": [
    "Выполним кодировку категориального признака \"event\" - диагнозов, имеющихся у пациента"
   ]
  },
  {
   "cell_type": "code",
   "execution_count": 42,
   "metadata": {},
   "outputs": [
    {
     "data": {
      "text/html": [
       "<div>\n",
       "<style scoped>\n",
       "    .dataframe tbody tr th:only-of-type {\n",
       "        vertical-align: middle;\n",
       "    }\n",
       "\n",
       "    .dataframe tbody tr th {\n",
       "        vertical-align: top;\n",
       "    }\n",
       "\n",
       "    .dataframe thead th {\n",
       "        text-align: right;\n",
       "    }\n",
       "</style>\n",
       "<table border=\"1\" class=\"dataframe\">\n",
       "  <thead>\n",
       "    <tr style=\"text-align: right;\">\n",
       "      <th></th>\n",
       "      <th>id</th>\n",
       "      <th>event</th>\n",
       "    </tr>\n",
       "  </thead>\n",
       "  <tbody>\n",
       "    <tr>\n",
       "      <th>0</th>\n",
       "      <td>3</td>\n",
       "      <td>nafld</td>\n",
       "    </tr>\n",
       "    <tr>\n",
       "      <th>1</th>\n",
       "      <td>4</td>\n",
       "      <td>htn, dyslipidemia, ang/isc, ang/isc</td>\n",
       "    </tr>\n",
       "    <tr>\n",
       "      <th>2</th>\n",
       "      <td>5</td>\n",
       "      <td>htn</td>\n",
       "    </tr>\n",
       "  </tbody>\n",
       "</table>\n",
       "</div>"
      ],
      "text/plain": [
       "   id                                event\n",
       "0   3                                nafld\n",
       "1   4  htn, dyslipidemia, ang/isc, ang/isc\n",
       "2   5                                  htn"
      ]
     },
     "execution_count": 42,
     "metadata": {},
     "output_type": "execute_result"
    }
   ],
   "source": [
    "nafld_3_grouped = drop_nafld_3.groupby('id')['event'].apply(lambda x: ', '.join(x)).reset_index()\n",
    "nafld_3_grouped.head(3)"
   ]
  },
  {
   "cell_type": "code",
   "execution_count": 44,
   "metadata": {},
   "outputs": [
    {
     "data": {
      "text/html": [
       "<div>\n",
       "<style scoped>\n",
       "    .dataframe tbody tr th:only-of-type {\n",
       "        vertical-align: middle;\n",
       "    }\n",
       "\n",
       "    .dataframe tbody tr th {\n",
       "        vertical-align: top;\n",
       "    }\n",
       "\n",
       "    .dataframe thead th {\n",
       "        text-align: right;\n",
       "    }\n",
       "</style>\n",
       "<table border=\"1\" class=\"dataframe\">\n",
       "  <thead>\n",
       "    <tr style=\"text-align: right;\">\n",
       "      <th></th>\n",
       "      <th>id</th>\n",
       "      <th>event</th>\n",
       "      <th>nafld</th>\n",
       "      <th>dyslipidemia</th>\n",
       "      <th>ang/isc</th>\n",
       "      <th>diabetes</th>\n",
       "      <th>stroke</th>\n",
       "      <th>afib</th>\n",
       "      <th>heart failure</th>\n",
       "      <th>MI</th>\n",
       "      <th>cardiac arrest</th>\n",
       "      <th>htn</th>\n",
       "    </tr>\n",
       "  </thead>\n",
       "  <tbody>\n",
       "    <tr>\n",
       "      <th>0</th>\n",
       "      <td>3</td>\n",
       "      <td>nafld</td>\n",
       "      <td>1</td>\n",
       "      <td>0</td>\n",
       "      <td>0</td>\n",
       "      <td>0</td>\n",
       "      <td>0</td>\n",
       "      <td>0</td>\n",
       "      <td>0</td>\n",
       "      <td>0</td>\n",
       "      <td>0</td>\n",
       "      <td>0</td>\n",
       "    </tr>\n",
       "    <tr>\n",
       "      <th>1</th>\n",
       "      <td>4</td>\n",
       "      <td>htn, dyslipidemia, ang/isc, ang/isc</td>\n",
       "      <td>0</td>\n",
       "      <td>1</td>\n",
       "      <td>1</td>\n",
       "      <td>0</td>\n",
       "      <td>0</td>\n",
       "      <td>0</td>\n",
       "      <td>0</td>\n",
       "      <td>0</td>\n",
       "      <td>0</td>\n",
       "      <td>1</td>\n",
       "    </tr>\n",
       "    <tr>\n",
       "      <th>2</th>\n",
       "      <td>5</td>\n",
       "      <td>htn</td>\n",
       "      <td>0</td>\n",
       "      <td>0</td>\n",
       "      <td>0</td>\n",
       "      <td>0</td>\n",
       "      <td>0</td>\n",
       "      <td>0</td>\n",
       "      <td>0</td>\n",
       "      <td>0</td>\n",
       "      <td>0</td>\n",
       "      <td>1</td>\n",
       "    </tr>\n",
       "  </tbody>\n",
       "</table>\n",
       "</div>"
      ],
      "text/plain": [
       "   id                                event  nafld  dyslipidemia  ang/isc  \\\n",
       "0   3                                nafld      1             0        0   \n",
       "1   4  htn, dyslipidemia, ang/isc, ang/isc      0             1        1   \n",
       "2   5                                  htn      0             0        0   \n",
       "\n",
       "   diabetes  stroke  afib  heart failure  MI  cardiac arrest  htn  \n",
       "0         0       0     0              0   0               0    0  \n",
       "1         0       0     0              0   0               0    1  \n",
       "2         0       0     0              0   0               0    1  "
      ]
     },
     "execution_count": 44,
     "metadata": {},
     "output_type": "execute_result"
    }
   ],
   "source": [
    "nafld_3_grouped['event_list'] = nafld_3_grouped['event'].apply(lambda x: x.split(', '))\n",
    "nafld_3_grouped['nafld'] = nafld_3_grouped['event_list'].apply(lambda x: 1 if 'nafld' in x else 0)\n",
    "nafld_3_grouped['dyslipidemia'] = nafld_3_grouped['event_list'].apply(lambda x: 1 if 'dyslipidemia' in x else 0)\n",
    "nafld_3_grouped['ang/isc'] = nafld_3_grouped['event_list'].apply(lambda x: 1 if 'ang/isc' in x else 0)\n",
    "nafld_3_grouped['diabetes'] = nafld_3_grouped['event_list'].apply(lambda x: 1 if 'diabetes' in x else 0)\n",
    "nafld_3_grouped['stroke'] = nafld_3_grouped['event_list'].apply(lambda x: 1 if 'stroke' in x else 0)\n",
    "nafld_3_grouped['afib'] = nafld_3_grouped['event_list'].apply(lambda x: 1 if 'afib' in x else 0)\n",
    "nafld_3_grouped['heart failure'] = nafld_3_grouped['event_list'].apply(lambda x: 1 if 'heart failure' in x else 0)\n",
    "nafld_3_grouped['MI'] = nafld_3_grouped['event_list'].apply(lambda x: 1 if 'MI' in x else 0)\n",
    "nafld_3_grouped['cardiac arrest'] = nafld_3_grouped['event_list'].apply(lambda x: 1 if 'cardiac arrest' in x else 0)\n",
    "nafld_3_grouped['htn'] = nafld_3_grouped['event_list'].apply(lambda x: 1 if 'htn' in x else 0)\n",
    "\n",
    "nafld_3_grouped = nafld_3_grouped.drop('event_list', axis=1)\n",
    "nafld_3_grouped.head(3)"
   ]
  },
  {
   "cell_type": "markdown",
   "metadata": {},
   "source": [
    "Сохранить преобразованные датафреймы"
   ]
  },
  {
   "cell_type": "code",
   "execution_count": 45,
   "metadata": {},
   "outputs": [],
   "source": [
    "drop_nafld_1.to_csv('D:\\курс по data science\\IDE\\diplom_project\\data_2\\processed_nafld_1.csv', index=False)\n",
    "nafld_2_join.to_csv('D:\\курс по data science\\IDE\\diplom_project\\data_2\\processed_nafld_2.csv', index=False)\n",
    "nafld_3_grouped.to_csv('D:\\курс по data science\\IDE\\diplom_project\\data_2\\processed_nafld_3.csv', index=False)"
   ]
  }
 ],
 "metadata": {
  "kernelspec": {
   "display_name": "Python 3",
   "language": "python",
   "name": "python3"
  },
  "language_info": {
   "codemirror_mode": {
    "name": "ipython",
    "version": 3
   },
   "file_extension": ".py",
   "mimetype": "text/x-python",
   "name": "python",
   "nbconvert_exporter": "python",
   "pygments_lexer": "ipython3",
   "version": "3.9.10"
  }
 },
 "nbformat": 4,
 "nbformat_minor": 2
}
